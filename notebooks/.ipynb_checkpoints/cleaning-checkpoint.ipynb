{
 "cells": [
  {
   "cell_type": "markdown",
   "id": "3d6dfdf6-afb8-4cb3-acc8-9eb07ea0b7e5",
   "metadata": {},
   "source": [
    "# Limpeza de dados do dataset"
   ]
  },
  {
   "cell_type": "markdown",
   "id": "46a08b07-0446-4b42-8fc4-5ca4582d8e3a",
   "metadata": {
    "jp-MarkdownHeadingCollapsed": true
   },
   "source": [
    "## 1) Imports"
   ]
  },
  {
   "cell_type": "code",
   "execution_count": 11,
   "id": "45e49467-c1cd-4d77-b1f5-c83799783b90",
   "metadata": {},
   "outputs": [
    {
     "data": {
      "text/html": [
       "<div>\n",
       "<style scoped>\n",
       "    .dataframe tbody tr th:only-of-type {\n",
       "        vertical-align: middle;\n",
       "    }\n",
       "\n",
       "    .dataframe tbody tr th {\n",
       "        vertical-align: top;\n",
       "    }\n",
       "\n",
       "    .dataframe thead th {\n",
       "        text-align: right;\n",
       "    }\n",
       "</style>\n",
       "<table border=\"1\" class=\"dataframe\">\n",
       "  <thead>\n",
       "    <tr style=\"text-align: right;\">\n",
       "      <th></th>\n",
       "      <th>Brand</th>\n",
       "      <th>Model</th>\n",
       "      <th>Year</th>\n",
       "      <th>Engine_Size</th>\n",
       "      <th>Fuel_Type</th>\n",
       "      <th>Transmission</th>\n",
       "      <th>Mileage</th>\n",
       "      <th>Doors</th>\n",
       "      <th>Owner_Count</th>\n",
       "      <th>Price</th>\n",
       "    </tr>\n",
       "  </thead>\n",
       "  <tbody>\n",
       "    <tr>\n",
       "      <th>0</th>\n",
       "      <td>Kia</td>\n",
       "      <td>Rio</td>\n",
       "      <td>2020</td>\n",
       "      <td>4.2</td>\n",
       "      <td>Diesel</td>\n",
       "      <td>Manual</td>\n",
       "      <td>289944</td>\n",
       "      <td>3</td>\n",
       "      <td>5</td>\n",
       "      <td>8501</td>\n",
       "    </tr>\n",
       "    <tr>\n",
       "      <th>1</th>\n",
       "      <td>Chevrolet</td>\n",
       "      <td>Malibu</td>\n",
       "      <td>2012</td>\n",
       "      <td>2.0</td>\n",
       "      <td>Hybrid</td>\n",
       "      <td>Automatic</td>\n",
       "      <td>5356</td>\n",
       "      <td>2</td>\n",
       "      <td>3</td>\n",
       "      <td>12092</td>\n",
       "    </tr>\n",
       "    <tr>\n",
       "      <th>2</th>\n",
       "      <td>Mercedes</td>\n",
       "      <td>GLA</td>\n",
       "      <td>2020</td>\n",
       "      <td>4.2</td>\n",
       "      <td>Diesel</td>\n",
       "      <td>Automatic</td>\n",
       "      <td>231440</td>\n",
       "      <td>4</td>\n",
       "      <td>2</td>\n",
       "      <td>11171</td>\n",
       "    </tr>\n",
       "    <tr>\n",
       "      <th>3</th>\n",
       "      <td>Audi</td>\n",
       "      <td>Q5</td>\n",
       "      <td>2023</td>\n",
       "      <td>2.0</td>\n",
       "      <td>Electric</td>\n",
       "      <td>Manual</td>\n",
       "      <td>160971</td>\n",
       "      <td>2</td>\n",
       "      <td>1</td>\n",
       "      <td>11780</td>\n",
       "    </tr>\n",
       "    <tr>\n",
       "      <th>4</th>\n",
       "      <td>Volkswagen</td>\n",
       "      <td>Golf</td>\n",
       "      <td>2003</td>\n",
       "      <td>2.6</td>\n",
       "      <td>Hybrid</td>\n",
       "      <td>Semi-Automatic</td>\n",
       "      <td>286618</td>\n",
       "      <td>3</td>\n",
       "      <td>3</td>\n",
       "      <td>2867</td>\n",
       "    </tr>\n",
       "  </tbody>\n",
       "</table>\n",
       "</div>"
      ],
      "text/plain": [
       "        Brand   Model  Year  Engine_Size Fuel_Type    Transmission  Mileage  \\\n",
       "0         Kia     Rio  2020          4.2    Diesel          Manual   289944   \n",
       "1   Chevrolet  Malibu  2012          2.0    Hybrid       Automatic     5356   \n",
       "2    Mercedes     GLA  2020          4.2    Diesel       Automatic   231440   \n",
       "3        Audi      Q5  2023          2.0  Electric          Manual   160971   \n",
       "4  Volkswagen    Golf  2003          2.6    Hybrid  Semi-Automatic   286618   \n",
       "\n",
       "   Doors  Owner_Count  Price  \n",
       "0      3            5   8501  \n",
       "1      2            3  12092  \n",
       "2      4            2  11171  \n",
       "3      2            1  11780  \n",
       "4      3            3   2867  "
      ]
     },
     "execution_count": 11,
     "metadata": {},
     "output_type": "execute_result"
    }
   ],
   "source": [
    "# Imports de bibliotecas\n",
    "import pandas as pd\n",
    "import numpy as np\n",
    "import missingno as mso\n",
    "import seaborn as sns\n",
    "import matplotlib as plt\n",
    "import scipy as sp\n",
    "import kagglehub\n",
    "import os\n",
    "\n",
    "# Import dos dados brutos do Kaggle\n",
    "path = kagglehub.dataset_download(\"mos3santos/conjunto-de-dados-de-preos-de-carros\")\n",
    "df = pd.read_csv(path + \"/car_price_dataset.csv\", low_memory=False)\n",
    "df.head()"
   ]
  },
  {
   "cell_type": "markdown",
   "id": "4fcc71ad-8c65-4f51-be0f-8d86b6a77e64",
   "metadata": {},
   "source": [
    "## Salvando dados brutos no diretório de dados raw"
   ]
  },
  {
   "cell_type": "code",
   "execution_count": 10,
   "id": "d32eaeed-f3ab-4b77-82fb-b53918742cfd",
   "metadata": {},
   "outputs": [
    {
     "name": "stdout",
     "output_type": "stream",
     "text": [
      "Arquivo car_price_dataset_raw.csv já existia, será sobrescrito.\n",
      "Arquivo salvo em: ../dados/raw\\car_price_dataset_raw.csv\n"
     ]
    }
   ],
   "source": [
    "# Cópia do dataset no estado bruto\n",
    "raw = df.copy()\n",
    "\n",
    "diretorio = '../dados/raw'\n",
    "nome_arquivo = 'car_price_dataset_raw.csv'\n",
    "caminho_completo = os.path.join(diretorio, nome_arquivo)\n",
    "\n",
    "# Criar diretório se não existir\n",
    "os.makedirs(diretorio, exist_ok=True)\n",
    "\n",
    "# Verificar se já existe\n",
    "if os.path.isfile(caminho_completo):\n",
    "    print(f\"Arquivo {nome_arquivo} já existia, será sobrescrito.\")\n",
    "else:\n",
    "    print(f\"Criando novo arquivo: {nome_arquivo}\")\n",
    "\n",
    "# Salvar\n",
    "raw.to_csv(caminho_completo, index=False)\n",
    "print(f\"Arquivo salvo em: {caminho_completo}\")"
   ]
  },
  {
   "cell_type": "markdown",
   "id": "453b2590-e7a6-4b7b-841c-c08e6f563652",
   "metadata": {},
   "source": [
    "## 2) Análise de Missing Values"
   ]
  },
  {
   "cell_type": "markdown",
   "id": "1c16faf1-8c22-4d3a-ab52-44792234bdcd",
   "metadata": {},
   "source": [
    "### Salvando dados brutos na pasta raw"
   ]
  },
  {
   "cell_type": "code",
   "execution_count": 15,
   "id": "c0db765e-3824-4b5e-b2d8-e769853e53d5",
   "metadata": {},
   "outputs": [
    {
     "name": "stdout",
     "output_type": "stream",
     "text": [
      "Arquivo car_price_dataset_raw.csv já existia, será sobrescrito.\n",
      "Arquivo salvo em: ../dados/raw\\car_price_dataset_raw.csv\n"
     ]
    }
   ],
   "source": [
    "# Cópia do dataset no estado bruto\n",
    "raw = df.copy()\n",
    "\n",
    "# Caminho correto: sair de notebooks/ e ir para dados/raw/\n",
    "diretorio = '../dados/raw'  # ../ para subir um nível\n",
    "nome_arquivo = 'car_price_dataset_raw.csv'\n",
    "caminho_completo = os.path.join(diretorio, nome_arquivo)\n",
    "\n",
    "# Criar diretório se não existir\n",
    "os.makedirs(diretorio, exist_ok=True)\n",
    "\n",
    "# Verificar se já existe\n",
    "if os.path.isfile(caminho_completo):\n",
    "    print(f\"Arquivo {nome_arquivo} já existia, será sobrescrito.\")\n",
    "else:\n",
    "    print(f\"Criando novo arquivo: {nome_arquivo}\")\n",
    "\n",
    "# Salvar\n",
    "raw.to_csv(caminho_completo, index=False)\n",
    "print(f\"Arquivo salvo em: {caminho_completo}\")"
   ]
  },
  {
   "cell_type": "code",
   "execution_count": null,
   "id": "b12d717f-7b17-4b8d-818a-1d48c42e5b98",
   "metadata": {},
   "outputs": [],
   "source": []
  }
 ],
 "metadata": {
  "kernelspec": {
   "display_name": "Python 3 (ipykernel)",
   "language": "python",
   "name": "python3"
  },
  "language_info": {
   "codemirror_mode": {
    "name": "ipython",
    "version": 3
   },
   "file_extension": ".py",
   "mimetype": "text/x-python",
   "name": "python",
   "nbconvert_exporter": "python",
   "pygments_lexer": "ipython3",
   "version": "3.11.11"
  }
 },
 "nbformat": 4,
 "nbformat_minor": 5
}
