{
 "cells": [
  {
   "cell_type": "markdown",
   "id": "3d6dfdf6-afb8-4cb3-acc8-9eb07ea0b7e5",
   "metadata": {},
   "source": [
    "# Limpeza e Tratamento de dados do dataset"
   ]
  },
  {
   "cell_type": "markdown",
   "id": "46a08b07-0446-4b42-8fc4-5ca4582d8e3a",
   "metadata": {
    "jp-MarkdownHeadingCollapsed": true
   },
   "source": [
    "## 1) Imports"
   ]
  },
  {
   "cell_type": "code",
   "execution_count": 13,
   "id": "45e49467-c1cd-4d77-b1f5-c83799783b90",
   "metadata": {},
   "outputs": [
    {
     "data": {
      "application/vnd.microsoft.datawrangler.viewer.v0+json": {
       "columns": [
        {
         "name": "index",
         "rawType": "int64",
         "type": "integer"
        },
        {
         "name": "Brand",
         "rawType": "object",
         "type": "string"
        },
        {
         "name": "Model",
         "rawType": "object",
         "type": "string"
        },
        {
         "name": "Year",
         "rawType": "int64",
         "type": "integer"
        },
        {
         "name": "Engine_Size",
         "rawType": "float64",
         "type": "float"
        },
        {
         "name": "Fuel_Type",
         "rawType": "object",
         "type": "string"
        },
        {
         "name": "Transmission",
         "rawType": "object",
         "type": "string"
        },
        {
         "name": "Mileage",
         "rawType": "int64",
         "type": "integer"
        },
        {
         "name": "Doors",
         "rawType": "int64",
         "type": "integer"
        },
        {
         "name": "Owner_Count",
         "rawType": "int64",
         "type": "integer"
        },
        {
         "name": "Price",
         "rawType": "int64",
         "type": "integer"
        }
       ],
       "ref": "cfa8f8c8-da83-47b2-87cd-d19976908e8b",
       "rows": [
        [
         "0",
         "Kia",
         "Rio",
         "2020",
         "4.2",
         "Diesel",
         "Manual",
         "289944",
         "3",
         "5",
         "8501"
        ],
        [
         "1",
         "Chevrolet",
         "Malibu",
         "2012",
         "2.0",
         "Hybrid",
         "Automatic",
         "5356",
         "2",
         "3",
         "12092"
        ],
        [
         "2",
         "Mercedes",
         "GLA",
         "2020",
         "4.2",
         "Diesel",
         "Automatic",
         "231440",
         "4",
         "2",
         "11171"
        ],
        [
         "3",
         "Audi",
         "Q5",
         "2023",
         "2.0",
         "Electric",
         "Manual",
         "160971",
         "2",
         "1",
         "11780"
        ],
        [
         "4",
         "Volkswagen",
         "Golf",
         "2003",
         "2.6",
         "Hybrid",
         "Semi-Automatic",
         "286618",
         "3",
         "3",
         "2867"
        ]
       ],
       "shape": {
        "columns": 10,
        "rows": 5
       }
      },
      "text/html": [
       "<div>\n",
       "<style scoped>\n",
       "    .dataframe tbody tr th:only-of-type {\n",
       "        vertical-align: middle;\n",
       "    }\n",
       "\n",
       "    .dataframe tbody tr th {\n",
       "        vertical-align: top;\n",
       "    }\n",
       "\n",
       "    .dataframe thead th {\n",
       "        text-align: right;\n",
       "    }\n",
       "</style>\n",
       "<table border=\"1\" class=\"dataframe\">\n",
       "  <thead>\n",
       "    <tr style=\"text-align: right;\">\n",
       "      <th></th>\n",
       "      <th>Brand</th>\n",
       "      <th>Model</th>\n",
       "      <th>Year</th>\n",
       "      <th>Engine_Size</th>\n",
       "      <th>Fuel_Type</th>\n",
       "      <th>Transmission</th>\n",
       "      <th>Mileage</th>\n",
       "      <th>Doors</th>\n",
       "      <th>Owner_Count</th>\n",
       "      <th>Price</th>\n",
       "    </tr>\n",
       "  </thead>\n",
       "  <tbody>\n",
       "    <tr>\n",
       "      <th>0</th>\n",
       "      <td>Kia</td>\n",
       "      <td>Rio</td>\n",
       "      <td>2020</td>\n",
       "      <td>4.2</td>\n",
       "      <td>Diesel</td>\n",
       "      <td>Manual</td>\n",
       "      <td>289944</td>\n",
       "      <td>3</td>\n",
       "      <td>5</td>\n",
       "      <td>8501</td>\n",
       "    </tr>\n",
       "    <tr>\n",
       "      <th>1</th>\n",
       "      <td>Chevrolet</td>\n",
       "      <td>Malibu</td>\n",
       "      <td>2012</td>\n",
       "      <td>2.0</td>\n",
       "      <td>Hybrid</td>\n",
       "      <td>Automatic</td>\n",
       "      <td>5356</td>\n",
       "      <td>2</td>\n",
       "      <td>3</td>\n",
       "      <td>12092</td>\n",
       "    </tr>\n",
       "    <tr>\n",
       "      <th>2</th>\n",
       "      <td>Mercedes</td>\n",
       "      <td>GLA</td>\n",
       "      <td>2020</td>\n",
       "      <td>4.2</td>\n",
       "      <td>Diesel</td>\n",
       "      <td>Automatic</td>\n",
       "      <td>231440</td>\n",
       "      <td>4</td>\n",
       "      <td>2</td>\n",
       "      <td>11171</td>\n",
       "    </tr>\n",
       "    <tr>\n",
       "      <th>3</th>\n",
       "      <td>Audi</td>\n",
       "      <td>Q5</td>\n",
       "      <td>2023</td>\n",
       "      <td>2.0</td>\n",
       "      <td>Electric</td>\n",
       "      <td>Manual</td>\n",
       "      <td>160971</td>\n",
       "      <td>2</td>\n",
       "      <td>1</td>\n",
       "      <td>11780</td>\n",
       "    </tr>\n",
       "    <tr>\n",
       "      <th>4</th>\n",
       "      <td>Volkswagen</td>\n",
       "      <td>Golf</td>\n",
       "      <td>2003</td>\n",
       "      <td>2.6</td>\n",
       "      <td>Hybrid</td>\n",
       "      <td>Semi-Automatic</td>\n",
       "      <td>286618</td>\n",
       "      <td>3</td>\n",
       "      <td>3</td>\n",
       "      <td>2867</td>\n",
       "    </tr>\n",
       "  </tbody>\n",
       "</table>\n",
       "</div>"
      ],
      "text/plain": [
       "        Brand   Model  Year  Engine_Size Fuel_Type    Transmission  Mileage  \\\n",
       "0         Kia     Rio  2020          4.2    Diesel          Manual   289944   \n",
       "1   Chevrolet  Malibu  2012          2.0    Hybrid       Automatic     5356   \n",
       "2    Mercedes     GLA  2020          4.2    Diesel       Automatic   231440   \n",
       "3        Audi      Q5  2023          2.0  Electric          Manual   160971   \n",
       "4  Volkswagen    Golf  2003          2.6    Hybrid  Semi-Automatic   286618   \n",
       "\n",
       "   Doors  Owner_Count  Price  \n",
       "0      3            5   8501  \n",
       "1      2            3  12092  \n",
       "2      4            2  11171  \n",
       "3      2            1  11780  \n",
       "4      3            3   2867  "
      ]
     },
     "execution_count": 13,
     "metadata": {},
     "output_type": "execute_result"
    }
   ],
   "source": [
    "# Imports de bibliotecas\n",
    "import pandas as pd\n",
    "import numpy as np\n",
    "import missingno as mso\n",
    "import seaborn as sns\n",
    "import matplotlib as plt\n",
    "import scipy as sp\n",
    "import kagglehub\n",
    "import os\n",
    "\n",
    "# Import dos dados brutos do Kaggle\n",
    "path = kagglehub.dataset_download(\"mos3santos/conjunto-de-dados-de-preos-de-carros\")\n",
    "df = pd.read_csv(path + \"/car_price_dataset.csv\", low_memory=False)\n",
    "df.head()"
   ]
  },
  {
   "cell_type": "markdown",
   "id": "1c16faf1-8c22-4d3a-ab52-44792234bdcd",
   "metadata": {},
   "source": [
    "### Salvando dados brutos na pasta raw"
   ]
  },
  {
   "cell_type": "code",
   "execution_count": 21,
   "id": "d32eaeed-f3ab-4b77-82fb-b53918742cfd",
   "metadata": {},
   "outputs": [
    {
     "name": "stdout",
     "output_type": "stream",
     "text": [
      "Arquivo car_price_dataset_raw.csv já existia, será sobrescrito.\n",
      "Arquivo salvo em: ../dados/raw\\car_price_dataset_raw.csv\n"
     ]
    }
   ],
   "source": [
    "# Cópia do dataset no estado bruto\n",
    "raw = df.copy()\n",
    "\n",
    "diretorio = '../dados/raw'\n",
    "nome_arquivo = 'car_price_dataset_raw.csv'\n",
    "caminho_completo = os.path.join(diretorio, nome_arquivo)\n",
    "\n",
    "# Criar diretório se não existir\n",
    "os.makedirs(diretorio, exist_ok=True)\n",
    "\n",
    "# Verificar se já existe\n",
    "if os.path.isfile(caminho_completo):\n",
    "    print(f\"Arquivo {nome_arquivo} já existia, será sobrescrito.\")\n",
    "else:\n",
    "    print(f\"Criando novo arquivo: {nome_arquivo}\")\n",
    "\n",
    "# Salvar\n",
    "raw.to_csv(caminho_completo, index=False)\n",
    "print(f\"Arquivo salvo em: {caminho_completo}\")"
   ]
  },
  {
   "cell_type": "markdown",
   "id": "453b2590-e7a6-4b7b-841c-c08e6f563652",
   "metadata": {},
   "source": [
    "## 2) Análise de Missing Values"
   ]
  },
  {
   "cell_type": "code",
   "execution_count": 22,
   "id": "76e18331",
   "metadata": {},
   "outputs": [
    {
     "name": "stdout",
     "output_type": "stream",
     "text": [
      "<class 'pandas.core.frame.DataFrame'>\n",
      "RangeIndex: 10000 entries, 0 to 9999\n",
      "Data columns (total 10 columns):\n",
      " #   Column        Non-Null Count  Dtype  \n",
      "---  ------        --------------  -----  \n",
      " 0   Brand         10000 non-null  object \n",
      " 1   Model         10000 non-null  object \n",
      " 2   Year          10000 non-null  int64  \n",
      " 3   Engine_Size   10000 non-null  float64\n",
      " 4   Fuel_Type     10000 non-null  object \n",
      " 5   Transmission  10000 non-null  object \n",
      " 6   Mileage       10000 non-null  int64  \n",
      " 7   Doors         10000 non-null  int64  \n",
      " 8   Owner_Count   10000 non-null  int64  \n",
      " 9   Price         10000 non-null  int64  \n",
      "dtypes: float64(1), int64(5), object(4)\n",
      "memory usage: 781.4+ KB\n"
     ]
    }
   ],
   "source": [
    "# Verificando condições dos dados\n",
    "df.info()"
   ]
  },
  {
   "cell_type": "code",
   "execution_count": 17,
   "id": "c0db765e-3824-4b5e-b2d8-e769853e53d5",
   "metadata": {
    "scrolled": true
   },
   "outputs": [
    {
     "data": {
      "application/vnd.microsoft.datawrangler.viewer.v0+json": {
       "columns": [
        {
         "name": "index",
         "rawType": "object",
         "type": "string"
        },
        {
         "name": "0",
         "rawType": "int64",
         "type": "integer"
        }
       ],
       "ref": "d2836fba-3b76-4299-9f2f-8e4579d41fb5",
       "rows": [
        [
         "Brand",
         "0"
        ],
        [
         "Model",
         "0"
        ],
        [
         "Year",
         "0"
        ],
        [
         "Engine_Size",
         "0"
        ],
        [
         "Fuel_Type",
         "0"
        ],
        [
         "Transmission",
         "0"
        ],
        [
         "Mileage",
         "0"
        ],
        [
         "Doors",
         "0"
        ],
        [
         "Owner_Count",
         "0"
        ],
        [
         "Price",
         "0"
        ]
       ],
       "shape": {
        "columns": 1,
        "rows": 10
       }
      },
      "text/plain": [
       "Brand           0\n",
       "Model           0\n",
       "Year            0\n",
       "Engine_Size     0\n",
       "Fuel_Type       0\n",
       "Transmission    0\n",
       "Mileage         0\n",
       "Doors           0\n",
       "Owner_Count     0\n",
       "Price           0\n",
       "dtype: int64"
      ]
     },
     "execution_count": 17,
     "metadata": {},
     "output_type": "execute_result"
    }
   ],
   "source": [
    "# Verificando nulos\n",
    "df.isnull().sum()"
   ]
  },
  {
   "cell_type": "markdown",
   "id": "83252933-058d-4b23-8db8-5c80f94ee720",
   "metadata": {},
   "source": [
    "> Aparententemente, o dataset não necessita de tratamento de valores nulos, uma vez que o mesmo não possui nenhum em uma coluna sequer com nulos evidentes\n",
    "\n",
    "> Cabe a investigação para saber se não há valores correspondentes aos dados nulos, como 0s em colunas numéricas ou strings representativas em colunas categóricas"
   ]
  },
  {
   "cell_type": "markdown",
   "id": "c25abe51",
   "metadata": {},
   "source": [
    "### Verificação de valores representativos a nulos"
   ]
  },
  {
   "cell_type": "code",
   "execution_count": 18,
   "id": "cfed1a38-1254-47a3-a658-737701588cb0",
   "metadata": {
    "scrolled": true
   },
   "outputs": [
    {
     "name": "stdout",
     "output_type": "stream",
     "text": [
      "['Kia' 'Chevrolet' 'Mercedes' 'Audi' 'Volkswagen' 'Toyota' 'Honda' 'BMW'\n",
      " 'Hyundai' 'Ford']\n",
      "['Rio' 'Malibu' 'GLA' 'Q5' 'Golf' 'Camry' 'Civic' 'Sportage' 'RAV4'\n",
      " '5 Series' 'CR-V' 'Elantra' 'Tiguan' 'Equinox' 'Explorer' 'A3' '3 Series'\n",
      " 'Tucson' 'Passat' 'Impala' 'Corolla' 'Optima' 'Fiesta' 'A4' 'Focus'\n",
      " 'E-Class' 'Sonata' 'C-Class' 'X5' 'Accord']\n",
      "['Diesel' 'Hybrid' 'Electric' 'Petrol']\n",
      "['Manual' 'Automatic' 'Semi-Automatic']\n"
     ]
    }
   ],
   "source": [
    "# Verificando se há valores representativos a nulos em colunas categóricas\n",
    "for coluna in df.columns:\n",
    "    if (df[coluna].dtype) == object:\n",
    "        print(df[coluna].unique())"
   ]
  },
  {
   "cell_type": "code",
   "execution_count": 19,
   "id": "1ffa564f",
   "metadata": {},
   "outputs": [
    {
     "name": "stdout",
     "output_type": "stream",
     "text": [
      "[2020 2012 2023 2003 2007 2010 2001 2014 2005 2013 2009 2004 2017 2006\n",
      " 2000 2021 2018 2016 2011 2022 2008 2015 2002 2019]\n",
      "[4.2 2.  2.6 2.7 3.4 4.7 3.1 1.3 4.5 4.8 2.3 2.4 3.2 2.9 1.5 1.8 4.6 2.8\n",
      " 3.9 3.3 1.9 3.5 1.4 2.2 1.  1.2 4.9 3.6 3.8 4.  1.7 1.6 4.1 1.1 2.5 3.\n",
      " 5.  2.1 3.7 4.3 4.4]\n",
      "[289944   5356 231440 ...  86664 225772 157882]\n",
      "[3 2 4 5]\n",
      "[5 3 2 1 4]\n",
      "[ 8501 12092 11171 ...  9866  4084  3342]\n"
     ]
    }
   ],
   "source": [
    "# Verificando em colunas numéricas\n",
    "for coluna in df.columns:\n",
    "    if not(df[coluna].dtype) == object:\n",
    "        print(df[coluna].unique())"
   ]
  },
  {
   "cell_type": "code",
   "execution_count": 23,
   "id": "329692b5",
   "metadata": {},
   "outputs": [
    {
     "name": "stdout",
     "output_type": "stream",
     "text": [
      "A coluna Year não possui valores 0 ou -1.\n",
      "A coluna Engine_Size não possui valores 0 ou -1.\n",
      "A coluna Mileage não possui valores 0 ou -1.\n",
      "A coluna Doors não possui valores 0 ou -1.\n",
      "A coluna Owner_Count não possui valores 0 ou -1.\n",
      "A coluna Price não possui valores 0 ou -1.\n"
     ]
    }
   ],
   "source": [
    "# Verificação em colunas numéricas de inputação 0 / -1 no lugar de nulos\n",
    "for coluna in df.columns:\n",
    "    if not(df[coluna].dtype) == object:\n",
    "        if (df[coluna] == 0).any() or (df[coluna] == -1).any():\n",
    "            print(f\"A coluna {coluna} possui valores 0 ou -1, que podem representar nulos.\")\n",
    "        else:\n",
    "            print(f\"A coluna {coluna} não possui valores 0 ou -1.\")"
   ]
  },
  {
   "cell_type": "markdown",
   "id": "7375ea1e",
   "metadata": {},
   "source": [
    "> Não há indícios de substituição de valores nulos por algum valor representativo\n",
    "\n",
    "> A base de dados já estava anteriormente limpa em relação a valores nulos"
   ]
  },
  {
   "cell_type": "markdown",
   "id": "33863f90",
   "metadata": {},
   "source": [
    "## 3) Análise de Duplicatas"
   ]
  },
  {
   "cell_type": "code",
   "execution_count": 24,
   "id": "2b60c652",
   "metadata": {},
   "outputs": [
    {
     "data": {
      "text/plain": [
       "np.int64(0)"
      ]
     },
     "execution_count": 24,
     "metadata": {},
     "output_type": "execute_result"
    }
   ],
   "source": [
    "df.duplicated().sum()"
   ]
  },
  {
   "cell_type": "markdown",
   "id": "cf16eb41",
   "metadata": {},
   "source": [
    "> O dataset também não possui dados duplicados"
   ]
  },
  {
   "cell_type": "markdown",
   "id": "32b0fc05",
   "metadata": {},
   "source": [
    "## 4) Análise de Dados Incongruentes"
   ]
  },
  {
   "cell_type": "code",
   "execution_count": 25,
   "id": "d46310d7",
   "metadata": {},
   "outputs": [
    {
     "data": {
      "application/vnd.microsoft.datawrangler.viewer.v0+json": {
       "columns": [
        {
         "name": "index",
         "rawType": "object",
         "type": "string"
        },
        {
         "name": "Year",
         "rawType": "float64",
         "type": "float"
        },
        {
         "name": "Engine_Size",
         "rawType": "float64",
         "type": "float"
        },
        {
         "name": "Mileage",
         "rawType": "float64",
         "type": "float"
        },
        {
         "name": "Doors",
         "rawType": "float64",
         "type": "float"
        },
        {
         "name": "Owner_Count",
         "rawType": "float64",
         "type": "float"
        },
        {
         "name": "Price",
         "rawType": "float64",
         "type": "float"
        }
       ],
       "ref": "df1371e7-e046-40fc-899e-047c7ffaf9e4",
       "rows": [
        [
         "count",
         "10000.0",
         "10000.0",
         "10000.0",
         "10000.0",
         "10000.0",
         "10000.0"
        ],
        [
         "mean",
         "2011.5437",
         "3.0005599999999997",
         "149239.1118",
         "3.4971",
         "2.9911",
         "8852.9644"
        ],
        [
         "std",
         "6.897698756455915",
         "1.149324053945665",
         "86322.34895733812",
         "1.1100967622158657",
         "1.4226816904421145",
         "3112.596810289277"
        ],
        [
         "min",
         "2000.0",
         "1.0",
         "25.0",
         "2.0",
         "1.0",
         "2000.0"
        ],
        [
         "25%",
         "2006.0",
         "2.0",
         "74649.25",
         "3.0",
         "2.0",
         "6646.0"
        ],
        [
         "50%",
         "2012.0",
         "3.0",
         "149587.0",
         "3.0",
         "3.0",
         "8858.5"
        ],
        [
         "75%",
         "2017.0",
         "4.0",
         "223577.5",
         "4.0",
         "4.0",
         "11086.5"
        ],
        [
         "max",
         "2023.0",
         "5.0",
         "299947.0",
         "5.0",
         "5.0",
         "18301.0"
        ]
       ],
       "shape": {
        "columns": 6,
        "rows": 8
       }
      },
      "text/html": [
       "<div>\n",
       "<style scoped>\n",
       "    .dataframe tbody tr th:only-of-type {\n",
       "        vertical-align: middle;\n",
       "    }\n",
       "\n",
       "    .dataframe tbody tr th {\n",
       "        vertical-align: top;\n",
       "    }\n",
       "\n",
       "    .dataframe thead th {\n",
       "        text-align: right;\n",
       "    }\n",
       "</style>\n",
       "<table border=\"1\" class=\"dataframe\">\n",
       "  <thead>\n",
       "    <tr style=\"text-align: right;\">\n",
       "      <th></th>\n",
       "      <th>Year</th>\n",
       "      <th>Engine_Size</th>\n",
       "      <th>Mileage</th>\n",
       "      <th>Doors</th>\n",
       "      <th>Owner_Count</th>\n",
       "      <th>Price</th>\n",
       "    </tr>\n",
       "  </thead>\n",
       "  <tbody>\n",
       "    <tr>\n",
       "      <th>count</th>\n",
       "      <td>10000.000000</td>\n",
       "      <td>10000.000000</td>\n",
       "      <td>10000.000000</td>\n",
       "      <td>10000.000000</td>\n",
       "      <td>10000.000000</td>\n",
       "      <td>10000.00000</td>\n",
       "    </tr>\n",
       "    <tr>\n",
       "      <th>mean</th>\n",
       "      <td>2011.543700</td>\n",
       "      <td>3.000560</td>\n",
       "      <td>149239.111800</td>\n",
       "      <td>3.497100</td>\n",
       "      <td>2.991100</td>\n",
       "      <td>8852.96440</td>\n",
       "    </tr>\n",
       "    <tr>\n",
       "      <th>std</th>\n",
       "      <td>6.897699</td>\n",
       "      <td>1.149324</td>\n",
       "      <td>86322.348957</td>\n",
       "      <td>1.110097</td>\n",
       "      <td>1.422682</td>\n",
       "      <td>3112.59681</td>\n",
       "    </tr>\n",
       "    <tr>\n",
       "      <th>min</th>\n",
       "      <td>2000.000000</td>\n",
       "      <td>1.000000</td>\n",
       "      <td>25.000000</td>\n",
       "      <td>2.000000</td>\n",
       "      <td>1.000000</td>\n",
       "      <td>2000.00000</td>\n",
       "    </tr>\n",
       "    <tr>\n",
       "      <th>25%</th>\n",
       "      <td>2006.000000</td>\n",
       "      <td>2.000000</td>\n",
       "      <td>74649.250000</td>\n",
       "      <td>3.000000</td>\n",
       "      <td>2.000000</td>\n",
       "      <td>6646.00000</td>\n",
       "    </tr>\n",
       "    <tr>\n",
       "      <th>50%</th>\n",
       "      <td>2012.000000</td>\n",
       "      <td>3.000000</td>\n",
       "      <td>149587.000000</td>\n",
       "      <td>3.000000</td>\n",
       "      <td>3.000000</td>\n",
       "      <td>8858.50000</td>\n",
       "    </tr>\n",
       "    <tr>\n",
       "      <th>75%</th>\n",
       "      <td>2017.000000</td>\n",
       "      <td>4.000000</td>\n",
       "      <td>223577.500000</td>\n",
       "      <td>4.000000</td>\n",
       "      <td>4.000000</td>\n",
       "      <td>11086.50000</td>\n",
       "    </tr>\n",
       "    <tr>\n",
       "      <th>max</th>\n",
       "      <td>2023.000000</td>\n",
       "      <td>5.000000</td>\n",
       "      <td>299947.000000</td>\n",
       "      <td>5.000000</td>\n",
       "      <td>5.000000</td>\n",
       "      <td>18301.00000</td>\n",
       "    </tr>\n",
       "  </tbody>\n",
       "</table>\n",
       "</div>"
      ],
      "text/plain": [
       "               Year   Engine_Size        Mileage         Doors   Owner_Count  \\\n",
       "count  10000.000000  10000.000000   10000.000000  10000.000000  10000.000000   \n",
       "mean    2011.543700      3.000560  149239.111800      3.497100      2.991100   \n",
       "std        6.897699      1.149324   86322.348957      1.110097      1.422682   \n",
       "min     2000.000000      1.000000      25.000000      2.000000      1.000000   \n",
       "25%     2006.000000      2.000000   74649.250000      3.000000      2.000000   \n",
       "50%     2012.000000      3.000000  149587.000000      3.000000      3.000000   \n",
       "75%     2017.000000      4.000000  223577.500000      4.000000      4.000000   \n",
       "max     2023.000000      5.000000  299947.000000      5.000000      5.000000   \n",
       "\n",
       "             Price  \n",
       "count  10000.00000  \n",
       "mean    8852.96440  \n",
       "std     3112.59681  \n",
       "min     2000.00000  \n",
       "25%     6646.00000  \n",
       "50%     8858.50000  \n",
       "75%    11086.50000  \n",
       "max    18301.00000  "
      ]
     },
     "execution_count": 25,
     "metadata": {},
     "output_type": "execute_result"
    }
   ],
   "source": [
    "df.describe()"
   ]
  },
  {
   "cell_type": "markdown",
   "id": "03ff9d25",
   "metadata": {},
   "source": [
    "> Não há inconsistências nos dados, portanto a estruturação da limpeza pode ser encerrada sem nenhuma ação tomada, pois os dados já estavam limpos"
   ]
  },
  {
   "cell_type": "markdown",
   "id": "b5838885",
   "metadata": {},
   "source": [
    "## 5) Salvando dados \"limpos\" para EDA:"
   ]
  },
  {
   "cell_type": "code",
   "execution_count": 32,
   "id": "dbfcada4",
   "metadata": {},
   "outputs": [
    {
     "name": "stdout",
     "output_type": "stream",
     "text": [
      "Arquivo car_price_dataset_clean.csv já existia, será sobrescrito.\n",
      "Arquivo salvo em: ../dados/processed\\car_price_dataset_clean.csv\n"
     ]
    }
   ],
   "source": [
    "# Cópia do dataset no estado \"limpo\"\n",
    "clean = df.copy()\n",
    "\n",
    "diretorio = '../dados/processed'\n",
    "nome_arquivo = 'car_price_dataset_clean.csv'\n",
    "caminho_completo = os.path.join(diretorio, nome_arquivo)\n",
    "\n",
    "# Criar diretório se não existir\n",
    "os.makedirs(diretorio, exist_ok=True)\n",
    "\n",
    "# Verificar se já existe\n",
    "if os.path.isfile(caminho_completo):\n",
    "    print(f\"Arquivo {nome_arquivo} já existia, será sobrescrito.\")\n",
    "else:\n",
    "    print(f\"Criando novo arquivo: {nome_arquivo}\")\n",
    "\n",
    "# Salvar\n",
    "clean.to_csv(caminho_completo, index=False)\n",
    "print(f\"Arquivo salvo em: {caminho_completo}\")"
   ]
  }
 ],
 "metadata": {
  "kernelspec": {
   "display_name": "Python 3",
   "language": "python",
   "name": "python3"
  },
  "language_info": {
   "codemirror_mode": {
    "name": "ipython",
    "version": 3
   },
   "file_extension": ".py",
   "mimetype": "text/x-python",
   "name": "python",
   "nbconvert_exporter": "python",
   "pygments_lexer": "ipython3",
   "version": "3.11.11"
  }
 },
 "nbformat": 4,
 "nbformat_minor": 5
}
