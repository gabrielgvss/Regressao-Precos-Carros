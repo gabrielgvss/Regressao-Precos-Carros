{
 "cells": [
  {
   "cell_type": "markdown",
   "id": "10fa5250",
   "metadata": {},
   "source": [
    "# Análise Exploratória de Dados"
   ]
  },
  {
   "cell_type": "markdown",
   "id": "660ecfd6",
   "metadata": {},
   "source": [
    "## 1) Entendimento dos dados:"
   ]
  },
  {
   "cell_type": "code",
   "execution_count": 1,
   "id": "04f5c2a7",
   "metadata": {},
   "outputs": [
    {
     "data": {
      "application/vnd.microsoft.datawrangler.viewer.v0+json": {
       "columns": [
        {
         "name": "index",
         "rawType": "int64",
         "type": "integer"
        },
        {
         "name": "Brand",
         "rawType": "object",
         "type": "string"
        },
        {
         "name": "Model",
         "rawType": "object",
         "type": "string"
        },
        {
         "name": "Year",
         "rawType": "int64",
         "type": "integer"
        },
        {
         "name": "Engine_Size",
         "rawType": "float64",
         "type": "float"
        },
        {
         "name": "Fuel_Type",
         "rawType": "object",
         "type": "string"
        },
        {
         "name": "Transmission",
         "rawType": "object",
         "type": "string"
        },
        {
         "name": "Mileage",
         "rawType": "int64",
         "type": "integer"
        },
        {
         "name": "Doors",
         "rawType": "int64",
         "type": "integer"
        },
        {
         "name": "Owner_Count",
         "rawType": "int64",
         "type": "integer"
        },
        {
         "name": "Price",
         "rawType": "int64",
         "type": "integer"
        }
       ],
       "ref": "d3695d39-cf3b-4058-805c-e1437fc9cb1f",
       "rows": [
        [
         "0",
         "Kia",
         "Rio",
         "2020",
         "4.2",
         "Diesel",
         "Manual",
         "289944",
         "3",
         "5",
         "8501"
        ],
        [
         "1",
         "Chevrolet",
         "Malibu",
         "2012",
         "2.0",
         "Hybrid",
         "Automatic",
         "5356",
         "2",
         "3",
         "12092"
        ],
        [
         "2",
         "Mercedes",
         "GLA",
         "2020",
         "4.2",
         "Diesel",
         "Automatic",
         "231440",
         "4",
         "2",
         "11171"
        ],
        [
         "3",
         "Audi",
         "Q5",
         "2023",
         "2.0",
         "Electric",
         "Manual",
         "160971",
         "2",
         "1",
         "11780"
        ],
        [
         "4",
         "Volkswagen",
         "Golf",
         "2003",
         "2.6",
         "Hybrid",
         "Semi-Automatic",
         "286618",
         "3",
         "3",
         "2867"
        ]
       ],
       "shape": {
        "columns": 10,
        "rows": 5
       }
      },
      "text/html": [
       "<div>\n",
       "<style scoped>\n",
       "    .dataframe tbody tr th:only-of-type {\n",
       "        vertical-align: middle;\n",
       "    }\n",
       "\n",
       "    .dataframe tbody tr th {\n",
       "        vertical-align: top;\n",
       "    }\n",
       "\n",
       "    .dataframe thead th {\n",
       "        text-align: right;\n",
       "    }\n",
       "</style>\n",
       "<table border=\"1\" class=\"dataframe\">\n",
       "  <thead>\n",
       "    <tr style=\"text-align: right;\">\n",
       "      <th></th>\n",
       "      <th>Brand</th>\n",
       "      <th>Model</th>\n",
       "      <th>Year</th>\n",
       "      <th>Engine_Size</th>\n",
       "      <th>Fuel_Type</th>\n",
       "      <th>Transmission</th>\n",
       "      <th>Mileage</th>\n",
       "      <th>Doors</th>\n",
       "      <th>Owner_Count</th>\n",
       "      <th>Price</th>\n",
       "    </tr>\n",
       "  </thead>\n",
       "  <tbody>\n",
       "    <tr>\n",
       "      <th>0</th>\n",
       "      <td>Kia</td>\n",
       "      <td>Rio</td>\n",
       "      <td>2020</td>\n",
       "      <td>4.2</td>\n",
       "      <td>Diesel</td>\n",
       "      <td>Manual</td>\n",
       "      <td>289944</td>\n",
       "      <td>3</td>\n",
       "      <td>5</td>\n",
       "      <td>8501</td>\n",
       "    </tr>\n",
       "    <tr>\n",
       "      <th>1</th>\n",
       "      <td>Chevrolet</td>\n",
       "      <td>Malibu</td>\n",
       "      <td>2012</td>\n",
       "      <td>2.0</td>\n",
       "      <td>Hybrid</td>\n",
       "      <td>Automatic</td>\n",
       "      <td>5356</td>\n",
       "      <td>2</td>\n",
       "      <td>3</td>\n",
       "      <td>12092</td>\n",
       "    </tr>\n",
       "    <tr>\n",
       "      <th>2</th>\n",
       "      <td>Mercedes</td>\n",
       "      <td>GLA</td>\n",
       "      <td>2020</td>\n",
       "      <td>4.2</td>\n",
       "      <td>Diesel</td>\n",
       "      <td>Automatic</td>\n",
       "      <td>231440</td>\n",
       "      <td>4</td>\n",
       "      <td>2</td>\n",
       "      <td>11171</td>\n",
       "    </tr>\n",
       "    <tr>\n",
       "      <th>3</th>\n",
       "      <td>Audi</td>\n",
       "      <td>Q5</td>\n",
       "      <td>2023</td>\n",
       "      <td>2.0</td>\n",
       "      <td>Electric</td>\n",
       "      <td>Manual</td>\n",
       "      <td>160971</td>\n",
       "      <td>2</td>\n",
       "      <td>1</td>\n",
       "      <td>11780</td>\n",
       "    </tr>\n",
       "    <tr>\n",
       "      <th>4</th>\n",
       "      <td>Volkswagen</td>\n",
       "      <td>Golf</td>\n",
       "      <td>2003</td>\n",
       "      <td>2.6</td>\n",
       "      <td>Hybrid</td>\n",
       "      <td>Semi-Automatic</td>\n",
       "      <td>286618</td>\n",
       "      <td>3</td>\n",
       "      <td>3</td>\n",
       "      <td>2867</td>\n",
       "    </tr>\n",
       "  </tbody>\n",
       "</table>\n",
       "</div>"
      ],
      "text/plain": [
       "        Brand   Model  Year  Engine_Size Fuel_Type    Transmission  Mileage  \\\n",
       "0         Kia     Rio  2020          4.2    Diesel          Manual   289944   \n",
       "1   Chevrolet  Malibu  2012          2.0    Hybrid       Automatic     5356   \n",
       "2    Mercedes     GLA  2020          4.2    Diesel       Automatic   231440   \n",
       "3        Audi      Q5  2023          2.0  Electric          Manual   160971   \n",
       "4  Volkswagen    Golf  2003          2.6    Hybrid  Semi-Automatic   286618   \n",
       "\n",
       "   Doors  Owner_Count  Price  \n",
       "0      3            5   8501  \n",
       "1      2            3  12092  \n",
       "2      4            2  11171  \n",
       "3      2            1  11780  \n",
       "4      3            3   2867  "
      ]
     },
     "execution_count": 1,
     "metadata": {},
     "output_type": "execute_result"
    }
   ],
   "source": [
    "# Import das bibliotecas necessárias\n",
    "import pandas as pd\n",
    "import numpy as np\n",
    "import scipy.stats as stats\n",
    "import matplotlib.pyplot as plt\n",
    "import seaborn as sns\n",
    "import os\n",
    "\n",
    "# Import dos dados\n",
    "df = pd.read_csv('../dados/processed/car_price_dataset_clean.csv')\n",
    "df.head()"
   ]
  },
  {
   "cell_type": "markdown",
   "id": "58d7b9cf",
   "metadata": {},
   "source": [
    "### Dicionário dos dados:"
   ]
  },
  {
   "cell_type": "markdown",
   "id": "2d184ba9",
   "metadata": {
    "vscode": {
     "languageId": "markdown"
    }
   },
   "source": [
    "| Coluna        | Tipo Estatístico | Tipo Computacional | Significado                                                                 |\n",
    "|---------------|------------------|--------------------|----------------------------------------------------------------------------|\n",
    "| Brand         | Qualitativo      | object (string)    | Marca do veículo                                                           |\n",
    "| Model         | Qualitativo      | object (string)    | Modelo do veículo                                                          |\n",
    "| Year          | Qualitativo     | int64              | Ano de fabricação do veículo                                               |\n",
    "| Engine_Size   | Quantitativo     | float64            | Tamanho do motor do veículo (em litros)                                    |\n",
    "| Fuel_Type     | Qualitativo      | object (string)    | Tipo de combustível utilizado pelo veículo                                 |\n",
    "| Transmission  | Qualitativo      | object (string)    | Tipo de transmissão do veículo (Manual, Automática, Semi-Automática, etc.) |\n",
    "| Mileage       | Quantitativo     | int64              | Quilometragem rodada pelo veículo                                          |\n",
    "| Doors         | Quantitativo     | int64              | Número de portas do veículo                                                |\n",
    "| Owner_Count   | Quantitativo     | int64              | Número de proprietários anteriores                                         |\n",
    "| Price         | Quantitativo     | int64              | Preço do veículo (em unidade monetária)                                    |"
   ]
  },
  {
   "cell_type": "markdown",
   "id": "59a2ca5a",
   "metadata": {},
   "source": [
    "## 2) Análise Univariada"
   ]
  },
  {
   "cell_type": "code",
   "execution_count": 52,
   "id": "dc502001",
   "metadata": {},
   "outputs": [],
   "source": [
    "# Criando funções para análise univariada\n",
    "def estatistica_qualitativa(df, column):\n",
    "    coluna = df[column].copy()\n",
    "    contagem = coluna.value_counts()\n",
    "    proporcao = coluna.value_counts(normalize=True) * 100\n",
    "    df_resumo = pd.DataFrame({'Contagem': contagem, 'Proporção (%)': proporcao})\n",
    "    df_resumo.index.name = column\n",
    "    df_resumo.reset_index(inplace=True)\n",
    "    df_resumo['Proporção (%)'] = df_resumo['Proporção (%)'].round(2)\n",
    "    return df_resumo\n",
    "\n",
    "def plot_histogram(df, column):\n",
    "    plt.figure(figsize=(10, 6))\n",
    "    sns.histplot(df[column], kde=True, bins=30)\n",
    "    plt.title(f'Histograma de {column}')\n",
    "    plt.xlabel(column)\n",
    "    plt.ylabel('Frequência')\n",
    "    plt.grid()\n",
    "    plt.show()\n",
    "\n",
    "def plot_boxplot(df, column):\n",
    "    plt.figure(figsize=(10, 6))\n",
    "    sns.boxplot(x=df[column])\n",
    "    plt.title(f'Boxplot de {column}')\n",
    "    plt.xlabel(column)\n",
    "    plt.grid()\n",
    "    plt.show()\n",
    "\n",
    "def plot_bar(df, column):\n",
    "    plt.figure(figsize=(10, 6))\n",
    "    sns.countplot(y=df[column], order=df[column].value_counts(normalize=True).index)\n",
    "    plt.title(f'Contagem de {column}')\n",
    "    plt.xlabel('Frequência')\n",
    "    plt.ylabel(column)\n",
    "    plt.grid()\n",
    "    plt.show()\n",
    "\n",
    "def plot_pie(df, column):\n",
    "    plt.figure(figsize=(10, 6))\n",
    "    df[column].value_counts().plot.pie(autopct='%1.1f%%', startangle=90, cmap='viridis')\n",
    "    plt.title(f'Gráfico de Pizza de {column}')\n",
    "    plt.ylabel('')\n",
    "    plt.grid()\n",
    "    plt.show()"
   ]
  },
  {
   "cell_type": "markdown",
   "id": "d0bf53a9",
   "metadata": {},
   "source": [
    "### `Brand`:"
   ]
  },
  {
   "cell_type": "code",
   "execution_count": 23,
   "id": "fce08834",
   "metadata": {},
   "outputs": [
    {
     "data": {
      "application/vnd.microsoft.datawrangler.viewer.v0+json": {
       "columns": [
        {
         "name": "index",
         "rawType": "int64",
         "type": "integer"
        },
        {
         "name": "Brand",
         "rawType": "object",
         "type": "string"
        },
        {
         "name": "Contagem",
         "rawType": "int64",
         "type": "integer"
        },
        {
         "name": "Proporção (%)",
         "rawType": "float64",
         "type": "float"
        }
       ],
       "ref": "8df2c11e-2ffa-42f8-b9cd-15ba10fd51eb",
       "rows": [
        [
         "0",
         "Ford",
         "1048",
         "10.48"
        ],
        [
         "1",
         "Audi",
         "1038",
         "10.38"
        ],
        [
         "2",
         "Volkswagen",
         "1020",
         "10.2"
        ],
        [
         "3",
         "Honda",
         "1009",
         "10.09"
        ],
        [
         "4",
         "Chevrolet",
         "1003",
         "10.03"
        ],
        [
         "5",
         "BMW",
         "999",
         "9.99"
        ],
        [
         "6",
         "Hyundai",
         "995",
         "9.95"
        ],
        [
         "7",
         "Kia",
         "976",
         "9.76"
        ],
        [
         "8",
         "Toyota",
         "970",
         "9.7"
        ],
        [
         "9",
         "Mercedes",
         "942",
         "9.42"
        ]
       ],
       "shape": {
        "columns": 3,
        "rows": 10
       }
      },
      "text/html": [
       "<div>\n",
       "<style scoped>\n",
       "    .dataframe tbody tr th:only-of-type {\n",
       "        vertical-align: middle;\n",
       "    }\n",
       "\n",
       "    .dataframe tbody tr th {\n",
       "        vertical-align: top;\n",
       "    }\n",
       "\n",
       "    .dataframe thead th {\n",
       "        text-align: right;\n",
       "    }\n",
       "</style>\n",
       "<table border=\"1\" class=\"dataframe\">\n",
       "  <thead>\n",
       "    <tr style=\"text-align: right;\">\n",
       "      <th></th>\n",
       "      <th>Brand</th>\n",
       "      <th>Contagem</th>\n",
       "      <th>Proporção (%)</th>\n",
       "    </tr>\n",
       "  </thead>\n",
       "  <tbody>\n",
       "    <tr>\n",
       "      <th>0</th>\n",
       "      <td>Ford</td>\n",
       "      <td>1048</td>\n",
       "      <td>10.48</td>\n",
       "    </tr>\n",
       "    <tr>\n",
       "      <th>1</th>\n",
       "      <td>Audi</td>\n",
       "      <td>1038</td>\n",
       "      <td>10.38</td>\n",
       "    </tr>\n",
       "    <tr>\n",
       "      <th>2</th>\n",
       "      <td>Volkswagen</td>\n",
       "      <td>1020</td>\n",
       "      <td>10.20</td>\n",
       "    </tr>\n",
       "    <tr>\n",
       "      <th>3</th>\n",
       "      <td>Honda</td>\n",
       "      <td>1009</td>\n",
       "      <td>10.09</td>\n",
       "    </tr>\n",
       "    <tr>\n",
       "      <th>4</th>\n",
       "      <td>Chevrolet</td>\n",
       "      <td>1003</td>\n",
       "      <td>10.03</td>\n",
       "    </tr>\n",
       "    <tr>\n",
       "      <th>5</th>\n",
       "      <td>BMW</td>\n",
       "      <td>999</td>\n",
       "      <td>9.99</td>\n",
       "    </tr>\n",
       "    <tr>\n",
       "      <th>6</th>\n",
       "      <td>Hyundai</td>\n",
       "      <td>995</td>\n",
       "      <td>9.95</td>\n",
       "    </tr>\n",
       "    <tr>\n",
       "      <th>7</th>\n",
       "      <td>Kia</td>\n",
       "      <td>976</td>\n",
       "      <td>9.76</td>\n",
       "    </tr>\n",
       "    <tr>\n",
       "      <th>8</th>\n",
       "      <td>Toyota</td>\n",
       "      <td>970</td>\n",
       "      <td>9.70</td>\n",
       "    </tr>\n",
       "    <tr>\n",
       "      <th>9</th>\n",
       "      <td>Mercedes</td>\n",
       "      <td>942</td>\n",
       "      <td>9.42</td>\n",
       "    </tr>\n",
       "  </tbody>\n",
       "</table>\n",
       "</div>"
      ],
      "text/plain": [
       "        Brand  Contagem  Proporção (%)\n",
       "0        Ford      1048          10.48\n",
       "1        Audi      1038          10.38\n",
       "2  Volkswagen      1020          10.20\n",
       "3       Honda      1009          10.09\n",
       "4   Chevrolet      1003          10.03\n",
       "5         BMW       999           9.99\n",
       "6     Hyundai       995           9.95\n",
       "7         Kia       976           9.76\n",
       "8      Toyota       970           9.70\n",
       "9    Mercedes       942           9.42"
      ]
     },
     "execution_count": 23,
     "metadata": {},
     "output_type": "execute_result"
    }
   ],
   "source": [
    "estatistica_qualitativa(df, 'Brand')"
   ]
  },
  {
   "cell_type": "code",
   "execution_count": 26,
   "id": "4faba210",
   "metadata": {},
   "outputs": [
    {
     "name": "stdout",
     "output_type": "stream",
     "text": [
      "Diferença entre a marca mais frequente e a menos frequente: 106\n",
      "Quantidade de registros da marca mais frequente: 1048\n",
      "Proporção da diferença em relação à marca menos frequente: 11.25%\n"
     ]
    }
   ],
   "source": [
    "diferenca_max_min = df['Brand'].value_counts().max() - df['Brand'].value_counts().min()\n",
    "proporcao_max_min = (diferenca_max_min / df['Brand'].value_counts().min()) * 100\n",
    "\n",
    "print(f'Diferença entre a marca mais frequente e a menos frequente: {diferenca_max_min}')\n",
    "print(f'Quantidade de registros da marca mais frequente: {df[\"Brand\"].value_counts().max()}')\n",
    "\n",
    "print(f'Proporção da diferença em relação à marca menos frequente: {proporcao_max_min:.2f}%')"
   ]
  },
  {
   "cell_type": "code",
   "execution_count": 31,
   "id": "e4735e97",
   "metadata": {},
   "outputs": [
    {
     "data": {
      "image/png": "[encoded data removed]",
      "text/plain": [
       "<Figure size 1000x600 with 1 Axes>"
      ]
     },
     "metadata": {},
     "output_type": "display_data"
    }
   ],
   "source": [
    "plot_bar(df, 'Brand')"
   ]
  },
  {
   "cell_type": "markdown",
   "id": "8e38f0f3",
   "metadata": {},
   "source": [
    "> Há uma quantidade balanceada de registros de cada Marca de carro, havendo no total 10 valores de marcas de carros, como exibidos na tabela acima\n",
    "\n",
    "> A Ford é a marca com maior quantidade de veículos, porém tem apenas 11.25% dados a mais em relação a marca com menor quantidade de veículos (Mercedes)"
   ]
  },
  {
   "cell_type": "markdown",
   "id": "0f361609",
   "metadata": {},
   "source": [
    "### `Model`:"
   ]
  },
  {
   "cell_type": "code",
   "execution_count": 33,
   "id": "58834d11",
   "metadata": {},
   "outputs": [
    {
     "data": {
      "application/vnd.microsoft.datawrangler.viewer.v0+json": {
       "columns": [
        {
         "name": "index",
         "rawType": "int64",
         "type": "integer"
        },
        {
         "name": "Model",
         "rawType": "object",
         "type": "string"
        },
        {
         "name": "Contagem",
         "rawType": "int64",
         "type": "integer"
        },
        {
         "name": "Proporção (%)",
         "rawType": "float64",
         "type": "float"
        }
       ],
       "ref": "06bcf155-047f-4ac2-a9a4-213ece998fc5",
       "rows": [
        [
         "0",
         "Accord",
         "365",
         "3.65"
        ],
        [
         "1",
         "Fiesta",
         "363",
         "3.63"
        ],
        [
         "2",
         "Impala",
         "355",
         "3.55"
        ],
        [
         "3",
         "5 Series",
         "353",
         "3.53"
        ],
        [
         "4",
         "Tiguan",
         "352",
         "3.52"
        ],
        [
         "5",
         "Focus",
         "351",
         "3.51"
        ],
        [
         "6",
         "Q5",
         "350",
         "3.5"
        ],
        [
         "7",
         "A4",
         "350",
         "3.5"
        ],
        [
         "8",
         "Elantra",
         "347",
         "3.47"
        ],
        [
         "9",
         "Golf",
         "339",
         "3.39"
        ],
        [
         "10",
         "A3",
         "338",
         "3.38"
        ],
        [
         "11",
         "Optima",
         "336",
         "3.36"
        ],
        [
         "12",
         "Civic",
         "336",
         "3.36"
        ],
        [
         "13",
         "3 Series",
         "335",
         "3.35"
        ],
        [
         "14",
         "Explorer",
         "334",
         "3.34"
        ],
        [
         "15",
         "Malibu",
         "333",
         "3.33"
        ],
        [
         "16",
         "Passat",
         "329",
         "3.29"
        ],
        [
         "17",
         "Tucson",
         "329",
         "3.29"
        ],
        [
         "18",
         "Rio",
         "327",
         "3.27"
        ],
        [
         "19",
         "Corolla",
         "325",
         "3.25"
        ],
        [
         "20",
         "RAV4",
         "324",
         "3.24"
        ],
        [
         "21",
         "Camry",
         "321",
         "3.21"
        ],
        [
         "22",
         "E-Class",
         "321",
         "3.21"
        ],
        [
         "23",
         "Sonata",
         "319",
         "3.19"
        ],
        [
         "24",
         "Equinox",
         "315",
         "3.15"
        ],
        [
         "25",
         "GLA",
         "315",
         "3.15"
        ],
        [
         "26",
         "Sportage",
         "313",
         "3.13"
        ],
        [
         "27",
         "X5",
         "311",
         "3.11"
        ],
        [
         "28",
         "CR-V",
         "308",
         "3.08"
        ],
        [
         "29",
         "C-Class",
         "306",
         "3.06"
        ]
       ],
       "shape": {
        "columns": 3,
        "rows": 30
       }
      },
      "text/html": [
       "<div>\n",
       "<style scoped>\n",
       "    .dataframe tbody tr th:only-of-type {\n",
       "        vertical-align: middle;\n",
       "    }\n",
       "\n",
       "    .dataframe tbody tr th {\n",
       "        vertical-align: top;\n",
       "    }\n",
       "\n",
       "    .dataframe thead th {\n",
       "        text-align: right;\n",
       "    }\n",
       "</style>\n",
       "<table border=\"1\" class=\"dataframe\">\n",
       "  <thead>\n",
       "    <tr style=\"text-align: right;\">\n",
       "      <th></th>\n",
       "      <th>Model</th>\n",
       "      <th>Contagem</th>\n",
       "      <th>Proporção (%)</th>\n",
       "    </tr>\n",
       "  </thead>\n",
       "  <tbody>\n",
       "    <tr>\n",
       "      <th>0</th>\n",
       "      <td>Accord</td>\n",
       "      <td>365</td>\n",
       "      <td>3.65</td>\n",
       "    </tr>\n",
       "    <tr>\n",
       "      <th>1</th>\n",
       "      <td>Fiesta</td>\n",
       "      <td>363</td>\n",
       "      <td>3.63</td>\n",
       "    </tr>\n",
       "    <tr>\n",
       "      <th>2</th>\n",
       "      <td>Impala</td>\n",
       "      <td>355</td>\n",
       "      <td>3.55</td>\n",
       "    </tr>\n",
       "    <tr>\n",
       "      <th>3</th>\n",
       "      <td>5 Series</td>\n",
       "      <td>353</td>\n",
       "      <td>3.53</td>\n",
       "    </tr>\n",
       "    <tr>\n",
       "      <th>4</th>\n",
       "      <td>Tiguan</td>\n",
       "      <td>352</td>\n",
       "      <td>3.52</td>\n",
       "    </tr>\n",
       "    <tr>\n",
       "      <th>5</th>\n",
       "      <td>Focus</td>\n",
       "      <td>351</td>\n",
       "      <td>3.51</td>\n",
       "    </tr>\n",
       "    <tr>\n",
       "      <th>6</th>\n",
       "      <td>Q5</td>\n",
       "      <td>350</td>\n",
       "      <td>3.50</td>\n",
       "    </tr>\n",
       "    <tr>\n",
       "      <th>7</th>\n",
       "      <td>A4</td>\n",
       "      <td>350</td>\n",
       "      <td>3.50</td>\n",
       "    </tr>\n",
       "    <tr>\n",
       "      <th>8</th>\n",
       "      <td>Elantra</td>\n",
       "      <td>347</td>\n",
       "      <td>3.47</td>\n",
       "    </tr>\n",
       "    <tr>\n",
       "      <th>9</th>\n",
       "      <td>Golf</td>\n",
       "      <td>339</td>\n",
       "      <td>3.39</td>\n",
       "    </tr>\n",
       "    <tr>\n",
       "      <th>10</th>\n",
       "      <td>A3</td>\n",
       "      <td>338</td>\n",
       "      <td>3.38</td>\n",
       "    </tr>\n",
       "    <tr>\n",
       "      <th>11</th>\n",
       "      <td>Optima</td>\n",
       "      <td>336</td>\n",
       "      <td>3.36</td>\n",
       "    </tr>\n",
       "    <tr>\n",
       "      <th>12</th>\n",
       "      <td>Civic</td>\n",
       "      <td>336</td>\n",
       "      <td>3.36</td>\n",
       "    </tr>\n",
       "    <tr>\n",
       "      <th>13</th>\n",
       "      <td>3 Series</td>\n",
       "      <td>335</td>\n",
       "      <td>3.35</td>\n",
       "    </tr>\n",
       "    <tr>\n",
       "      <th>14</th>\n",
       "      <td>Explorer</td>\n",
       "      <td>334</td>\n",
       "      <td>3.34</td>\n",
       "    </tr>\n",
       "    <tr>\n",
       "      <th>15</th>\n",
       "      <td>Malibu</td>\n",
       "      <td>333</td>\n",
       "      <td>3.33</td>\n",
       "    </tr>\n",
       "    <tr>\n",
       "      <th>16</th>\n",
       "      <td>Passat</td>\n",
       "      <td>329</td>\n",
       "      <td>3.29</td>\n",
       "    </tr>\n",
       "    <tr>\n",
       "      <th>17</th>\n",
       "      <td>Tucson</td>\n",
       "      <td>329</td>\n",
       "      <td>3.29</td>\n",
       "    </tr>\n",
       "    <tr>\n",
       "      <th>18</th>\n",
       "      <td>Rio</td>\n",
       "      <td>327</td>\n",
       "      <td>3.27</td>\n",
       "    </tr>\n",
       "    <tr>\n",
       "      <th>19</th>\n",
       "      <td>Corolla</td>\n",
       "      <td>325</td>\n",
       "      <td>3.25</td>\n",
       "    </tr>\n",
       "    <tr>\n",
       "      <th>20</th>\n",
       "      <td>RAV4</td>\n",
       "      <td>324</td>\n",
       "      <td>3.24</td>\n",
       "    </tr>\n",
       "    <tr>\n",
       "      <th>21</th>\n",
       "      <td>Camry</td>\n",
       "      <td>321</td>\n",
       "      <td>3.21</td>\n",
       "    </tr>\n",
       "    <tr>\n",
       "      <th>22</th>\n",
       "      <td>E-Class</td>\n",
       "      <td>321</td>\n",
       "      <td>3.21</td>\n",
       "    </tr>\n",
       "    <tr>\n",
       "      <th>23</th>\n",
       "      <td>Sonata</td>\n",
       "      <td>319</td>\n",
       "      <td>3.19</td>\n",
       "    </tr>\n",
       "    <tr>\n",
       "      <th>24</th>\n",
       "      <td>Equinox</td>\n",
       "      <td>315</td>\n",
       "      <td>3.15</td>\n",
       "    </tr>\n",
       "    <tr>\n",
       "      <th>25</th>\n",
       "      <td>GLA</td>\n",
       "      <td>315</td>\n",
       "      <td>3.15</td>\n",
       "    </tr>\n",
       "    <tr>\n",
       "      <th>26</th>\n",
       "      <td>Sportage</td>\n",
       "      <td>313</td>\n",
       "      <td>3.13</td>\n",
       "    </tr>\n",
       "    <tr>\n",
       "      <th>27</th>\n",
       "      <td>X5</td>\n",
       "      <td>311</td>\n",
       "      <td>3.11</td>\n",
       "    </tr>\n",
       "    <tr>\n",
       "      <th>28</th>\n",
       "      <td>CR-V</td>\n",
       "      <td>308</td>\n",
       "      <td>3.08</td>\n",
       "    </tr>\n",
       "    <tr>\n",
       "      <th>29</th>\n",
       "      <td>C-Class</td>\n",
       "      <td>306</td>\n",
       "      <td>3.06</td>\n",
       "    </tr>\n",
       "  </tbody>\n",
       "</table>\n",
       "</div>"
      ],
      "text/plain": [
       "       Model  Contagem  Proporção (%)\n",
       "0     Accord       365           3.65\n",
       "1     Fiesta       363           3.63\n",
       "2     Impala       355           3.55\n",
       "3   5 Series       353           3.53\n",
       "4     Tiguan       352           3.52\n",
       "5      Focus       351           3.51\n",
       "6         Q5       350           3.50\n",
       "7         A4       350           3.50\n",
       "8    Elantra       347           3.47\n",
       "9       Golf       339           3.39\n",
       "10        A3       338           3.38\n",
       "11    Optima       336           3.36\n",
       "12     Civic       336           3.36\n",
       "13  3 Series       335           3.35\n",
       "14  Explorer       334           3.34\n",
       "15    Malibu       333           3.33\n",
       "16    Passat       329           3.29\n",
       "17    Tucson       329           3.29\n",
       "18       Rio       327           3.27\n",
       "19   Corolla       325           3.25\n",
       "20      RAV4       324           3.24\n",
       "21     Camry       321           3.21\n",
       "22   E-Class       321           3.21\n",
       "23    Sonata       319           3.19\n",
       "24   Equinox       315           3.15\n",
       "25       GLA       315           3.15\n",
       "26  Sportage       313           3.13\n",
       "27        X5       311           3.11\n",
       "28      CR-V       308           3.08\n",
       "29   C-Class       306           3.06"
      ]
     },
     "execution_count": 33,
     "metadata": {},
     "output_type": "execute_result"
    }
   ],
   "source": [
    "estatistica_qualitativa(df, 'Model')"
   ]
  },
  {
   "cell_type": "code",
   "execution_count": 35,
   "id": "fac6b233",
   "metadata": {},
   "outputs": [
    {
     "name": "stdout",
     "output_type": "stream",
     "text": [
      "Diferença entre a marca mais frequente e a menos frequente: 59\n",
      "Quantidade de registros da marca mais frequente: 365\n",
      "Proporção da diferença em relação à marca menos frequente: 6.26%\n"
     ]
    }
   ],
   "source": [
    "diferenca_max_min = df['Model'].value_counts().max() - df['Model'].value_counts().min()\n",
    "proporcao_max_min = (diferenca_max_min / df['Brand'].value_counts().min()) * 100\n",
    "\n",
    "print(f'Diferença entre a marca mais frequente e a menos frequente: {diferenca_max_min}')\n",
    "print(f'Quantidade de registros da marca mais frequente: {df[\"Model\"].value_counts().max()}')\n",
    "\n",
    "print(f'Proporção da diferença em relação à marca menos frequente: {proporcao_max_min:.2f}%')"
   ]
  },
  {
   "cell_type": "code",
   "execution_count": 36,
   "id": "e07bac03",
   "metadata": {},
   "outputs": [
    {
     "data": {
      "image/png": "[encoded data removed]",
      "text/plain": [
       "<Figure size 1200x800 with 1 Axes>"
      ]
     },
     "metadata": {},
     "output_type": "display_data"
    }
   ],
   "source": [
    "# Plotar grafico de barras horizontais que possa suportar 29 modelos de carros\n",
    "plt.figure(figsize=(12, 8))\n",
    "sns.countplot(y=df['Model'], order=df['Model'].value_counts().index)\n",
    "plt.title('Contagem de Modelos de Carros')\n",
    "plt.xlabel('Frequência')\n",
    "plt.ylabel('Modelo')\n",
    "plt.grid()  \n",
    "plt.show()\n"
   ]
  },
  {
   "cell_type": "markdown",
   "id": "f655ee4a",
   "metadata": {},
   "source": [
    "> Mesmo havendo um total de 29 modelos, não há uma diferença significativa entre a quantidade de dados de carro por marca, garantindo um balanceamento para tal fator\n",
    "\n",
    "> O Accord é o modelo com maior quantidade de veículos, porém tem apenas 6.26% dados a mais em relação ao modelo com menor quantidade de veículos (C-Class)"
   ]
  },
  {
   "cell_type": "markdown",
   "id": "5858780a",
   "metadata": {},
   "source": [
    "### `Year`:"
   ]
  },
  {
   "cell_type": "code",
   "execution_count": 40,
   "id": "95649aff",
   "metadata": {},
   "outputs": [
    {
     "data": {
      "application/vnd.microsoft.datawrangler.viewer.v0+json": {
       "columns": [
        {
         "name": "index",
         "rawType": "object",
         "type": "string"
        },
        {
         "name": "Year",
         "rawType": "float64",
         "type": "float"
        }
       ],
       "ref": "4527eb40-f3df-4331-bd8e-c99ce78adbc2",
       "rows": [
        [
         "count",
         "10000.0"
        ],
        [
         "mean",
         "2011.5437"
        ],
        [
         "std",
         "6.897698756455915"
        ],
        [
         "min",
         "2000.0"
        ],
        [
         "25%",
         "2006.0"
        ],
        [
         "50%",
         "2012.0"
        ],
        [
         "75%",
         "2017.0"
        ],
        [
         "max",
         "2023.0"
        ]
       ],
       "shape": {
        "columns": 1,
        "rows": 8
       }
      },
      "text/plain": [
       "count    10000.000000\n",
       "mean      2011.543700\n",
       "std          6.897699\n",
       "min       2000.000000\n",
       "25%       2006.000000\n",
       "50%       2012.000000\n",
       "75%       2017.000000\n",
       "max       2023.000000\n",
       "Name: Year, dtype: float64"
      ]
     },
     "execution_count": 40,
     "metadata": {},
     "output_type": "execute_result"
    }
   ],
   "source": [
    "df['Year'].describe()"
   ]
  },
  {
   "cell_type": "markdown",
   "id": "bb74383f",
   "metadata": {},
   "source": [
    "> No atual contexto, a variável ano na verdade se encaixa majoritariamente como qualitativa do que como quantitativa, por não indicar uma contagem ou um registro contínuo, mas sim um timestamp."
   ]
  },
  {
   "cell_type": "code",
   "execution_count": 41,
   "id": "17217027",
   "metadata": {},
   "outputs": [
    {
     "data": {
      "application/vnd.microsoft.datawrangler.viewer.v0+json": {
       "columns": [
        {
         "name": "index",
         "rawType": "int64",
         "type": "integer"
        },
        {
         "name": "Year",
         "rawType": "int64",
         "type": "integer"
        },
        {
         "name": "Contagem",
         "rawType": "int64",
         "type": "integer"
        },
        {
         "name": "Proporção (%)",
         "rawType": "float64",
         "type": "float"
        }
       ],
       "ref": "eb3df910-7208-4fad-9b42-4f48edf44fc8",
       "rows": [
        [
         "0",
         "2002",
         "462",
         "4.62"
        ],
        [
         "1",
         "2011",
         "449",
         "4.49"
        ],
        [
         "2",
         "2023",
         "448",
         "4.48"
        ],
        [
         "3",
         "2012",
         "437",
         "4.37"
        ],
        [
         "4",
         "2017",
         "433",
         "4.33"
        ],
        [
         "5",
         "2005",
         "431",
         "4.31"
        ],
        [
         "6",
         "2010",
         "431",
         "4.31"
        ],
        [
         "7",
         "2007",
         "430",
         "4.3"
        ],
        [
         "8",
         "2015",
         "426",
         "4.26"
        ],
        [
         "9",
         "2018",
         "425",
         "4.25"
        ],
        [
         "10",
         "2013",
         "422",
         "4.22"
        ],
        [
         "11",
         "2019",
         "421",
         "4.21"
        ],
        [
         "12",
         "2014",
         "417",
         "4.17"
        ],
        [
         "13",
         "2006",
         "415",
         "4.15"
        ],
        [
         "14",
         "2020",
         "415",
         "4.15"
        ],
        [
         "15",
         "2001",
         "406",
         "4.06"
        ],
        [
         "16",
         "2009",
         "399",
         "3.99"
        ],
        [
         "17",
         "2022",
         "397",
         "3.97"
        ],
        [
         "18",
         "2016",
         "395",
         "3.95"
        ],
        [
         "19",
         "2004",
         "394",
         "3.94"
        ],
        [
         "20",
         "2000",
         "393",
         "3.93"
        ],
        [
         "21",
         "2021",
         "391",
         "3.91"
        ],
        [
         "22",
         "2008",
         "382",
         "3.82"
        ],
        [
         "23",
         "2003",
         "381",
         "3.81"
        ]
       ],
       "shape": {
        "columns": 3,
        "rows": 24
       }
      },
      "text/html": [
       "<div>\n",
       "<style scoped>\n",
       "    .dataframe tbody tr th:only-of-type {\n",
       "        vertical-align: middle;\n",
       "    }\n",
       "\n",
       "    .dataframe tbody tr th {\n",
       "        vertical-align: top;\n",
       "    }\n",
       "\n",
       "    .dataframe thead th {\n",
       "        text-align: right;\n",
       "    }\n",
       "</style>\n",
       "<table border=\"1\" class=\"dataframe\">\n",
       "  <thead>\n",
       "    <tr style=\"text-align: right;\">\n",
       "      <th></th>\n",
       "      <th>Year</th>\n",
       "      <th>Contagem</th>\n",
       "      <th>Proporção (%)</th>\n",
       "    </tr>\n",
       "  </thead>\n",
       "  <tbody>\n",
       "    <tr>\n",
       "      <th>0</th>\n",
       "      <td>2002</td>\n",
       "      <td>462</td>\n",
       "      <td>4.62</td>\n",
       "    </tr>\n",
       "    <tr>\n",
       "      <th>1</th>\n",
       "      <td>2011</td>\n",
       "      <td>449</td>\n",
       "      <td>4.49</td>\n",
       "    </tr>\n",
       "    <tr>\n",
       "      <th>2</th>\n",
       "      <td>2023</td>\n",
       "      <td>448</td>\n",
       "      <td>4.48</td>\n",
       "    </tr>\n",
       "    <tr>\n",
       "      <th>3</th>\n",
       "      <td>2012</td>\n",
       "      <td>437</td>\n",
       "      <td>4.37</td>\n",
       "    </tr>\n",
       "    <tr>\n",
       "      <th>4</th>\n",
       "      <td>2017</td>\n",
       "      <td>433</td>\n",
       "      <td>4.33</td>\n",
       "    </tr>\n",
       "    <tr>\n",
       "      <th>5</th>\n",
       "      <td>2005</td>\n",
       "      <td>431</td>\n",
       "      <td>4.31</td>\n",
       "    </tr>\n",
       "    <tr>\n",
       "      <th>6</th>\n",
       "      <td>2010</td>\n",
       "      <td>431</td>\n",
       "      <td>4.31</td>\n",
       "    </tr>\n",
       "    <tr>\n",
       "      <th>7</th>\n",
       "      <td>2007</td>\n",
       "      <td>430</td>\n",
       "      <td>4.30</td>\n",
       "    </tr>\n",
       "    <tr>\n",
       "      <th>8</th>\n",
       "      <td>2015</td>\n",
       "      <td>426</td>\n",
       "      <td>4.26</td>\n",
       "    </tr>\n",
       "    <tr>\n",
       "      <th>9</th>\n",
       "      <td>2018</td>\n",
       "      <td>425</td>\n",
       "      <td>4.25</td>\n",
       "    </tr>\n",
       "    <tr>\n",
       "      <th>10</th>\n",
       "      <td>2013</td>\n",
       "      <td>422</td>\n",
       "      <td>4.22</td>\n",
       "    </tr>\n",
       "    <tr>\n",
       "      <th>11</th>\n",
       "      <td>2019</td>\n",
       "      <td>421</td>\n",
       "      <td>4.21</td>\n",
       "    </tr>\n",
       "    <tr>\n",
       "      <th>12</th>\n",
       "      <td>2014</td>\n",
       "      <td>417</td>\n",
       "      <td>4.17</td>\n",
       "    </tr>\n",
       "    <tr>\n",
       "      <th>13</th>\n",
       "      <td>2006</td>\n",
       "      <td>415</td>\n",
       "      <td>4.15</td>\n",
       "    </tr>\n",
       "    <tr>\n",
       "      <th>14</th>\n",
       "      <td>2020</td>\n",
       "      <td>415</td>\n",
       "      <td>4.15</td>\n",
       "    </tr>\n",
       "    <tr>\n",
       "      <th>15</th>\n",
       "      <td>2001</td>\n",
       "      <td>406</td>\n",
       "      <td>4.06</td>\n",
       "    </tr>\n",
       "    <tr>\n",
       "      <th>16</th>\n",
       "      <td>2009</td>\n",
       "      <td>399</td>\n",
       "      <td>3.99</td>\n",
       "    </tr>\n",
       "    <tr>\n",
       "      <th>17</th>\n",
       "      <td>2022</td>\n",
       "      <td>397</td>\n",
       "      <td>3.97</td>\n",
       "    </tr>\n",
       "    <tr>\n",
       "      <th>18</th>\n",
       "      <td>2016</td>\n",
       "      <td>395</td>\n",
       "      <td>3.95</td>\n",
       "    </tr>\n",
       "    <tr>\n",
       "      <th>19</th>\n",
       "      <td>2004</td>\n",
       "      <td>394</td>\n",
       "      <td>3.94</td>\n",
       "    </tr>\n",
       "    <tr>\n",
       "      <th>20</th>\n",
       "      <td>2000</td>\n",
       "      <td>393</td>\n",
       "      <td>3.93</td>\n",
       "    </tr>\n",
       "    <tr>\n",
       "      <th>21</th>\n",
       "      <td>2021</td>\n",
       "      <td>391</td>\n",
       "      <td>3.91</td>\n",
       "    </tr>\n",
       "    <tr>\n",
       "      <th>22</th>\n",
       "      <td>2008</td>\n",
       "      <td>382</td>\n",
       "      <td>3.82</td>\n",
       "    </tr>\n",
       "    <tr>\n",
       "      <th>23</th>\n",
       "      <td>2003</td>\n",
       "      <td>381</td>\n",
       "      <td>3.81</td>\n",
       "    </tr>\n",
       "  </tbody>\n",
       "</table>\n",
       "</div>"
      ],
      "text/plain": [
       "    Year  Contagem  Proporção (%)\n",
       "0   2002       462           4.62\n",
       "1   2011       449           4.49\n",
       "2   2023       448           4.48\n",
       "3   2012       437           4.37\n",
       "4   2017       433           4.33\n",
       "5   2005       431           4.31\n",
       "6   2010       431           4.31\n",
       "7   2007       430           4.30\n",
       "8   2015       426           4.26\n",
       "9   2018       425           4.25\n",
       "10  2013       422           4.22\n",
       "11  2019       421           4.21\n",
       "12  2014       417           4.17\n",
       "13  2006       415           4.15\n",
       "14  2020       415           4.15\n",
       "15  2001       406           4.06\n",
       "16  2009       399           3.99\n",
       "17  2022       397           3.97\n",
       "18  2016       395           3.95\n",
       "19  2004       394           3.94\n",
       "20  2000       393           3.93\n",
       "21  2021       391           3.91\n",
       "22  2008       382           3.82\n",
       "23  2003       381           3.81"
      ]
     },
     "execution_count": 41,
     "metadata": {},
     "output_type": "execute_result"
    }
   ],
   "source": [
    "estatistica_qualitativa(df, 'Year')"
   ]
  },
  {
   "cell_type": "code",
   "execution_count": 45,
   "id": "97b00dcf",
   "metadata": {},
   "outputs": [
    {
     "name": "stdout",
     "output_type": "stream",
     "text": [
      "Diferença entre o ano com mais veículos e ano com menos: 81\n",
      "Quantidade de registros do ano que mais aparece: 462\n",
      "Proporção da diferença em relação aos anos de veículos: 21.26%\n"
     ]
    }
   ],
   "source": [
    "diferenca_max_min = df['Year'].value_counts().max() - df['Year'].value_counts().min()\n",
    "proporcao_max_min = (diferenca_max_min / df['Year'].value_counts().min()) * 100\n",
    "\n",
    "print(f'Diferença entre o ano com mais veículos e ano com menos: {diferenca_max_min}')\n",
    "print(f'Quantidade de registros do ano que mais aparece: {df[\"Year\"].value_counts().max()}')\n",
    "\n",
    "print(f'Proporção da diferença em relação aos anos de veículos: {proporcao_max_min:.2f}%')"
   ]
  },
  {
   "cell_type": "code",
   "execution_count": 39,
   "id": "4b4e6ff3",
   "metadata": {},
   "outputs": [
    {
     "data": {
      "text/plain": [
       "Text(0.5, 1.0, 'Contagem de Anos de Carros')"
      ]
     },
     "execution_count": 39,
     "metadata": {},
     "output_type": "execute_result"
    },
    {
     "data": {
      "image/png": "[encoded data removed]",
      "text/plain": [
       "<Figure size 1200x600 with 1 Axes>"
      ]
     },
     "metadata": {},
     "output_type": "display_data"
    }
   ],
   "source": [
    "df['Year'].value_counts().sort_index().plot(kind='bar', figsize=(12, 6))\n",
    "plt.title('Contagem de Anos de Carros')"
   ]
  },
  {
   "cell_type": "code",
   "execution_count": 50,
   "id": "415c1c7b",
   "metadata": {},
   "outputs": [
    {
     "name": "stdout",
     "output_type": "stream",
     "text": [
      "Quantidade de veículos dos anos 2000: 4093\n",
      "Quantidade de veículos dos anos 2010: 4256\n",
      "Quantidade de veículos dos anos 2020: 1651\n"
     ]
    }
   ],
   "source": [
    "# Análise por decada\n",
    "df_2000s = df[df['Year'].between(2000, 2009)]\n",
    "df_2010s = df[df['Year'].between(2010, 2019)]\n",
    "df_2020s = df[df['Year'] >= 2020]\n",
    "\n",
    "print(f'Quantidade de veículos dos anos 2000: {len(df_2000s)}')\n",
    "print(f'Quantidade de veículos dos anos 2010: {len(df_2010s)}')\n",
    "print(f'Quantidade de veículos dos anos 2020: {len(df_2020s)}')"
   ]
  },
  {
   "cell_type": "markdown",
   "id": "ef8e939c",
   "metadata": {},
   "source": [
    "> Há um leve desbalanceamento em relação a quantidade de veículos por ano, e ainda maior considerando por década, onde há uma quantidade relativamente menor de veículos da década de 2020 e prepoderância da década de 2010."
   ]
  },
  {
   "cell_type": "markdown",
   "id": "0e8ba1d0",
   "metadata": {},
   "source": [
    "### `Engine_Size`:"
   ]
  },
  {
   "cell_type": "code",
   "execution_count": 53,
   "id": "77cc23e1",
   "metadata": {},
   "outputs": [
    {
     "data": {
      "application/vnd.microsoft.datawrangler.viewer.v0+json": {
       "columns": [
        {
         "name": "index",
         "rawType": "object",
         "type": "string"
        },
        {
         "name": "Engine_Size",
         "rawType": "float64",
         "type": "float"
        }
       ],
       "ref": "a0af04b4-bd75-496a-a707-02737ec8db81",
       "rows": [
        [
         "count",
         "10000.0"
        ],
        [
         "mean",
         "3.0005599999999997"
        ],
        [
         "std",
         "1.149324053945665"
        ],
        [
         "min",
         "1.0"
        ],
        [
         "25%",
         "2.0"
        ],
        [
         "50%",
         "3.0"
        ],
        [
         "75%",
         "4.0"
        ],
        [
         "max",
         "5.0"
        ]
       ],
       "shape": {
        "columns": 1,
        "rows": 8
       }
      },
      "text/plain": [
       "count    10000.000000\n",
       "mean         3.000560\n",
       "std          1.149324\n",
       "min          1.000000\n",
       "25%          2.000000\n",
       "50%          3.000000\n",
       "75%          4.000000\n",
       "max          5.000000\n",
       "Name: Engine_Size, dtype: float64"
      ]
     },
     "execution_count": 53,
     "metadata": {},
     "output_type": "execute_result"
    }
   ],
   "source": [
    "df['Engine_Size'].describe()"
   ]
  },
  {
   "cell_type": "code",
   "execution_count": 54,
   "id": "6594452d",
   "metadata": {},
   "outputs": [
    {
     "data": {
      "application/vnd.microsoft.datawrangler.viewer.v0+json": {
       "columns": [
        {
         "name": "Engine_Size",
         "rawType": "float64",
         "type": "float"
        },
        {
         "name": "count",
         "rawType": "int64",
         "type": "integer"
        }
       ],
       "ref": "aa1bb5ae-076a-478f-bc98-34a4b3c5a1b4",
       "rows": [
        [
         "3.7",
         "273"
        ],
        [
         "4.4",
         "271"
        ],
        [
         "3.6",
         "267"
        ],
        [
         "2.5",
         "266"
        ],
        [
         "1.5",
         "265"
        ],
        [
         "4.0",
         "263"
        ],
        [
         "2.8",
         "262"
        ],
        [
         "4.6",
         "262"
        ],
        [
         "1.3",
         "261"
        ],
        [
         "2.2",
         "259"
        ],
        [
         "1.4",
         "259"
        ],
        [
         "2.6",
         "259"
        ],
        [
         "1.6",
         "258"
        ],
        [
         "2.0",
         "258"
        ],
        [
         "4.1",
         "257"
        ],
        [
         "3.5",
         "256"
        ],
        [
         "3.1",
         "254"
        ],
        [
         "3.3",
         "254"
        ],
        [
         "4.7",
         "253"
        ],
        [
         "3.8",
         "253"
        ],
        [
         "2.9",
         "253"
        ],
        [
         "1.2",
         "251"
        ],
        [
         "4.5",
         "250"
        ],
        [
         "2.7",
         "250"
        ],
        [
         "3.2",
         "249"
        ],
        [
         "1.8",
         "249"
        ],
        [
         "4.9",
         "247"
        ],
        [
         "1.7",
         "246"
        ],
        [
         "3.4",
         "243"
        ],
        [
         "4.3",
         "242"
        ],
        [
         "2.4",
         "240"
        ],
        [
         "3.0",
         "236"
        ],
        [
         "3.9",
         "236"
        ],
        [
         "2.1",
         "234"
        ],
        [
         "4.2",
         "232"
        ],
        [
         "1.9",
         "232"
        ],
        [
         "4.8",
         "231"
        ],
        [
         "1.1",
         "230"
        ],
        [
         "2.3",
         "223"
        ],
        [
         "1.0",
         "113"
        ],
        [
         "5.0",
         "103"
        ]
       ],
       "shape": {
        "columns": 1,
        "rows": 41
       }
      },
      "text/plain": [
       "Engine_Size\n",
       "3.7    273\n",
       "4.4    271\n",
       "3.6    267\n",
       "2.5    266\n",
       "1.5    265\n",
       "4.0    263\n",
       "2.8    262\n",
       "4.6    262\n",
       "1.3    261\n",
       "2.2    259\n",
       "1.4    259\n",
       "2.6    259\n",
       "1.6    258\n",
       "2.0    258\n",
       "4.1    257\n",
       "3.5    256\n",
       "3.1    254\n",
       "3.3    254\n",
       "4.7    253\n",
       "3.8    253\n",
       "2.9    253\n",
       "1.2    251\n",
       "4.5    250\n",
       "2.7    250\n",
       "3.2    249\n",
       "1.8    249\n",
       "4.9    247\n",
       "1.7    246\n",
       "3.4    243\n",
       "4.3    242\n",
       "2.4    240\n",
       "3.0    236\n",
       "3.9    236\n",
       "2.1    234\n",
       "4.2    232\n",
       "1.9    232\n",
       "4.8    231\n",
       "1.1    230\n",
       "2.3    223\n",
       "1.0    113\n",
       "5.0    103\n",
       "Name: count, dtype: int64"
      ]
     },
     "execution_count": 54,
     "metadata": {},
     "output_type": "execute_result"
    }
   ],
   "source": [
    "df['Engine_Size'].value_counts()"
   ]
  },
  {
   "cell_type": "code",
   "execution_count": 61,
   "id": "ace33f45",
   "metadata": {},
   "outputs": [
    {
     "data": {
      "application/vnd.microsoft.datawrangler.viewer.v0+json": {
       "columns": [
        {
         "name": "index",
         "rawType": "int64",
         "type": "integer"
        },
        {
         "name": "Engine_Size_Category",
         "rawType": "object",
         "type": "string"
        },
        {
         "name": "Contagem",
         "rawType": "int64",
         "type": "integer"
        },
        {
         "name": "Proporção (%)",
         "rawType": "float64",
         "type": "float"
        }
       ],
       "ref": "5caf948f-a95c-4f6c-b55e-7d727554ac3a",
       "rows": [
        [
         "0",
         "Mais de 2.5L",
         "6422",
         "64.22"
        ],
        [
         "1",
         "1.5L a 2.0L",
         "1250",
         "12.5"
        ],
        [
         "2",
         "2.0L a 2.5L",
         "1214",
         "12.14"
        ],
        [
         "3",
         "1.0L a 1.5L",
         "1114",
         "11.14"
        ]
       ],
       "shape": {
        "columns": 3,
        "rows": 4
       }
      },
      "text/html": [
       "<div>\n",
       "<style scoped>\n",
       "    .dataframe tbody tr th:only-of-type {\n",
       "        vertical-align: middle;\n",
       "    }\n",
       "\n",
       "    .dataframe tbody tr th {\n",
       "        vertical-align: top;\n",
       "    }\n",
       "\n",
       "    .dataframe thead th {\n",
       "        text-align: right;\n",
       "    }\n",
       "</style>\n",
       "<table border=\"1\" class=\"dataframe\">\n",
       "  <thead>\n",
       "    <tr style=\"text-align: right;\">\n",
       "      <th></th>\n",
       "      <th>Engine_Size_Category</th>\n",
       "      <th>Contagem</th>\n",
       "      <th>Proporção (%)</th>\n",
       "    </tr>\n",
       "  </thead>\n",
       "  <tbody>\n",
       "    <tr>\n",
       "      <th>0</th>\n",
       "      <td>Mais de 2.5L</td>\n",
       "      <td>6422</td>\n",
       "      <td>64.22</td>\n",
       "    </tr>\n",
       "    <tr>\n",
       "      <th>1</th>\n",
       "      <td>1.5L a 2.0L</td>\n",
       "      <td>1250</td>\n",
       "      <td>12.50</td>\n",
       "    </tr>\n",
       "    <tr>\n",
       "      <th>2</th>\n",
       "      <td>2.0L a 2.5L</td>\n",
       "      <td>1214</td>\n",
       "      <td>12.14</td>\n",
       "    </tr>\n",
       "    <tr>\n",
       "      <th>3</th>\n",
       "      <td>1.0L a 1.5L</td>\n",
       "      <td>1114</td>\n",
       "      <td>11.14</td>\n",
       "    </tr>\n",
       "  </tbody>\n",
       "</table>\n",
       "</div>"
      ],
      "text/plain": [
       "  Engine_Size_Category  Contagem  Proporção (%)\n",
       "0         Mais de 2.5L      6422          64.22\n",
       "1          1.5L a 2.0L      1250          12.50\n",
       "2          2.0L a 2.5L      1214          12.14\n",
       "3          1.0L a 1.5L      1114          11.14"
      ]
     },
     "execution_count": 61,
     "metadata": {},
     "output_type": "execute_result"
    }
   ],
   "source": [
    "# Agrupando motores\n",
    "def categorize_engine_size(size):\n",
    "    if size < 1.0:\n",
    "        return 'Menos de 1.0L'\n",
    "    elif 1.0 <= size < 1.5:\n",
    "        return '1.0L a 1.5L'\n",
    "    elif 1.5 <= size < 2.0:\n",
    "        return '1.5L a 2.0L'\n",
    "    elif 2.0 <= size < 2.5:\n",
    "        return '2.0L a 2.5L'\n",
    "    else:\n",
    "        return 'Mais de 2.5L'\n",
    "    \n",
    "df_agrupamento = df.copy()\n",
    "df_agrupamento['Engine_Size_Category'] = df_agrupamento['Engine_Size'].apply(categorize_engine_size)\n",
    "estatistica_qualitativa(df_agrupamento, 'Engine_Size_Category')"
   ]
  },
  {
   "cell_type": "code",
   "execution_count": 67,
   "id": "112a99db",
   "metadata": {},
   "outputs": [
    {
     "data": {
      "image/png": "[encoded data removed]",
      "text/plain": [
       "<Figure size 1000x600 with 1 Axes>"
      ]
     },
     "metadata": {},
     "output_type": "display_data"
    }
   ],
   "source": [
    "# Plotar gráfico de barras para categorias de tamanho do motor com números e porcentagem\n",
    "ax = df_agrupamento['Engine_Size_Category'].value_counts().plot(\n",
    "    kind='bar', figsize=(10, 6)\n",
    ")\n",
    "plt.title('Contagem de Tamanho do Motor')\n",
    "plt.xlabel('Tamanho do Motor')\n",
    "plt.ylabel('Frequência')\n",
    "plt.grid()\n",
    "\n",
    "# Adiciona os valores absolutos e percentuais acima das barras\n",
    "total = len(df_agrupamento)\n",
    "for p in ax.patches:\n",
    "    valor = int(p.get_height())\n",
    "    percentual = valor / total * 100\n",
    "    ax.annotate(f'{valor}\\n({percentual:.1f}%)',\n",
    "                (p.get_x() + p.get_width() / 2, p.get_height()),\n",
    "                ha='center', va='bottom', fontsize=10)\n",
    "\n",
    "plt.show()\n"
   ]
  },
  {
   "cell_type": "markdown",
   "id": "bca4af12",
   "metadata": {},
   "source": [
    "> Há uma disparidade grande em relação a quantidade de veículos com volume interno do maior que 2.5L e os de quantia menor.\n",
    "\n",
    "> Os de volume interno do motor maior que 2.5L representam mais de 64,2% dos veículos, enquanto que os demais grupos tem seus aproximados 12% de dados representativos da categoria"
   ]
  },
  {
   "cell_type": "code",
   "execution_count": null,
   "id": "10bb0702",
   "metadata": {},
   "outputs": [],
   "source": []
  }
 ],
 "metadata": {
  "kernelspec": {
   "display_name": "venv_padrao",
   "language": "python",
   "name": "python3"
  },
  "language_info": {
   "codemirror_mode": {
    "name": "ipython",
    "version": 3
   },
   "file_extension": ".py",
   "mimetype": "text/x-python",
   "name": "python",
   "nbconvert_exporter": "python",
   "pygments_lexer": "ipython3",
   "version": "3.11.11"
  }
 },
 "nbformat": 4,
 "nbformat_minor": 5
}
