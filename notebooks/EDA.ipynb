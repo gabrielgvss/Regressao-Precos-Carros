{
 "cells": [
  {
   "cell_type": "markdown",
   "id": "10fa5250",
   "metadata": {},
   "source": [
    "# Análise Exploratória de Dados"
   ]
  },
  {
   "cell_type": "markdown",
   "id": "660ecfd6",
   "metadata": {},
   "source": [
    "## 1) Entendimento dos dados:"
   ]
  },
  {
   "cell_type": "code",
   "execution_count": 1,
   "id": "04f5c2a7",
   "metadata": {},
   "outputs": [
    {
     "data": {
      "application/vnd.microsoft.datawrangler.viewer.v0+json": {
       "columns": [
        {
         "name": "index",
         "rawType": "int64",
         "type": "integer"
        },
        {
         "name": "Brand",
         "rawType": "object",
         "type": "string"
        },
        {
         "name": "Model",
         "rawType": "object",
         "type": "string"
        },
        {
         "name": "Year",
         "rawType": "int64",
         "type": "integer"
        },
        {
         "name": "Engine_Size",
         "rawType": "float64",
         "type": "float"
        },
        {
         "name": "Fuel_Type",
         "rawType": "object",
         "type": "string"
        },
        {
         "name": "Transmission",
         "rawType": "object",
         "type": "string"
        },
        {
         "name": "Mileage",
         "rawType": "int64",
         "type": "integer"
        },
        {
         "name": "Doors",
         "rawType": "int64",
         "type": "integer"
        },
        {
         "name": "Owner_Count",
         "rawType": "int64",
         "type": "integer"
        },
        {
         "name": "Price",
         "rawType": "int64",
         "type": "integer"
        }
       ],
       "ref": "142fddda-c906-45f2-9e3a-1a66f3e8a7d8",
       "rows": [
        [
         "0",
         "Kia",
         "Rio",
         "2020",
         "4.2",
         "Diesel",
         "Manual",
         "289944",
         "3",
         "5",
         "8501"
        ],
        [
         "1",
         "Chevrolet",
         "Malibu",
         "2012",
         "2.0",
         "Hybrid",
         "Automatic",
         "5356",
         "2",
         "3",
         "12092"
        ],
        [
         "2",
         "Mercedes",
         "GLA",
         "2020",
         "4.2",
         "Diesel",
         "Automatic",
         "231440",
         "4",
         "2",
         "11171"
        ],
        [
         "3",
         "Audi",
         "Q5",
         "2023",
         "2.0",
         "Electric",
         "Manual",
         "160971",
         "2",
         "1",
         "11780"
        ],
        [
         "4",
         "Volkswagen",
         "Golf",
         "2003",
         "2.6",
         "Hybrid",
         "Semi-Automatic",
         "286618",
         "3",
         "3",
         "2867"
        ]
       ],
       "shape": {
        "columns": 10,
        "rows": 5
       }
      },
      "text/html": [
       "<div>\n",
       "<style scoped>\n",
       "    .dataframe tbody tr th:only-of-type {\n",
       "        vertical-align: middle;\n",
       "    }\n",
       "\n",
       "    .dataframe tbody tr th {\n",
       "        vertical-align: top;\n",
       "    }\n",
       "\n",
       "    .dataframe thead th {\n",
       "        text-align: right;\n",
       "    }\n",
       "</style>\n",
       "<table border=\"1\" class=\"dataframe\">\n",
       "  <thead>\n",
       "    <tr style=\"text-align: right;\">\n",
       "      <th></th>\n",
       "      <th>Brand</th>\n",
       "      <th>Model</th>\n",
       "      <th>Year</th>\n",
       "      <th>Engine_Size</th>\n",
       "      <th>Fuel_Type</th>\n",
       "      <th>Transmission</th>\n",
       "      <th>Mileage</th>\n",
       "      <th>Doors</th>\n",
       "      <th>Owner_Count</th>\n",
       "      <th>Price</th>\n",
       "    </tr>\n",
       "  </thead>\n",
       "  <tbody>\n",
       "    <tr>\n",
       "      <th>0</th>\n",
       "      <td>Kia</td>\n",
       "      <td>Rio</td>\n",
       "      <td>2020</td>\n",
       "      <td>4.2</td>\n",
       "      <td>Diesel</td>\n",
       "      <td>Manual</td>\n",
       "      <td>289944</td>\n",
       "      <td>3</td>\n",
       "      <td>5</td>\n",
       "      <td>8501</td>\n",
       "    </tr>\n",
       "    <tr>\n",
       "      <th>1</th>\n",
       "      <td>Chevrolet</td>\n",
       "      <td>Malibu</td>\n",
       "      <td>2012</td>\n",
       "      <td>2.0</td>\n",
       "      <td>Hybrid</td>\n",
       "      <td>Automatic</td>\n",
       "      <td>5356</td>\n",
       "      <td>2</td>\n",
       "      <td>3</td>\n",
       "      <td>12092</td>\n",
       "    </tr>\n",
       "    <tr>\n",
       "      <th>2</th>\n",
       "      <td>Mercedes</td>\n",
       "      <td>GLA</td>\n",
       "      <td>2020</td>\n",
       "      <td>4.2</td>\n",
       "      <td>Diesel</td>\n",
       "      <td>Automatic</td>\n",
       "      <td>231440</td>\n",
       "      <td>4</td>\n",
       "      <td>2</td>\n",
       "      <td>11171</td>\n",
       "    </tr>\n",
       "    <tr>\n",
       "      <th>3</th>\n",
       "      <td>Audi</td>\n",
       "      <td>Q5</td>\n",
       "      <td>2023</td>\n",
       "      <td>2.0</td>\n",
       "      <td>Electric</td>\n",
       "      <td>Manual</td>\n",
       "      <td>160971</td>\n",
       "      <td>2</td>\n",
       "      <td>1</td>\n",
       "      <td>11780</td>\n",
       "    </tr>\n",
       "    <tr>\n",
       "      <th>4</th>\n",
       "      <td>Volkswagen</td>\n",
       "      <td>Golf</td>\n",
       "      <td>2003</td>\n",
       "      <td>2.6</td>\n",
       "      <td>Hybrid</td>\n",
       "      <td>Semi-Automatic</td>\n",
       "      <td>286618</td>\n",
       "      <td>3</td>\n",
       "      <td>3</td>\n",
       "      <td>2867</td>\n",
       "    </tr>\n",
       "  </tbody>\n",
       "</table>\n",
       "</div>"
      ],
      "text/plain": [
       "        Brand   Model  Year  Engine_Size Fuel_Type    Transmission  Mileage  \\\n",
       "0         Kia     Rio  2020          4.2    Diesel          Manual   289944   \n",
       "1   Chevrolet  Malibu  2012          2.0    Hybrid       Automatic     5356   \n",
       "2    Mercedes     GLA  2020          4.2    Diesel       Automatic   231440   \n",
       "3        Audi      Q5  2023          2.0  Electric          Manual   160971   \n",
       "4  Volkswagen    Golf  2003          2.6    Hybrid  Semi-Automatic   286618   \n",
       "\n",
       "   Doors  Owner_Count  Price  \n",
       "0      3            5   8501  \n",
       "1      2            3  12092  \n",
       "2      4            2  11171  \n",
       "3      2            1  11780  \n",
       "4      3            3   2867  "
      ]
     },
     "execution_count": 1,
     "metadata": {},
     "output_type": "execute_result"
    }
   ],
   "source": [
    "# Import das bibliotecas necessárias\n",
    "import pandas as pd\n",
    "import numpy as np\n",
    "import scipy.stats as stats\n",
    "import matplotlib.pyplot as plt\n",
    "import seaborn as sns\n",
    "import os\n",
    "\n",
    "# Import dos dados\n",
    "df = pd.read_csv('../dados/processed/car_price_dataset_clean.csv')\n",
    "df.head()"
   ]
  },
  {
   "cell_type": "markdown",
   "id": "58d7b9cf",
   "metadata": {},
   "source": [
    "### Dicionário dos dados:"
   ]
  },
  {
   "cell_type": "markdown",
   "id": "2d184ba9",
   "metadata": {
    "vscode": {
     "languageId": "markdown"
    }
   },
   "source": [
    "| Coluna        | Tipo Estatístico | Tipo Computacional | Significado                                                                 |\n",
    "|---------------|------------------|--------------------|----------------------------------------------------------------------------|\n",
    "| Brand         | Qualitativo      | object (string)    | Marca do veículo                                                           |\n",
    "| Model         | Qualitativo      | object (string)    | Modelo do veículo                                                          |\n",
    "| Year          | Qualitativo     | int64              | Ano de fabricação do veículo                                               |\n",
    "| Engine_Size   | Quantitativo     | float64            | Tamanho do motor do veículo (em litros)                                    |\n",
    "| Fuel_Type     | Qualitativo      | object (string)    | Tipo de combustível utilizado pelo veículo                                 |\n",
    "| Transmission  | Qualitativo      | object (string)    | Tipo de transmissão do veículo (Manual, Automática, Semi-Automática, etc.) |\n",
    "| Mileage       | Quantitativo     | int64              | Quilometragem rodada pelo veículo                                          |\n",
    "| Doors         | Quantitativo     | int64              | Número de portas do veículo                                                |\n",
    "| Owner_Count   | Quantitativo     | int64              | Número de proprietários anteriores                                         |\n",
    "| Price         | Quantitativo     | int64              | Preço do veículo (em unidade monetária)                                    |"
   ]
  },
  {
   "cell_type": "markdown",
   "id": "59a2ca5a",
   "metadata": {},
   "source": [
    "## 2) Análise Univariada"
   ]
  },
  {
   "cell_type": "code",
   "execution_count": 2,
   "id": "dc502001",
   "metadata": {},
   "outputs": [],
   "source": [
    "# Criando funções para análise univariada\n",
    "def estatistica_qualitativa(df, column):\n",
    "    coluna = df[column].copy()\n",
    "    contagem = coluna.value_counts()\n",
    "    proporcao = coluna.value_counts(normalize=True) * 100\n",
    "    df_resumo = pd.DataFrame({'Contagem': contagem, 'Proporção (%)': proporcao})\n",
    "    df_resumo.index.name = column\n",
    "    df_resumo.reset_index(inplace=True)\n",
    "    df_resumo['Proporção (%)'] = df_resumo['Proporção (%)'].round(2)\n",
    "    return df_resumo\n",
    "\n",
    "def plot_histogram(df, column, qtd_bins=30):\n",
    "    plt.figure(figsize=(10, 6))\n",
    "    sns.histplot(df[column], kde=True, bins=qtd_bins)\n",
    "    plt.title(f'Histograma de {column}')\n",
    "    plt.xlabel(column)\n",
    "    plt.ylabel('Frequência')\n",
    "    plt.grid()\n",
    "    plt.show()\n",
    "\n",
    "def plot_boxplot(df, column):\n",
    "    plt.figure(figsize=(10, 6))\n",
    "    sns.boxplot(x=df[column])\n",
    "    plt.title(f'Boxplot de {column}')\n",
    "    plt.xlabel(column)\n",
    "    plt.grid()\n",
    "    plt.show()\n",
    "\n",
    "\n",
    "def plot_bar(df, column):\n",
    "    plt.figure(figsize=(10, 6))\n",
    "    sns.countplot(y=df[column], order=df[column].value_counts(normalize=True).index)\n",
    "    plt.title(f'Contagem de {column}')\n",
    "    plt.xlabel('Frequência')\n",
    "    plt.ylabel(column)\n",
    "    plt.grid()\n",
    "    plt.show()\n",
    "\n",
    "def plot_pie(df, column):\n",
    "    plt.figure(figsize=(10, 6))\n",
    "    df[column].value_counts().plot.pie(autopct='%1.1f%%', startangle=90, cmap='viridis')\n",
    "    plt.title(f'Gráfico de Pizza de {column}')\n",
    "    plt.ylabel('')\n",
    "    plt.grid()\n",
    "    plt.show()"
   ]
  },
  {
   "cell_type": "markdown",
   "id": "d0bf53a9",
   "metadata": {},
   "source": [
    "### `Brand`:"
   ]
  },
  {
   "cell_type": "code",
   "execution_count": 3,
   "id": "fce08834",
   "metadata": {},
   "outputs": [
    {
     "data": {
      "application/vnd.microsoft.datawrangler.viewer.v0+json": {
       "columns": [
        {
         "name": "index",
         "rawType": "int64",
         "type": "integer"
        },
        {
         "name": "Brand",
         "rawType": "object",
         "type": "string"
        },
        {
         "name": "Contagem",
         "rawType": "int64",
         "type": "integer"
        },
        {
         "name": "Proporção (%)",
         "rawType": "float64",
         "type": "float"
        }
       ],
       "ref": "ca3502b5-cc31-492f-b5d1-bb9e1c30d5b0",
       "rows": [
        [
         "0",
         "Ford",
         "1048",
         "10.48"
        ],
        [
         "1",
         "Audi",
         "1038",
         "10.38"
        ],
        [
         "2",
         "Volkswagen",
         "1020",
         "10.2"
        ],
        [
         "3",
         "Honda",
         "1009",
         "10.09"
        ],
        [
         "4",
         "Chevrolet",
         "1003",
         "10.03"
        ],
        [
         "5",
         "BMW",
         "999",
         "9.99"
        ],
        [
         "6",
         "Hyundai",
         "995",
         "9.95"
        ],
        [
         "7",
         "Kia",
         "976",
         "9.76"
        ],
        [
         "8",
         "Toyota",
         "970",
         "9.7"
        ],
        [
         "9",
         "Mercedes",
         "942",
         "9.42"
        ]
       ],
       "shape": {
        "columns": 3,
        "rows": 10
       }
      },
      "text/html": [
       "<div>\n",
       "<style scoped>\n",
       "    .dataframe tbody tr th:only-of-type {\n",
       "        vertical-align: middle;\n",
       "    }\n",
       "\n",
       "    .dataframe tbody tr th {\n",
       "        vertical-align: top;\n",
       "    }\n",
       "\n",
       "    .dataframe thead th {\n",
       "        text-align: right;\n",
       "    }\n",
       "</style>\n",
       "<table border=\"1\" class=\"dataframe\">\n",
       "  <thead>\n",
       "    <tr style=\"text-align: right;\">\n",
       "      <th></th>\n",
       "      <th>Brand</th>\n",
       "      <th>Contagem</th>\n",
       "      <th>Proporção (%)</th>\n",
       "    </tr>\n",
       "  </thead>\n",
       "  <tbody>\n",
       "    <tr>\n",
       "      <th>0</th>\n",
       "      <td>Ford</td>\n",
       "      <td>1048</td>\n",
       "      <td>10.48</td>\n",
       "    </tr>\n",
       "    <tr>\n",
       "      <th>1</th>\n",
       "      <td>Audi</td>\n",
       "      <td>1038</td>\n",
       "      <td>10.38</td>\n",
       "    </tr>\n",
       "    <tr>\n",
       "      <th>2</th>\n",
       "      <td>Volkswagen</td>\n",
       "      <td>1020</td>\n",
       "      <td>10.20</td>\n",
       "    </tr>\n",
       "    <tr>\n",
       "      <th>3</th>\n",
       "      <td>Honda</td>\n",
       "      <td>1009</td>\n",
       "      <td>10.09</td>\n",
       "    </tr>\n",
       "    <tr>\n",
       "      <th>4</th>\n",
       "      <td>Chevrolet</td>\n",
       "      <td>1003</td>\n",
       "      <td>10.03</td>\n",
       "    </tr>\n",
       "    <tr>\n",
       "      <th>5</th>\n",
       "      <td>BMW</td>\n",
       "      <td>999</td>\n",
       "      <td>9.99</td>\n",
       "    </tr>\n",
       "    <tr>\n",
       "      <th>6</th>\n",
       "      <td>Hyundai</td>\n",
       "      <td>995</td>\n",
       "      <td>9.95</td>\n",
       "    </tr>\n",
       "    <tr>\n",
       "      <th>7</th>\n",
       "      <td>Kia</td>\n",
       "      <td>976</td>\n",
       "      <td>9.76</td>\n",
       "    </tr>\n",
       "    <tr>\n",
       "      <th>8</th>\n",
       "      <td>Toyota</td>\n",
       "      <td>970</td>\n",
       "      <td>9.70</td>\n",
       "    </tr>\n",
       "    <tr>\n",
       "      <th>9</th>\n",
       "      <td>Mercedes</td>\n",
       "      <td>942</td>\n",
       "      <td>9.42</td>\n",
       "    </tr>\n",
       "  </tbody>\n",
       "</table>\n",
       "</div>"
      ],
      "text/plain": [
       "        Brand  Contagem  Proporção (%)\n",
       "0        Ford      1048          10.48\n",
       "1        Audi      1038          10.38\n",
       "2  Volkswagen      1020          10.20\n",
       "3       Honda      1009          10.09\n",
       "4   Chevrolet      1003          10.03\n",
       "5         BMW       999           9.99\n",
       "6     Hyundai       995           9.95\n",
       "7         Kia       976           9.76\n",
       "8      Toyota       970           9.70\n",
       "9    Mercedes       942           9.42"
      ]
     },
     "execution_count": 3,
     "metadata": {},
     "output_type": "execute_result"
    }
   ],
   "source": [
    "estatistica_qualitativa(df, 'Brand')"
   ]
  },
  {
   "cell_type": "code",
   "execution_count": 4,
   "id": "4faba210",
   "metadata": {},
   "outputs": [
    {
     "name": "stdout",
     "output_type": "stream",
     "text": [
      "Diferença entre a marca mais frequente e a menos frequente: 106\n",
      "Quantidade de registros da marca mais frequente: 1048\n",
      "Proporção da diferença em relação à marca menos frequente: 11.25%\n"
     ]
    }
   ],
   "source": [
    "diferenca_max_min = df['Brand'].value_counts().max() - df['Brand'].value_counts().min()\n",
    "proporcao_max_min = (diferenca_max_min / df['Brand'].value_counts().min()) * 100\n",
    "\n",
    "print(f'Diferença entre a marca mais frequente e a menos frequente: {diferenca_max_min}')\n",
    "print(f'Quantidade de registros da marca mais frequente: {df[\"Brand\"].value_counts().max()}')\n",
    "\n",
    "print(f'Proporção da diferença em relação à marca menos frequente: {proporcao_max_min:.2f}%')"
   ]
  },
  {
   "cell_type": "code",
   "execution_count": 5,
   "id": "e4735e97",
   "metadata": {},
   "outputs": [
    {
     "data": {
      "image/png": "[encoded data removed]",
      "text/plain": [
       "<Figure size 1000x600 with 1 Axes>"
      ]
     },
     "metadata": {},
     "output_type": "display_data"
    }
   ],
   "source": [
    "plot_bar(df, 'Brand')"
   ]
  },
  {
   "cell_type": "markdown",
   "id": "8e38f0f3",
   "metadata": {},
   "source": [
    "> Há uma quantidade balanceada de registros de cada Marca de carro, havendo no total 10 valores de marcas de carros, como exibidos na tabela acima\n",
    "\n",
    "> A Ford é a marca com maior quantidade de veículos, porém tem apenas 11.25% dados a mais em relação a marca com menor quantidade de veículos (Mercedes)"
   ]
  },
  {
   "cell_type": "markdown",
   "id": "0f361609",
   "metadata": {},
   "source": [
    "### `Model`:"
   ]
  },
  {
   "cell_type": "code",
   "execution_count": 6,
   "id": "58834d11",
   "metadata": {},
   "outputs": [
    {
     "data": {
      "application/vnd.microsoft.datawrangler.viewer.v0+json": {
       "columns": [
        {
         "name": "index",
         "rawType": "int64",
         "type": "integer"
        },
        {
         "name": "Model",
         "rawType": "object",
         "type": "string"
        },
        {
         "name": "Contagem",
         "rawType": "int64",
         "type": "integer"
        },
        {
         "name": "Proporção (%)",
         "rawType": "float64",
         "type": "float"
        }
       ],
       "ref": "b7f840c8-8318-4f29-ba0c-e2f5a6d98232",
       "rows": [
        [
         "0",
         "Accord",
         "365",
         "3.65"
        ],
        [
         "1",
         "Fiesta",
         "363",
         "3.63"
        ],
        [
         "2",
         "Impala",
         "355",
         "3.55"
        ],
        [
         "3",
         "5 Series",
         "353",
         "3.53"
        ],
        [
         "4",
         "Tiguan",
         "352",
         "3.52"
        ],
        [
         "5",
         "Focus",
         "351",
         "3.51"
        ],
        [
         "6",
         "Q5",
         "350",
         "3.5"
        ],
        [
         "7",
         "A4",
         "350",
         "3.5"
        ],
        [
         "8",
         "Elantra",
         "347",
         "3.47"
        ],
        [
         "9",
         "Golf",
         "339",
         "3.39"
        ],
        [
         "10",
         "A3",
         "338",
         "3.38"
        ],
        [
         "11",
         "Optima",
         "336",
         "3.36"
        ],
        [
         "12",
         "Civic",
         "336",
         "3.36"
        ],
        [
         "13",
         "3 Series",
         "335",
         "3.35"
        ],
        [
         "14",
         "Explorer",
         "334",
         "3.34"
        ],
        [
         "15",
         "Malibu",
         "333",
         "3.33"
        ],
        [
         "16",
         "Passat",
         "329",
         "3.29"
        ],
        [
         "17",
         "Tucson",
         "329",
         "3.29"
        ],
        [
         "18",
         "Rio",
         "327",
         "3.27"
        ],
        [
         "19",
         "Corolla",
         "325",
         "3.25"
        ],
        [
         "20",
         "RAV4",
         "324",
         "3.24"
        ],
        [
         "21",
         "Camry",
         "321",
         "3.21"
        ],
        [
         "22",
         "E-Class",
         "321",
         "3.21"
        ],
        [
         "23",
         "Sonata",
         "319",
         "3.19"
        ],
        [
         "24",
         "Equinox",
         "315",
         "3.15"
        ],
        [
         "25",
         "GLA",
         "315",
         "3.15"
        ],
        [
         "26",
         "Sportage",
         "313",
         "3.13"
        ],
        [
         "27",
         "X5",
         "311",
         "3.11"
        ],
        [
         "28",
         "CR-V",
         "308",
         "3.08"
        ],
        [
         "29",
         "C-Class",
         "306",
         "3.06"
        ]
       ],
       "shape": {
        "columns": 3,
        "rows": 30
       }
      },
      "text/html": [
       "<div>\n",
       "<style scoped>\n",
       "    .dataframe tbody tr th:only-of-type {\n",
       "        vertical-align: middle;\n",
       "    }\n",
       "\n",
       "    .dataframe tbody tr th {\n",
       "        vertical-align: top;\n",
       "    }\n",
       "\n",
       "    .dataframe thead th {\n",
       "        text-align: right;\n",
       "    }\n",
       "</style>\n",
       "<table border=\"1\" class=\"dataframe\">\n",
       "  <thead>\n",
       "    <tr style=\"text-align: right;\">\n",
       "      <th></th>\n",
       "      <th>Model</th>\n",
       "      <th>Contagem</th>\n",
       "      <th>Proporção (%)</th>\n",
       "    </tr>\n",
       "  </thead>\n",
       "  <tbody>\n",
       "    <tr>\n",
       "      <th>0</th>\n",
       "      <td>Accord</td>\n",
       "      <td>365</td>\n",
       "      <td>3.65</td>\n",
       "    </tr>\n",
       "    <tr>\n",
       "      <th>1</th>\n",
       "      <td>Fiesta</td>\n",
       "      <td>363</td>\n",
       "      <td>3.63</td>\n",
       "    </tr>\n",
       "    <tr>\n",
       "      <th>2</th>\n",
       "      <td>Impala</td>\n",
       "      <td>355</td>\n",
       "      <td>3.55</td>\n",
       "    </tr>\n",
       "    <tr>\n",
       "      <th>3</th>\n",
       "      <td>5 Series</td>\n",
       "      <td>353</td>\n",
       "      <td>3.53</td>\n",
       "    </tr>\n",
       "    <tr>\n",
       "      <th>4</th>\n",
       "      <td>Tiguan</td>\n",
       "      <td>352</td>\n",
       "      <td>3.52</td>\n",
       "    </tr>\n",
       "    <tr>\n",
       "      <th>5</th>\n",
       "      <td>Focus</td>\n",
       "      <td>351</td>\n",
       "      <td>3.51</td>\n",
       "    </tr>\n",
       "    <tr>\n",
       "      <th>6</th>\n",
       "      <td>Q5</td>\n",
       "      <td>350</td>\n",
       "      <td>3.50</td>\n",
       "    </tr>\n",
       "    <tr>\n",
       "      <th>7</th>\n",
       "      <td>A4</td>\n",
       "      <td>350</td>\n",
       "      <td>3.50</td>\n",
       "    </tr>\n",
       "    <tr>\n",
       "      <th>8</th>\n",
       "      <td>Elantra</td>\n",
       "      <td>347</td>\n",
       "      <td>3.47</td>\n",
       "    </tr>\n",
       "    <tr>\n",
       "      <th>9</th>\n",
       "      <td>Golf</td>\n",
       "      <td>339</td>\n",
       "      <td>3.39</td>\n",
       "    </tr>\n",
       "    <tr>\n",
       "      <th>10</th>\n",
       "      <td>A3</td>\n",
       "      <td>338</td>\n",
       "      <td>3.38</td>\n",
       "    </tr>\n",
       "    <tr>\n",
       "      <th>11</th>\n",
       "      <td>Optima</td>\n",
       "      <td>336</td>\n",
       "      <td>3.36</td>\n",
       "    </tr>\n",
       "    <tr>\n",
       "      <th>12</th>\n",
       "      <td>Civic</td>\n",
       "      <td>336</td>\n",
       "      <td>3.36</td>\n",
       "    </tr>\n",
       "    <tr>\n",
       "      <th>13</th>\n",
       "      <td>3 Series</td>\n",
       "      <td>335</td>\n",
       "      <td>3.35</td>\n",
       "    </tr>\n",
       "    <tr>\n",
       "      <th>14</th>\n",
       "      <td>Explorer</td>\n",
       "      <td>334</td>\n",
       "      <td>3.34</td>\n",
       "    </tr>\n",
       "    <tr>\n",
       "      <th>15</th>\n",
       "      <td>Malibu</td>\n",
       "      <td>333</td>\n",
       "      <td>3.33</td>\n",
       "    </tr>\n",
       "    <tr>\n",
       "      <th>16</th>\n",
       "      <td>Passat</td>\n",
       "      <td>329</td>\n",
       "      <td>3.29</td>\n",
       "    </tr>\n",
       "    <tr>\n",
       "      <th>17</th>\n",
       "      <td>Tucson</td>\n",
       "      <td>329</td>\n",
       "      <td>3.29</td>\n",
       "    </tr>\n",
       "    <tr>\n",
       "      <th>18</th>\n",
       "      <td>Rio</td>\n",
       "      <td>327</td>\n",
       "      <td>3.27</td>\n",
       "    </tr>\n",
       "    <tr>\n",
       "      <th>19</th>\n",
       "      <td>Corolla</td>\n",
       "      <td>325</td>\n",
       "      <td>3.25</td>\n",
       "    </tr>\n",
       "    <tr>\n",
       "      <th>20</th>\n",
       "      <td>RAV4</td>\n",
       "      <td>324</td>\n",
       "      <td>3.24</td>\n",
       "    </tr>\n",
       "    <tr>\n",
       "      <th>21</th>\n",
       "      <td>Camry</td>\n",
       "      <td>321</td>\n",
       "      <td>3.21</td>\n",
       "    </tr>\n",
       "    <tr>\n",
       "      <th>22</th>\n",
       "      <td>E-Class</td>\n",
       "      <td>321</td>\n",
       "      <td>3.21</td>\n",
       "    </tr>\n",
       "    <tr>\n",
       "      <th>23</th>\n",
       "      <td>Sonata</td>\n",
       "      <td>319</td>\n",
       "      <td>3.19</td>\n",
       "    </tr>\n",
       "    <tr>\n",
       "      <th>24</th>\n",
       "      <td>Equinox</td>\n",
       "      <td>315</td>\n",
       "      <td>3.15</td>\n",
       "    </tr>\n",
       "    <tr>\n",
       "      <th>25</th>\n",
       "      <td>GLA</td>\n",
       "      <td>315</td>\n",
       "      <td>3.15</td>\n",
       "    </tr>\n",
       "    <tr>\n",
       "      <th>26</th>\n",
       "      <td>Sportage</td>\n",
       "      <td>313</td>\n",
       "      <td>3.13</td>\n",
       "    </tr>\n",
       "    <tr>\n",
       "      <th>27</th>\n",
       "      <td>X5</td>\n",
       "      <td>311</td>\n",
       "      <td>3.11</td>\n",
       "    </tr>\n",
       "    <tr>\n",
       "      <th>28</th>\n",
       "      <td>CR-V</td>\n",
       "      <td>308</td>\n",
       "      <td>3.08</td>\n",
       "    </tr>\n",
       "    <tr>\n",
       "      <th>29</th>\n",
       "      <td>C-Class</td>\n",
       "      <td>306</td>\n",
       "      <td>3.06</td>\n",
       "    </tr>\n",
       "  </tbody>\n",
       "</table>\n",
       "</div>"
      ],
      "text/plain": [
       "       Model  Contagem  Proporção (%)\n",
       "0     Accord       365           3.65\n",
       "1     Fiesta       363           3.63\n",
       "2     Impala       355           3.55\n",
       "3   5 Series       353           3.53\n",
       "4     Tiguan       352           3.52\n",
       "5      Focus       351           3.51\n",
       "6         Q5       350           3.50\n",
       "7         A4       350           3.50\n",
       "8    Elantra       347           3.47\n",
       "9       Golf       339           3.39\n",
       "10        A3       338           3.38\n",
       "11    Optima       336           3.36\n",
       "12     Civic       336           3.36\n",
       "13  3 Series       335           3.35\n",
       "14  Explorer       334           3.34\n",
       "15    Malibu       333           3.33\n",
       "16    Passat       329           3.29\n",
       "17    Tucson       329           3.29\n",
       "18       Rio       327           3.27\n",
       "19   Corolla       325           3.25\n",
       "20      RAV4       324           3.24\n",
       "21     Camry       321           3.21\n",
       "22   E-Class       321           3.21\n",
       "23    Sonata       319           3.19\n",
       "24   Equinox       315           3.15\n",
       "25       GLA       315           3.15\n",
       "26  Sportage       313           3.13\n",
       "27        X5       311           3.11\n",
       "28      CR-V       308           3.08\n",
       "29   C-Class       306           3.06"
      ]
     },
     "execution_count": 6,
     "metadata": {},
     "output_type": "execute_result"
    }
   ],
   "source": [
    "estatistica_qualitativa(df, 'Model')"
   ]
  },
  {
   "cell_type": "code",
   "execution_count": 7,
   "id": "fac6b233",
   "metadata": {},
   "outputs": [
    {
     "name": "stdout",
     "output_type": "stream",
     "text": [
      "Diferença entre a marca mais frequente e a menos frequente: 59\n",
      "Quantidade de registros da marca mais frequente: 365\n",
      "Proporção da diferença em relação à marca menos frequente: 6.26%\n"
     ]
    }
   ],
   "source": [
    "diferenca_max_min = df['Model'].value_counts().max() - df['Model'].value_counts().min()\n",
    "proporcao_max_min = (diferenca_max_min / df['Brand'].value_counts().min()) * 100\n",
    "\n",
    "print(f'Diferença entre a marca mais frequente e a menos frequente: {diferenca_max_min}')\n",
    "print(f'Quantidade de registros da marca mais frequente: {df[\"Model\"].value_counts().max()}')\n",
    "\n",
    "print(f'Proporção da diferença em relação à marca menos frequente: {proporcao_max_min:.2f}%')"
   ]
  },
  {
   "cell_type": "code",
   "execution_count": 8,
   "id": "e07bac03",
   "metadata": {},
   "outputs": [
    {
     "data": {
      "image/png": "[encoded data removed]",
      "text/plain": [
       "<Figure size 1200x800 with 1 Axes>"
      ]
     },
     "metadata": {},
     "output_type": "display_data"
    }
   ],
   "source": [
    "# Plotar grafico de barras horizontais que possa suportar 29 modelos de carros\n",
    "plt.figure(figsize=(12, 8))\n",
    "sns.countplot(y=df['Model'], order=df['Model'].value_counts().index)\n",
    "plt.title('Contagem de Modelos de Carros')\n",
    "plt.xlabel('Frequência')\n",
    "plt.ylabel('Modelo')\n",
    "plt.grid()  \n",
    "plt.show()\n"
   ]
  },
  {
   "cell_type": "markdown",
   "id": "f655ee4a",
   "metadata": {},
   "source": [
    "> Mesmo havendo um total de 30 modelos, não há uma diferença significativa entre a quantidade de dados de carro por marca, garantindo um balanceamento para tal fator\n",
    "\n",
    "> O Accord é o modelo com maior quantidade de veículos, porém tem apenas 6.26% dados a mais em relação ao modelo com menor quantidade de veículos (C-Class)"
   ]
  },
  {
   "cell_type": "markdown",
   "id": "5858780a",
   "metadata": {},
   "source": [
    "### `Year`:"
   ]
  },
  {
   "cell_type": "code",
   "execution_count": 9,
   "id": "95649aff",
   "metadata": {},
   "outputs": [
    {
     "data": {
      "application/vnd.microsoft.datawrangler.viewer.v0+json": {
       "columns": [
        {
         "name": "index",
         "rawType": "object",
         "type": "string"
        },
        {
         "name": "Year",
         "rawType": "float64",
         "type": "float"
        }
       ],
       "ref": "c51cfc03-2487-4980-bfea-58411d46e3cb",
       "rows": [
        [
         "count",
         "10000.0"
        ],
        [
         "mean",
         "2011.5437"
        ],
        [
         "std",
         "6.897698756455915"
        ],
        [
         "min",
         "2000.0"
        ],
        [
         "25%",
         "2006.0"
        ],
        [
         "50%",
         "2012.0"
        ],
        [
         "75%",
         "2017.0"
        ],
        [
         "max",
         "2023.0"
        ]
       ],
       "shape": {
        "columns": 1,
        "rows": 8
       }
      },
      "text/plain": [
       "count    10000.000000\n",
       "mean      2011.543700\n",
       "std          6.897699\n",
       "min       2000.000000\n",
       "25%       2006.000000\n",
       "50%       2012.000000\n",
       "75%       2017.000000\n",
       "max       2023.000000\n",
       "Name: Year, dtype: float64"
      ]
     },
     "execution_count": 9,
     "metadata": {},
     "output_type": "execute_result"
    }
   ],
   "source": [
    "df['Year'].describe()"
   ]
  },
  {
   "cell_type": "markdown",
   "id": "bb74383f",
   "metadata": {},
   "source": [
    "> No atual contexto, a variável ano na verdade se encaixa majoritariamente como qualitativa do que como quantitativa, por não indicar uma contagem ou um registro contínuo, mas sim um timestamp."
   ]
  },
  {
   "cell_type": "code",
   "execution_count": 10,
   "id": "17217027",
   "metadata": {},
   "outputs": [
    {
     "data": {
      "application/vnd.microsoft.datawrangler.viewer.v0+json": {
       "columns": [
        {
         "name": "index",
         "rawType": "int64",
         "type": "integer"
        },
        {
         "name": "Year",
         "rawType": "int64",
         "type": "integer"
        },
        {
         "name": "Contagem",
         "rawType": "int64",
         "type": "integer"
        },
        {
         "name": "Proporção (%)",
         "rawType": "float64",
         "type": "float"
        }
       ],
       "ref": "2ca2da83-d229-4aed-98c5-67c6845b905a",
       "rows": [
        [
         "0",
         "2002",
         "462",
         "4.62"
        ],
        [
         "1",
         "2011",
         "449",
         "4.49"
        ],
        [
         "2",
         "2023",
         "448",
         "4.48"
        ],
        [
         "3",
         "2012",
         "437",
         "4.37"
        ],
        [
         "4",
         "2017",
         "433",
         "4.33"
        ],
        [
         "5",
         "2005",
         "431",
         "4.31"
        ],
        [
         "6",
         "2010",
         "431",
         "4.31"
        ],
        [
         "7",
         "2007",
         "430",
         "4.3"
        ],
        [
         "8",
         "2015",
         "426",
         "4.26"
        ],
        [
         "9",
         "2018",
         "425",
         "4.25"
        ],
        [
         "10",
         "2013",
         "422",
         "4.22"
        ],
        [
         "11",
         "2019",
         "421",
         "4.21"
        ],
        [
         "12",
         "2014",
         "417",
         "4.17"
        ],
        [
         "13",
         "2006",
         "415",
         "4.15"
        ],
        [
         "14",
         "2020",
         "415",
         "4.15"
        ],
        [
         "15",
         "2001",
         "406",
         "4.06"
        ],
        [
         "16",
         "2009",
         "399",
         "3.99"
        ],
        [
         "17",
         "2022",
         "397",
         "3.97"
        ],
        [
         "18",
         "2016",
         "395",
         "3.95"
        ],
        [
         "19",
         "2004",
         "394",
         "3.94"
        ],
        [
         "20",
         "2000",
         "393",
         "3.93"
        ],
        [
         "21",
         "2021",
         "391",
         "3.91"
        ],
        [
         "22",
         "2008",
         "382",
         "3.82"
        ],
        [
         "23",
         "2003",
         "381",
         "3.81"
        ]
       ],
       "shape": {
        "columns": 3,
        "rows": 24
       }
      },
      "text/html": [
       "<div>\n",
       "<style scoped>\n",
       "    .dataframe tbody tr th:only-of-type {\n",
       "        vertical-align: middle;\n",
       "    }\n",
       "\n",
       "    .dataframe tbody tr th {\n",
       "        vertical-align: top;\n",
       "    }\n",
       "\n",
       "    .dataframe thead th {\n",
       "        text-align: right;\n",
       "    }\n",
       "</style>\n",
       "<table border=\"1\" class=\"dataframe\">\n",
       "  <thead>\n",
       "    <tr style=\"text-align: right;\">\n",
       "      <th></th>\n",
       "      <th>Year</th>\n",
       "      <th>Contagem</th>\n",
       "      <th>Proporção (%)</th>\n",
       "    </tr>\n",
       "  </thead>\n",
       "  <tbody>\n",
       "    <tr>\n",
       "      <th>0</th>\n",
       "      <td>2002</td>\n",
       "      <td>462</td>\n",
       "      <td>4.62</td>\n",
       "    </tr>\n",
       "    <tr>\n",
       "      <th>1</th>\n",
       "      <td>2011</td>\n",
       "      <td>449</td>\n",
       "      <td>4.49</td>\n",
       "    </tr>\n",
       "    <tr>\n",
       "      <th>2</th>\n",
       "      <td>2023</td>\n",
       "      <td>448</td>\n",
       "      <td>4.48</td>\n",
       "    </tr>\n",
       "    <tr>\n",
       "      <th>3</th>\n",
       "      <td>2012</td>\n",
       "      <td>437</td>\n",
       "      <td>4.37</td>\n",
       "    </tr>\n",
       "    <tr>\n",
       "      <th>4</th>\n",
       "      <td>2017</td>\n",
       "      <td>433</td>\n",
       "      <td>4.33</td>\n",
       "    </tr>\n",
       "    <tr>\n",
       "      <th>5</th>\n",
       "      <td>2005</td>\n",
       "      <td>431</td>\n",
       "      <td>4.31</td>\n",
       "    </tr>\n",
       "    <tr>\n",
       "      <th>6</th>\n",
       "      <td>2010</td>\n",
       "      <td>431</td>\n",
       "      <td>4.31</td>\n",
       "    </tr>\n",
       "    <tr>\n",
       "      <th>7</th>\n",
       "      <td>2007</td>\n",
       "      <td>430</td>\n",
       "      <td>4.30</td>\n",
       "    </tr>\n",
       "    <tr>\n",
       "      <th>8</th>\n",
       "      <td>2015</td>\n",
       "      <td>426</td>\n",
       "      <td>4.26</td>\n",
       "    </tr>\n",
       "    <tr>\n",
       "      <th>9</th>\n",
       "      <td>2018</td>\n",
       "      <td>425</td>\n",
       "      <td>4.25</td>\n",
       "    </tr>\n",
       "    <tr>\n",
       "      <th>10</th>\n",
       "      <td>2013</td>\n",
       "      <td>422</td>\n",
       "      <td>4.22</td>\n",
       "    </tr>\n",
       "    <tr>\n",
       "      <th>11</th>\n",
       "      <td>2019</td>\n",
       "      <td>421</td>\n",
       "      <td>4.21</td>\n",
       "    </tr>\n",
       "    <tr>\n",
       "      <th>12</th>\n",
       "      <td>2014</td>\n",
       "      <td>417</td>\n",
       "      <td>4.17</td>\n",
       "    </tr>\n",
       "    <tr>\n",
       "      <th>13</th>\n",
       "      <td>2006</td>\n",
       "      <td>415</td>\n",
       "      <td>4.15</td>\n",
       "    </tr>\n",
       "    <tr>\n",
       "      <th>14</th>\n",
       "      <td>2020</td>\n",
       "      <td>415</td>\n",
       "      <td>4.15</td>\n",
       "    </tr>\n",
       "    <tr>\n",
       "      <th>15</th>\n",
       "      <td>2001</td>\n",
       "      <td>406</td>\n",
       "      <td>4.06</td>\n",
       "    </tr>\n",
       "    <tr>\n",
       "      <th>16</th>\n",
       "      <td>2009</td>\n",
       "      <td>399</td>\n",
       "      <td>3.99</td>\n",
       "    </tr>\n",
       "    <tr>\n",
       "      <th>17</th>\n",
       "      <td>2022</td>\n",
       "      <td>397</td>\n",
       "      <td>3.97</td>\n",
       "    </tr>\n",
       "    <tr>\n",
       "      <th>18</th>\n",
       "      <td>2016</td>\n",
       "      <td>395</td>\n",
       "      <td>3.95</td>\n",
       "    </tr>\n",
       "    <tr>\n",
       "      <th>19</th>\n",
       "      <td>2004</td>\n",
       "      <td>394</td>\n",
       "      <td>3.94</td>\n",
       "    </tr>\n",
       "    <tr>\n",
       "      <th>20</th>\n",
       "      <td>2000</td>\n",
       "      <td>393</td>\n",
       "      <td>3.93</td>\n",
       "    </tr>\n",
       "    <tr>\n",
       "      <th>21</th>\n",
       "      <td>2021</td>\n",
       "      <td>391</td>\n",
       "      <td>3.91</td>\n",
       "    </tr>\n",
       "    <tr>\n",
       "      <th>22</th>\n",
       "      <td>2008</td>\n",
       "      <td>382</td>\n",
       "      <td>3.82</td>\n",
       "    </tr>\n",
       "    <tr>\n",
       "      <th>23</th>\n",
       "      <td>2003</td>\n",
       "      <td>381</td>\n",
       "      <td>3.81</td>\n",
       "    </tr>\n",
       "  </tbody>\n",
       "</table>\n",
       "</div>"
      ],
      "text/plain": [
       "    Year  Contagem  Proporção (%)\n",
       "0   2002       462           4.62\n",
       "1   2011       449           4.49\n",
       "2   2023       448           4.48\n",
       "3   2012       437           4.37\n",
       "4   2017       433           4.33\n",
       "5   2005       431           4.31\n",
       "6   2010       431           4.31\n",
       "7   2007       430           4.30\n",
       "8   2015       426           4.26\n",
       "9   2018       425           4.25\n",
       "10  2013       422           4.22\n",
       "11  2019       421           4.21\n",
       "12  2014       417           4.17\n",
       "13  2006       415           4.15\n",
       "14  2020       415           4.15\n",
       "15  2001       406           4.06\n",
       "16  2009       399           3.99\n",
       "17  2022       397           3.97\n",
       "18  2016       395           3.95\n",
       "19  2004       394           3.94\n",
       "20  2000       393           3.93\n",
       "21  2021       391           3.91\n",
       "22  2008       382           3.82\n",
       "23  2003       381           3.81"
      ]
     },
     "execution_count": 10,
     "metadata": {},
     "output_type": "execute_result"
    }
   ],
   "source": [
    "estatistica_qualitativa(df, 'Year')"
   ]
  },
  {
   "cell_type": "code",
   "execution_count": 11,
   "id": "97b00dcf",
   "metadata": {},
   "outputs": [
    {
     "name": "stdout",
     "output_type": "stream",
     "text": [
      "Diferença entre o ano com mais veículos e ano com menos: 81\n",
      "Quantidade de registros do ano que mais aparece: 462\n",
      "Proporção da diferença em relação aos anos de veículos: 21.26%\n"
     ]
    }
   ],
   "source": [
    "diferenca_max_min = df['Year'].value_counts().max() - df['Year'].value_counts().min()\n",
    "proporcao_max_min = (diferenca_max_min / df['Year'].value_counts().min()) * 100\n",
    "\n",
    "print(f'Diferença entre o ano com mais veículos e ano com menos: {diferenca_max_min}')\n",
    "print(f'Quantidade de registros do ano que mais aparece: {df[\"Year\"].value_counts().max()}')\n",
    "\n",
    "print(f'Proporção da diferença em relação aos anos de veículos: {proporcao_max_min:.2f}%')"
   ]
  },
  {
   "cell_type": "code",
   "execution_count": 12,
   "id": "4b4e6ff3",
   "metadata": {},
   "outputs": [
    {
     "data": {
      "text/plain": [
       "Text(0.5, 1.0, 'Contagem de Anos de Carros')"
      ]
     },
     "execution_count": 12,
     "metadata": {},
     "output_type": "execute_result"
    },
    {
     "data": {
      "image/png": "[encoded data removed]",
      "text/plain": [
       "<Figure size 1200x600 with 1 Axes>"
      ]
     },
     "metadata": {},
     "output_type": "display_data"
    }
   ],
   "source": [
    "# Gráfico de barras para anos ordenado por ano\n",
    "ax = df['Year'].value_counts().sort_index().plot(kind='bar', figsize=(12, 6))\n",
    "plt.title('Contagem de Anos de Carros')"
   ]
  },
  {
   "cell_type": "code",
   "execution_count": 13,
   "id": "415c1c7b",
   "metadata": {},
   "outputs": [
    {
     "name": "stdout",
     "output_type": "stream",
     "text": [
      "Quantidade de veículos dos anos 2000: 4093\n",
      "Quantidade de veículos dos anos 2010: 4256\n",
      "Quantidade de veículos dos anos 2020: 1651\n"
     ]
    }
   ],
   "source": [
    "# Análise por decada\n",
    "df_2000s = df[df['Year'].between(2000, 2009)]\n",
    "df_2010s = df[df['Year'].between(2010, 2019)]\n",
    "df_2020s = df[df['Year'] >= 2020]\n",
    "\n",
    "print(f'Quantidade de veículos dos anos 2000: {len(df_2000s)}')\n",
    "print(f'Quantidade de veículos dos anos 2010: {len(df_2010s)}')\n",
    "print(f'Quantidade de veículos dos anos 2020: {len(df_2020s)}')"
   ]
  },
  {
   "cell_type": "code",
   "execution_count": 14,
   "id": "f472baa5",
   "metadata": {},
   "outputs": [
    {
     "data": {
      "image/png": "[encoded data removed]",
      "text/plain": [
       "<Figure size 800x500 with 1 Axes>"
      ]
     },
     "metadata": {},
     "output_type": "display_data"
    }
   ],
   "source": [
    "# Gráfico de barras para décadas\n",
    "# Criando uma Series com as quantidades por década\n",
    "decadas = pd.Series({\n",
    "    '2000s': len(df_2000s),\n",
    "    '2010s': len(df_2010s),\n",
    "    '2020s': len(df_2020s)\n",
    "})\n",
    "\n",
    "# Plotando o gráfico de barras\n",
    "plt.figure(figsize=(8, 5))\n",
    "ax = decadas.plot(kind='bar')\n",
    "plt.title('Quantidade de Veículos por Década')\n",
    "plt.xlabel('Década')\n",
    "plt.ylabel('Quantidade')\n",
    "plt.grid(axis='y')\n",
    "\n",
    "# Adicionando os valores acima das barras\n",
    "for p in ax.patches:\n",
    "    ax.annotate(f'{int(p.get_height())}',\n",
    "                (p.get_x() + p.get_width() / 2, p.get_height()),\n",
    "                ha='center', va='bottom', fontsize=11)\n",
    "\n",
    "plt.show()\n"
   ]
  },
  {
   "cell_type": "markdown",
   "id": "ef8e939c",
   "metadata": {},
   "source": [
    "> Há um leve desbalanceamento em relação a quantidade de veículos por ano, e ainda maior considerando por década, onde há uma quantidade relativamente menor de veículos da década de 2020 e prepoderância da década de 2010."
   ]
  },
  {
   "cell_type": "markdown",
   "id": "0e8ba1d0",
   "metadata": {},
   "source": [
    "### `Engine_Size`:"
   ]
  },
  {
   "cell_type": "code",
   "execution_count": 15,
   "id": "77cc23e1",
   "metadata": {},
   "outputs": [
    {
     "data": {
      "application/vnd.microsoft.datawrangler.viewer.v0+json": {
       "columns": [
        {
         "name": "index",
         "rawType": "object",
         "type": "string"
        },
        {
         "name": "Engine_Size",
         "rawType": "float64",
         "type": "float"
        }
       ],
       "ref": "8831f126-1d64-41c4-9194-b6f42b831c00",
       "rows": [
        [
         "count",
         "10000.0"
        ],
        [
         "mean",
         "3.0005599999999997"
        ],
        [
         "std",
         "1.149324053945665"
        ],
        [
         "min",
         "1.0"
        ],
        [
         "25%",
         "2.0"
        ],
        [
         "50%",
         "3.0"
        ],
        [
         "75%",
         "4.0"
        ],
        [
         "max",
         "5.0"
        ]
       ],
       "shape": {
        "columns": 1,
        "rows": 8
       }
      },
      "text/plain": [
       "count    10000.000000\n",
       "mean         3.000560\n",
       "std          1.149324\n",
       "min          1.000000\n",
       "25%          2.000000\n",
       "50%          3.000000\n",
       "75%          4.000000\n",
       "max          5.000000\n",
       "Name: Engine_Size, dtype: float64"
      ]
     },
     "execution_count": 15,
     "metadata": {},
     "output_type": "execute_result"
    }
   ],
   "source": [
    "df['Engine_Size'].describe()"
   ]
  },
  {
   "cell_type": "code",
   "execution_count": 16,
   "id": "6594452d",
   "metadata": {},
   "outputs": [
    {
     "data": {
      "application/vnd.microsoft.datawrangler.viewer.v0+json": {
       "columns": [
        {
         "name": "Engine_Size",
         "rawType": "float64",
         "type": "float"
        },
        {
         "name": "count",
         "rawType": "int64",
         "type": "integer"
        }
       ],
       "ref": "77222587-702b-44a7-bdb6-0263a7726e27",
       "rows": [
        [
         "3.7",
         "273"
        ],
        [
         "4.4",
         "271"
        ],
        [
         "3.6",
         "267"
        ],
        [
         "2.5",
         "266"
        ],
        [
         "1.5",
         "265"
        ],
        [
         "4.0",
         "263"
        ],
        [
         "2.8",
         "262"
        ],
        [
         "4.6",
         "262"
        ],
        [
         "1.3",
         "261"
        ],
        [
         "2.2",
         "259"
        ],
        [
         "1.4",
         "259"
        ],
        [
         "2.6",
         "259"
        ],
        [
         "1.6",
         "258"
        ],
        [
         "2.0",
         "258"
        ],
        [
         "4.1",
         "257"
        ],
        [
         "3.5",
         "256"
        ],
        [
         "3.1",
         "254"
        ],
        [
         "3.3",
         "254"
        ],
        [
         "4.7",
         "253"
        ],
        [
         "3.8",
         "253"
        ],
        [
         "2.9",
         "253"
        ],
        [
         "1.2",
         "251"
        ],
        [
         "4.5",
         "250"
        ],
        [
         "2.7",
         "250"
        ],
        [
         "3.2",
         "249"
        ],
        [
         "1.8",
         "249"
        ],
        [
         "4.9",
         "247"
        ],
        [
         "1.7",
         "246"
        ],
        [
         "3.4",
         "243"
        ],
        [
         "4.3",
         "242"
        ],
        [
         "2.4",
         "240"
        ],
        [
         "3.0",
         "236"
        ],
        [
         "3.9",
         "236"
        ],
        [
         "2.1",
         "234"
        ],
        [
         "4.2",
         "232"
        ],
        [
         "1.9",
         "232"
        ],
        [
         "4.8",
         "231"
        ],
        [
         "1.1",
         "230"
        ],
        [
         "2.3",
         "223"
        ],
        [
         "1.0",
         "113"
        ],
        [
         "5.0",
         "103"
        ]
       ],
       "shape": {
        "columns": 1,
        "rows": 41
       }
      },
      "text/plain": [
       "Engine_Size\n",
       "3.7    273\n",
       "4.4    271\n",
       "3.6    267\n",
       "2.5    266\n",
       "1.5    265\n",
       "4.0    263\n",
       "2.8    262\n",
       "4.6    262\n",
       "1.3    261\n",
       "2.2    259\n",
       "1.4    259\n",
       "2.6    259\n",
       "1.6    258\n",
       "2.0    258\n",
       "4.1    257\n",
       "3.5    256\n",
       "3.1    254\n",
       "3.3    254\n",
       "4.7    253\n",
       "3.8    253\n",
       "2.9    253\n",
       "1.2    251\n",
       "4.5    250\n",
       "2.7    250\n",
       "3.2    249\n",
       "1.8    249\n",
       "4.9    247\n",
       "1.7    246\n",
       "3.4    243\n",
       "4.3    242\n",
       "2.4    240\n",
       "3.0    236\n",
       "3.9    236\n",
       "2.1    234\n",
       "4.2    232\n",
       "1.9    232\n",
       "4.8    231\n",
       "1.1    230\n",
       "2.3    223\n",
       "1.0    113\n",
       "5.0    103\n",
       "Name: count, dtype: int64"
      ]
     },
     "execution_count": 16,
     "metadata": {},
     "output_type": "execute_result"
    }
   ],
   "source": [
    "df['Engine_Size'].value_counts()"
   ]
  },
  {
   "cell_type": "code",
   "execution_count": 17,
   "id": "ced0fc53",
   "metadata": {},
   "outputs": [
    {
     "name": "stdout",
     "output_type": "stream",
     "text": [
      "Sturges: 15 bins\n",
      "Rice: 44 bins\n",
      "Freedman–Diaconis: 22 bins\n"
     ]
    }
   ],
   "source": [
    "# Calcular bins com a regra de Sturges\n",
    "x = df['Engine_Size'].dropna()\n",
    "n = len(df['Engine_Size'])\n",
    "\n",
    "sturges_bins = int(np.ceil(np.log2(n) + 1))\n",
    "\n",
    "# Calcular bins com Rice\n",
    "rice_bins = int(np.ceil(2 * n ** (1/3)))\n",
    "\n",
    "# Calcular bins com Freedman–Diaconis\n",
    "iqr = x.quantile(0.75) - x.quantile(0.25)\n",
    "bin_width = 2 * iqr / (n ** (1/3))\n",
    "fd_bins = int(np.ceil((x.max() - x.min()) / bin_width))\n",
    "\n",
    "print(f'Sturges: {sturges_bins} bins')\n",
    "print(f'Rice: {rice_bins} bins')\n",
    "print(f'Freedman–Diaconis: {fd_bins} bins')"
   ]
  },
  {
   "cell_type": "code",
   "execution_count": 18,
   "id": "d9113020",
   "metadata": {},
   "outputs": [
    {
     "data": {
      "image/png": "[encoded data removed]",
      "text/plain": [
       "<Figure size 1200x500 with 1 Axes>"
      ]
     },
     "metadata": {},
     "output_type": "display_data"
    }
   ],
   "source": [
    "x = df['Engine_Size'].dropna()\n",
    "\n",
    "# Gerar os 22 intervalos manualmente\n",
    "bin_edges = np.linspace(x.min(), x.max(), num=23)  # 23 pontos = 22 intervalos\n",
    "labels = [f\"{round(bin_edges[i],1)} - {round(bin_edges[i+1],1)}\" for i in range(len(bin_edges)-1)]\n",
    "\n",
    "# Criar uma nova coluna com os rótulos dos bins\n",
    "df['Engine_Bin'] = pd.cut(x, bins=bin_edges, labels=labels, include_lowest=True)\n",
    "\n",
    "# Ver quantos dados caíram em cada intervalo\n",
    "frequencias = df['Engine_Bin'].value_counts().sort_index()\n",
    "\n",
    "# Plotar histograma com rótulos personalizados\n",
    "frequencias.plot(kind='bar', figsize=(12, 5))\n",
    "plt.xticks(rotation=45)\n",
    "plt.xlabel('Faixa de Engine Size (L)')\n",
    "plt.ylabel('Frequência')\n",
    "plt.title('Histograma de Engine Size (22 Bins - Freedman–Diaconis)')\n",
    "plt.tight_layout()\n",
    "plt.show()"
   ]
  },
  {
   "cell_type": "code",
   "execution_count": 19,
   "id": "ace33f45",
   "metadata": {},
   "outputs": [
    {
     "data": {
      "application/vnd.microsoft.datawrangler.viewer.v0+json": {
       "columns": [
        {
         "name": "index",
         "rawType": "int64",
         "type": "integer"
        },
        {
         "name": "Engine_Size_Category",
         "rawType": "object",
         "type": "string"
        },
        {
         "name": "Contagem",
         "rawType": "int64",
         "type": "integer"
        },
        {
         "name": "Proporção (%)",
         "rawType": "float64",
         "type": "float"
        }
       ],
       "ref": "c7a4a5f6-ffb9-4cae-9f3a-7c19c1628562",
       "rows": [
        [
         "0",
         "2.5L a 3.0L",
         "1290",
         "13.03"
        ],
        [
         "1",
         "3.5L a 4.0L",
         "1285",
         "12.98"
        ],
        [
         "2",
         "4.0L a 4.5L",
         "1265",
         "12.78"
        ],
        [
         "3",
         "1.5L a 2.0L",
         "1250",
         "12.63"
        ],
        [
         "4",
         "4.5L a 5.0L",
         "1243",
         "12.56"
        ],
        [
         "5",
         "3.0L a 3.5L",
         "1236",
         "12.49"
        ],
        [
         "6",
         "2.0L a 2.5L",
         "1214",
         "12.27"
        ],
        [
         "7",
         "1.0L a 1.5L",
         "1114",
         "11.26"
        ]
       ],
       "shape": {
        "columns": 3,
        "rows": 8
       }
      },
      "text/html": [
       "<div>\n",
       "<style scoped>\n",
       "    .dataframe tbody tr th:only-of-type {\n",
       "        vertical-align: middle;\n",
       "    }\n",
       "\n",
       "    .dataframe tbody tr th {\n",
       "        vertical-align: top;\n",
       "    }\n",
       "\n",
       "    .dataframe thead th {\n",
       "        text-align: right;\n",
       "    }\n",
       "</style>\n",
       "<table border=\"1\" class=\"dataframe\">\n",
       "  <thead>\n",
       "    <tr style=\"text-align: right;\">\n",
       "      <th></th>\n",
       "      <th>Engine_Size_Category</th>\n",
       "      <th>Contagem</th>\n",
       "      <th>Proporção (%)</th>\n",
       "    </tr>\n",
       "  </thead>\n",
       "  <tbody>\n",
       "    <tr>\n",
       "      <th>0</th>\n",
       "      <td>2.5L a 3.0L</td>\n",
       "      <td>1290</td>\n",
       "      <td>13.03</td>\n",
       "    </tr>\n",
       "    <tr>\n",
       "      <th>1</th>\n",
       "      <td>3.5L a 4.0L</td>\n",
       "      <td>1285</td>\n",
       "      <td>12.98</td>\n",
       "    </tr>\n",
       "    <tr>\n",
       "      <th>2</th>\n",
       "      <td>4.0L a 4.5L</td>\n",
       "      <td>1265</td>\n",
       "      <td>12.78</td>\n",
       "    </tr>\n",
       "    <tr>\n",
       "      <th>3</th>\n",
       "      <td>1.5L a 2.0L</td>\n",
       "      <td>1250</td>\n",
       "      <td>12.63</td>\n",
       "    </tr>\n",
       "    <tr>\n",
       "      <th>4</th>\n",
       "      <td>4.5L a 5.0L</td>\n",
       "      <td>1243</td>\n",
       "      <td>12.56</td>\n",
       "    </tr>\n",
       "    <tr>\n",
       "      <th>5</th>\n",
       "      <td>3.0L a 3.5L</td>\n",
       "      <td>1236</td>\n",
       "      <td>12.49</td>\n",
       "    </tr>\n",
       "    <tr>\n",
       "      <th>6</th>\n",
       "      <td>2.0L a 2.5L</td>\n",
       "      <td>1214</td>\n",
       "      <td>12.27</td>\n",
       "    </tr>\n",
       "    <tr>\n",
       "      <th>7</th>\n",
       "      <td>1.0L a 1.5L</td>\n",
       "      <td>1114</td>\n",
       "      <td>11.26</td>\n",
       "    </tr>\n",
       "  </tbody>\n",
       "</table>\n",
       "</div>"
      ],
      "text/plain": [
       "  Engine_Size_Category  Contagem  Proporção (%)\n",
       "0          2.5L a 3.0L      1290          13.03\n",
       "1          3.5L a 4.0L      1285          12.98\n",
       "2          4.0L a 4.5L      1265          12.78\n",
       "3          1.5L a 2.0L      1250          12.63\n",
       "4          4.5L a 5.0L      1243          12.56\n",
       "5          3.0L a 3.5L      1236          12.49\n",
       "6          2.0L a 2.5L      1214          12.27\n",
       "7          1.0L a 1.5L      1114          11.26"
      ]
     },
     "execution_count": 19,
     "metadata": {},
     "output_type": "execute_result"
    }
   ],
   "source": [
    "# Agrupando motores\n",
    "def categorize_engine_size(size):\n",
    "    if size < 1.0:\n",
    "        return 'Menos de 1.0L'\n",
    "    elif 1.0 <= size < 1.5:\n",
    "        return '1.0L a 1.5L'\n",
    "    elif 1.5 <= size < 2.0:\n",
    "        return '1.5L a 2.0L'\n",
    "    elif 2.0 <= size < 2.5:\n",
    "        return '2.0L a 2.5L'\n",
    "    elif 2.5 <= size < 3.0:\n",
    "        return '2.5L a 3.0L'\n",
    "    elif 3.0 <= size < 3.5:\n",
    "        return '3.0L a 3.5L'\n",
    "    elif 3.5 <= size < 4.0:\n",
    "        return '3.5L a 4.0L'\n",
    "    elif 4.0 <= size < 4.5:\n",
    "        return '4.0L a 4.5L'\n",
    "    elif 4.5 <= size < 5.0:\n",
    "        return '4.5L a 5.0L'\n",
    "    \n",
    "df_agrupamento = df.copy()\n",
    "df_agrupamento['Engine_Size_Category'] = df_agrupamento['Engine_Size'].apply(categorize_engine_size)\n",
    "estatistica_qualitativa(df_agrupamento, 'Engine_Size_Category')"
   ]
  },
  {
   "cell_type": "code",
   "execution_count": 26,
   "id": "112a99db",
   "metadata": {},
   "outputs": [
    {
     "data": {
      "image/png": "[encoded data removed]",
      "text/plain": [
       "<Figure size 1000x600 with 1 Axes>"
      ]
     },
     "metadata": {},
     "output_type": "display_data"
    }
   ],
   "source": [
    "# Plotar gráfico de barras para categorias de tamanho do motor com números e porcentagem\n",
    "ax = df_agrupamento['Engine_Size_Category'].value_counts().sort_index().plot(\n",
    "    kind='bar', figsize=(10, 6)\n",
    ")\n",
    "plt.title('Contagem de Tamanho do Motor')\n",
    "plt.xlabel('Tamanho do Motor')\n",
    "plt.ylabel('Frequência')\n",
    "plt.grid()\n",
    "\n",
    "# Adiciona os valores absolutos e percentuais acima das barras\n",
    "total = len(df_agrupamento)\n",
    "for p in ax.patches:\n",
    "    valor = int(p.get_height())\n",
    "    percentual = valor / total * 100\n",
    "    ax.annotate(f'{valor}\\n({percentual:.1f}%)',\n",
    "                (p.get_x() + p.get_width() / 2, p.get_height()),\n",
    "                ha='center', va='bottom', fontsize=10)\n",
    "\n",
    "plt.show()\n"
   ]
  },
  {
   "cell_type": "code",
   "execution_count": 21,
   "id": "305ffc93",
   "metadata": {},
   "outputs": [
    {
     "data": {
      "image/png": "[encoded data removed]",
      "text/plain": [
       "<Figure size 1000x600 with 1 Axes>"
      ]
     },
     "metadata": {},
     "output_type": "display_data"
    }
   ],
   "source": [
    "# Boxplot\n",
    "plot_boxplot(df, 'Engine_Size')"
   ]
  },
  {
   "cell_type": "code",
   "execution_count": 28,
   "id": "5bfc96bf",
   "metadata": {},
   "outputs": [
    {
     "name": "stdout",
     "output_type": "stream",
     "text": [
      "IQR do tamanho do motor: 2.0\n",
      "Quartis do tamanho do motor:\n",
      "0.1    1.4\n",
      "0.2    1.8\n",
      "0.3    2.2\n",
      "0.4    2.6\n",
      "0.5    3.0\n",
      "0.6    3.4\n",
      "0.7    3.8\n",
      "0.8    4.2\n",
      "0.9    4.6\n",
      "Name: Engine_Size, dtype: float64\n",
      "Curtoses do tamanho do motor:\n",
      "-1.1966318041432136\n",
      "Assimetria do tamanho do motor:\n",
      "-0.008233754006580602\n"
     ]
    }
   ],
   "source": [
    "IQR_Engine_Size = df['Engine_Size'].quantile(0.75) - df['Engine_Size'].quantile(0.25)\n",
    "quartis = df['Engine_Size'].quantile([0.1, 0.2, 0.3, 0.4, 0.5, 0.6, 0.7, 0.8, 0.9])\n",
    "print(f'IQR do tamanho do motor: {IQR_Engine_Size}')\n",
    "print(f'Quartis do tamanho do motor:\\n{quartis}')\n",
    "print(f'Curtoses do tamanho do motor:\\n{stats.kurtosis(df[\"Engine_Size\"])}')\n",
    "print(f'Assimetria do tamanho do motor:\\n{stats.skew(df[\"Engine_Size\"])}')"
   ]
  },
  {
   "cell_type": "markdown",
   "id": "bca4af12",
   "metadata": {},
   "source": [
    "> Há uma disparidade grande em relação a quantidade de veículos com volume interno do maior que 2.0L e os de quantia menor.\n",
    "\n",
    "> No demais, há uma quantidade balanceada em relação a quantidade de veículos por faixa de volume interno do motor"
   ]
  },
  {
   "cell_type": "markdown",
   "id": "a18c59da",
   "metadata": {},
   "source": [
    "### `Fuel Type`"
   ]
  },
  {
   "cell_type": "code",
   "execution_count": 30,
   "id": "e652d13d",
   "metadata": {},
   "outputs": [
    {
     "data": {
      "application/vnd.microsoft.datawrangler.viewer.v0+json": {
       "columns": [
        {
         "name": "index",
         "rawType": "int64",
         "type": "integer"
        },
        {
         "name": "Fuel_Type",
         "rawType": "object",
         "type": "string"
        },
        {
         "name": "Contagem",
         "rawType": "int64",
         "type": "integer"
        },
        {
         "name": "Proporção (%)",
         "rawType": "float64",
         "type": "float"
        }
       ],
       "ref": "9b5d3364-4144-47e4-8245-eede43ba3350",
       "rows": [
        [
         "0",
         "Electric",
         "2625",
         "26.25"
        ],
        [
         "1",
         "Diesel",
         "2512",
         "25.12"
        ],
        [
         "2",
         "Hybrid",
         "2453",
         "24.53"
        ],
        [
         "3",
         "Petrol",
         "2410",
         "24.1"
        ]
       ],
       "shape": {
        "columns": 3,
        "rows": 4
       }
      },
      "text/html": [
       "<div>\n",
       "<style scoped>\n",
       "    .dataframe tbody tr th:only-of-type {\n",
       "        vertical-align: middle;\n",
       "    }\n",
       "\n",
       "    .dataframe tbody tr th {\n",
       "        vertical-align: top;\n",
       "    }\n",
       "\n",
       "    .dataframe thead th {\n",
       "        text-align: right;\n",
       "    }\n",
       "</style>\n",
       "<table border=\"1\" class=\"dataframe\">\n",
       "  <thead>\n",
       "    <tr style=\"text-align: right;\">\n",
       "      <th></th>\n",
       "      <th>Fuel_Type</th>\n",
       "      <th>Contagem</th>\n",
       "      <th>Proporção (%)</th>\n",
       "    </tr>\n",
       "  </thead>\n",
       "  <tbody>\n",
       "    <tr>\n",
       "      <th>0</th>\n",
       "      <td>Electric</td>\n",
       "      <td>2625</td>\n",
       "      <td>26.25</td>\n",
       "    </tr>\n",
       "    <tr>\n",
       "      <th>1</th>\n",
       "      <td>Diesel</td>\n",
       "      <td>2512</td>\n",
       "      <td>25.12</td>\n",
       "    </tr>\n",
       "    <tr>\n",
       "      <th>2</th>\n",
       "      <td>Hybrid</td>\n",
       "      <td>2453</td>\n",
       "      <td>24.53</td>\n",
       "    </tr>\n",
       "    <tr>\n",
       "      <th>3</th>\n",
       "      <td>Petrol</td>\n",
       "      <td>2410</td>\n",
       "      <td>24.10</td>\n",
       "    </tr>\n",
       "  </tbody>\n",
       "</table>\n",
       "</div>"
      ],
      "text/plain": [
       "  Fuel_Type  Contagem  Proporção (%)\n",
       "0  Electric      2625          26.25\n",
       "1    Diesel      2512          25.12\n",
       "2    Hybrid      2453          24.53\n",
       "3    Petrol      2410          24.10"
      ]
     },
     "execution_count": 30,
     "metadata": {},
     "output_type": "execute_result"
    }
   ],
   "source": [
    "estatistica_qualitativa(df, 'Fuel_Type')"
   ]
  },
  {
   "cell_type": "code",
   "execution_count": 31,
   "id": "16218132",
   "metadata": {},
   "outputs": [
    {
     "data": {
      "image/png": "[encoded data removed]",
      "text/plain": [
       "<Figure size 1000x600 with 1 Axes>"
      ]
     },
     "metadata": {},
     "output_type": "display_data"
    }
   ],
   "source": [
    "plot_bar(df, 'Fuel_Type')"
   ]
  },
  {
   "cell_type": "code",
   "execution_count": 32,
   "id": "c0e50f4c",
   "metadata": {},
   "outputs": [
    {
     "name": "stdout",
     "output_type": "stream",
     "text": [
      "Diferença de dados entre o tipo de combustível com maior quantidade de veículos e o menor : 215\n",
      "Quantidade de registros do mais frequente: 2625\n",
      "Proporção da diferença em relação ao marca menos frequente: 8.92%\n"
     ]
    }
   ],
   "source": [
    "diferenca_max_min = df['Fuel_Type'].value_counts().max() - df['Fuel_Type'].value_counts().min()\n",
    "proporcao_max_min = (diferenca_max_min / df['Fuel_Type'].value_counts().min()) * 100\n",
    "\n",
    "print(f'Diferença de dados entre o tipo de combustível com maior quantidade de veículos e o menor : {diferenca_max_min}')\n",
    "print(f'Quantidade de registros do mais frequente: {df[\"Fuel_Type\"].value_counts().max()}')\n",
    "\n",
    "print(f'Proporção da diferença em relação ao marca menos frequente: {proporcao_max_min:.2f}%')"
   ]
  },
  {
   "cell_type": "markdown",
   "id": "8a059aef",
   "metadata": {},
   "source": [
    "> Há quatro tipos de veículos no dataset: movidos a gasolina apenas, híbridos (gasolina e álcool), diesel e elétricos\n",
    "\n",
    "> Apesar de haver uma maior quantidade de veículos elétricos, a quantidade dos veículos por tipo de combustível não chega a ser tanta, considerando o tamanho do dataset (apenas 8,92%)"
   ]
  },
  {
   "cell_type": "markdown",
   "id": "7754ccfa",
   "metadata": {},
   "source": [
    "### `Transmission`"
   ]
  },
  {
   "cell_type": "code",
   "execution_count": 33,
   "id": "5ff098fe",
   "metadata": {},
   "outputs": [
    {
     "data": {
      "application/vnd.microsoft.datawrangler.viewer.v0+json": {
       "columns": [
        {
         "name": "index",
         "rawType": "int64",
         "type": "integer"
        },
        {
         "name": "Transmission",
         "rawType": "object",
         "type": "string"
        },
        {
         "name": "Contagem",
         "rawType": "int64",
         "type": "integer"
        },
        {
         "name": "Proporção (%)",
         "rawType": "float64",
         "type": "float"
        }
       ],
       "ref": "e017880e-4b91-4f7b-a177-b78110eb23e9",
       "rows": [
        [
         "0",
         "Manual",
         "3372",
         "33.72"
        ],
        [
         "1",
         "Automatic",
         "3317",
         "33.17"
        ],
        [
         "2",
         "Semi-Automatic",
         "3311",
         "33.11"
        ]
       ],
       "shape": {
        "columns": 3,
        "rows": 3
       }
      },
      "text/html": [
       "<div>\n",
       "<style scoped>\n",
       "    .dataframe tbody tr th:only-of-type {\n",
       "        vertical-align: middle;\n",
       "    }\n",
       "\n",
       "    .dataframe tbody tr th {\n",
       "        vertical-align: top;\n",
       "    }\n",
       "\n",
       "    .dataframe thead th {\n",
       "        text-align: right;\n",
       "    }\n",
       "</style>\n",
       "<table border=\"1\" class=\"dataframe\">\n",
       "  <thead>\n",
       "    <tr style=\"text-align: right;\">\n",
       "      <th></th>\n",
       "      <th>Transmission</th>\n",
       "      <th>Contagem</th>\n",
       "      <th>Proporção (%)</th>\n",
       "    </tr>\n",
       "  </thead>\n",
       "  <tbody>\n",
       "    <tr>\n",
       "      <th>0</th>\n",
       "      <td>Manual</td>\n",
       "      <td>3372</td>\n",
       "      <td>33.72</td>\n",
       "    </tr>\n",
       "    <tr>\n",
       "      <th>1</th>\n",
       "      <td>Automatic</td>\n",
       "      <td>3317</td>\n",
       "      <td>33.17</td>\n",
       "    </tr>\n",
       "    <tr>\n",
       "      <th>2</th>\n",
       "      <td>Semi-Automatic</td>\n",
       "      <td>3311</td>\n",
       "      <td>33.11</td>\n",
       "    </tr>\n",
       "  </tbody>\n",
       "</table>\n",
       "</div>"
      ],
      "text/plain": [
       "     Transmission  Contagem  Proporção (%)\n",
       "0          Manual      3372          33.72\n",
       "1       Automatic      3317          33.17\n",
       "2  Semi-Automatic      3311          33.11"
      ]
     },
     "execution_count": 33,
     "metadata": {},
     "output_type": "execute_result"
    }
   ],
   "source": [
    "estatistica_qualitativa(df, 'Transmission')"
   ]
  },
  {
   "cell_type": "code",
   "execution_count": 34,
   "id": "4473d197",
   "metadata": {},
   "outputs": [
    {
     "data": {
      "image/png": "[encoded data removed]",
      "text/plain": [
       "<Figure size 1000x600 with 1 Axes>"
      ]
     },
     "metadata": {},
     "output_type": "display_data"
    }
   ],
   "source": [
    "plot_bar(df, 'Transmission')"
   ]
  },
  {
   "cell_type": "markdown",
   "id": "c0279f01",
   "metadata": {},
   "source": [
    "> A quantidade de diferentes dados de acordo com o sistema de transmissão do veículo (manual, semiautomatico ou automático) é deveras balanceada entre as classes, em que todas as classes tem por volta de 33% de representatividade"
   ]
  },
  {
   "cell_type": "markdown",
   "id": "12bec263",
   "metadata": {},
   "source": [
    "### `Mileage`"
   ]
  },
  {
   "cell_type": "code",
   "execution_count": 35,
   "id": "1ef19bf1",
   "metadata": {},
   "outputs": [
    {
     "data": {
      "application/vnd.microsoft.datawrangler.viewer.v0+json": {
       "columns": [
        {
         "name": "index",
         "rawType": "object",
         "type": "string"
        },
        {
         "name": "Mileage",
         "rawType": "float64",
         "type": "float"
        }
       ],
       "ref": "cd9ae410-665d-4021-b55d-b5e74a3022af",
       "rows": [
        [
         "count",
         "10000.0"
        ],
        [
         "mean",
         "149239.1118"
        ],
        [
         "std",
         "86322.34895733812"
        ],
        [
         "min",
         "25.0"
        ],
        [
         "25%",
         "74649.25"
        ],
        [
         "50%",
         "149587.0"
        ],
        [
         "75%",
         "223577.5"
        ],
        [
         "max",
         "299947.0"
        ]
       ],
       "shape": {
        "columns": 1,
        "rows": 8
       }
      },
      "text/plain": [
       "count     10000.000000\n",
       "mean     149239.111800\n",
       "std       86322.348957\n",
       "min          25.000000\n",
       "25%       74649.250000\n",
       "50%      149587.000000\n",
       "75%      223577.500000\n",
       "max      299947.000000\n",
       "Name: Mileage, dtype: float64"
      ]
     },
     "execution_count": 35,
     "metadata": {},
     "output_type": "execute_result"
    }
   ],
   "source": [
    "df['Mileage'].describe()"
   ]
  },
  {
   "cell_type": "code",
   "execution_count": 41,
   "id": "68342777",
   "metadata": {},
   "outputs": [
    {
     "name": "stdout",
     "output_type": "stream",
     "text": [
      "Sturges: 15 bins\n",
      "Rice: 44 bins\n",
      "Freedman–Diaconis: 22 bins\n"
     ]
    }
   ],
   "source": [
    "# Calcular bins com a regra de Sturges\n",
    "x = df['Mileage'].dropna()\n",
    "n = len(df['Mileage'])\n",
    "\n",
    "sturges_bins = int(np.ceil(np.log2(n) + 1))\n",
    "\n",
    "# Calcular bins com Rice\n",
    "rice_bins = int(np.ceil(2 * n ** (1/3)))\n",
    "\n",
    "# Calcular bins com Freedman–Diaconis\n",
    "iqr = x.quantile(0.75) - x.quantile(0.25)\n",
    "bin_width = 2 * iqr / (n ** (1/3))\n",
    "fd_bins = int(np.ceil((x.max() - x.min()) / bin_width))\n",
    "\n",
    "print(f'Sturges: {sturges_bins} bins')\n",
    "print(f'Rice: {rice_bins} bins')\n",
    "print(f'Freedman–Diaconis: {fd_bins} bins')"
   ]
  },
  {
   "cell_type": "code",
   "execution_count": 46,
   "id": "81e78273",
   "metadata": {},
   "outputs": [
    {
     "data": {
      "image/png": "[encoded data removed]",
      "text/plain": [
       "<Figure size 1000x600 with 1 Axes>"
      ]
     },
     "metadata": {},
     "output_type": "display_data"
    }
   ],
   "source": [
    "plt.figure(figsize=(10, 6))\n",
    "sns.histplot(df['Mileage'], bins=30, kde=True)\n",
    "plt.axvline(df['Mileage'].quantile(0.3), color='orange', linestyle='--', label='P30')\n",
    "plt.axvline(df['Mileage'].quantile(0.8), color='green', linestyle='--', label='P80')\n",
    "plt.legend()\n",
    "plt.title('Histograma com faixas mais comuns de quilometragem')\n",
    "plt.xlabel('Mileage')\n",
    "plt.ylabel('Frequência')\n",
    "plt.grid()\n",
    "plt.show()\n"
   ]
  },
  {
   "cell_type": "code",
   "execution_count": 56,
   "id": "98202c5f",
   "metadata": {},
   "outputs": [
    {
     "name": "stdout",
     "output_type": "stream",
     "text": [
      "IQR da quilometragem: 148928.25\n",
      "Quartis da quilometragem:\n",
      "0.25     74649.25\n",
      "0.50    149587.00\n",
      "0.75    223577.50\n",
      "Name: Mileage, dtype: float64\n",
      "Percentis da quilometragem:\n",
      "0.1     29586.5\n",
      "0.2     59307.0\n",
      "0.3     89633.6\n",
      "0.4    119878.2\n",
      "0.6    179242.4\n",
      "0.7    208518.0\n",
      "0.8    238265.6\n",
      "0.9    269373.4\n",
      "Name: Mileage, dtype: float64\n",
      "Curtose da quilometragem: -1.1909668975513825\n",
      "Assimetria da quilometragem: 0.0009186334048228518\n"
     ]
    }
   ],
   "source": [
    "IQR_Mileage = df['Mileage'].quantile(0.75) - df['Mileage'].quantile(0.25)\n",
    "quartis = df['Mileage'].quantile([0.25, 0.5, 0.75])\n",
    "percentis = df['Mileage'].quantile([0.1, 0.2, 0.3, 0.4, 0.6, 0.7, 0.8, 0.9])\n",
    "curtose = stats.kurtosis(df['Mileage'])\n",
    "assimetria = stats.skew(df['Mileage'])\n",
    "print(f'IQR da quilometragem: {IQR_Mileage}')\n",
    "print(f'Quartis da quilometragem:\\n{quartis}')\n",
    "print(f'Percentis da quilometragem:\\n{percentis}')\n",
    "print(f'Curtose da quilometragem: {curtose}')\n",
    "print(f'Assimetria da quilometragem: {assimetria}')"
   ]
  },
  {
   "cell_type": "code",
   "execution_count": 52,
   "id": "ba0c965e",
   "metadata": {},
   "outputs": [
    {
     "data": {
      "image/png": "[encoded data removed]",
      "text/plain": [
       "<Figure size 640x480 with 1 Axes>"
      ]
     },
     "metadata": {},
     "output_type": "display_data"
    }
   ],
   "source": [
    "plt.hist(df['Mileage'], bins=30, edgecolor='black', alpha=0.7)\n",
    "plt.axvline(df['Mileage'].quantile(0.25), color='orange', linestyle='--', label='Q1')\n",
    "plt.axvline(df['Mileage'].quantile(0.5), color='green', linestyle='--', label='Mediana')\n",
    "plt.axvline(df['Mileage'].quantile(0.75), color='orange', linestyle='--', label='Q3')\n",
    "plt.axvline(df['Mileage'].quantile(0.3), color='red', linestyle=':', label='P30')\n",
    "plt.axvline(df['Mileage'].quantile(0.8), color='red', linestyle=':', label='P80')\n",
    "plt.legend()\n",
    "plt.title('Distribuição da Quilometragem com Quartis e Percentis')\n",
    "plt.grid()\n",
    "plt.show()\n"
   ]
  },
  {
   "cell_type": "markdown",
   "id": "6a132c5d",
   "metadata": {},
   "source": [
    "> Os dados da quilometragem (em milhas) estão bem dispersos ao entorno do conjunto dos valores\n",
    "\n",
    "> A maior parte se encontra dentro da faixa (p3 - p8) de aproximadamente: 90.000 - 240.000 rodados (milhas/ km)\n",
    "\n",
    "> Embora a distribuição seja simétrica, a própria curtose mostra que ela não é normal, pelo formato \"achatado\" (platocurtico) da curva"
   ]
  },
  {
   "cell_type": "markdown",
   "id": "0bb31d60",
   "metadata": {},
   "source": [
    "### `Doors`:"
   ]
  },
  {
   "cell_type": "code",
   "execution_count": 66,
   "id": "a070b56f",
   "metadata": {},
   "outputs": [
    {
     "data": {
      "application/vnd.microsoft.datawrangler.viewer.v0+json": {
       "columns": [
        {
         "name": "index",
         "rawType": "int64",
         "type": "integer"
        },
        {
         "name": "Doors",
         "rawType": "int64",
         "type": "integer"
        },
        {
         "name": "Contagem",
         "rawType": "int64",
         "type": "integer"
        },
        {
         "name": "Proporção (%)",
         "rawType": "float64",
         "type": "float"
        }
       ],
       "ref": "38d336c5-802c-47a0-a373-d668a7c0c9bc",
       "rows": [
        [
         "0",
         "3",
         "2575",
         "25.75"
        ],
        [
         "1",
         "4",
         "2514",
         "25.14"
        ],
        [
         "2",
         "5",
         "2456",
         "24.56"
        ],
        [
         "3",
         "2",
         "2455",
         "24.55"
        ]
       ],
       "shape": {
        "columns": 3,
        "rows": 4
       }
      },
      "text/html": [
       "<div>\n",
       "<style scoped>\n",
       "    .dataframe tbody tr th:only-of-type {\n",
       "        vertical-align: middle;\n",
       "    }\n",
       "\n",
       "    .dataframe tbody tr th {\n",
       "        vertical-align: top;\n",
       "    }\n",
       "\n",
       "    .dataframe thead th {\n",
       "        text-align: right;\n",
       "    }\n",
       "</style>\n",
       "<table border=\"1\" class=\"dataframe\">\n",
       "  <thead>\n",
       "    <tr style=\"text-align: right;\">\n",
       "      <th></th>\n",
       "      <th>Doors</th>\n",
       "      <th>Contagem</th>\n",
       "      <th>Proporção (%)</th>\n",
       "    </tr>\n",
       "  </thead>\n",
       "  <tbody>\n",
       "    <tr>\n",
       "      <th>0</th>\n",
       "      <td>3</td>\n",
       "      <td>2575</td>\n",
       "      <td>25.75</td>\n",
       "    </tr>\n",
       "    <tr>\n",
       "      <th>1</th>\n",
       "      <td>4</td>\n",
       "      <td>2514</td>\n",
       "      <td>25.14</td>\n",
       "    </tr>\n",
       "    <tr>\n",
       "      <th>2</th>\n",
       "      <td>5</td>\n",
       "      <td>2456</td>\n",
       "      <td>24.56</td>\n",
       "    </tr>\n",
       "    <tr>\n",
       "      <th>3</th>\n",
       "      <td>2</td>\n",
       "      <td>2455</td>\n",
       "      <td>24.55</td>\n",
       "    </tr>\n",
       "  </tbody>\n",
       "</table>\n",
       "</div>"
      ],
      "text/plain": [
       "   Doors  Contagem  Proporção (%)\n",
       "0      3      2575          25.75\n",
       "1      4      2514          25.14\n",
       "2      5      2456          24.56\n",
       "3      2      2455          24.55"
      ]
     },
     "execution_count": 66,
     "metadata": {},
     "output_type": "execute_result"
    }
   ],
   "source": [
    "estatistica_qualitativa(df, 'Doors')"
   ]
  },
  {
   "cell_type": "code",
   "execution_count": 67,
   "id": "aea0f95b",
   "metadata": {},
   "outputs": [
    {
     "data": {
      "image/png": "[encoded data removed]",
      "text/plain": [
       "<Figure size 1000x600 with 1 Axes>"
      ]
     },
     "metadata": {},
     "output_type": "display_data"
    }
   ],
   "source": [
    "plot_bar(df, 'Doors')"
   ]
  },
  {
   "cell_type": "markdown",
   "id": "aaf3e13a",
   "metadata": {},
   "source": [
    "> A quantidade de portas varia entre 2, 3, 4 ou 5 portas (possivelmente variando de acordo com modelo hatch, hatchback ou sedan)\n",
    "\n",
    "> As classes estão relativamente balanceadas em relação a quantidade de registroos de veículos com cada quantidade de portas."
   ]
  },
  {
   "cell_type": "markdown",
   "id": "8c97a2c2",
   "metadata": {},
   "source": [
    "### `Owner_Count`"
   ]
  },
  {
   "cell_type": "code",
   "execution_count": 70,
   "id": "d051341c",
   "metadata": {},
   "outputs": [
    {
     "data": {
      "application/vnd.microsoft.datawrangler.viewer.v0+json": {
       "columns": [
        {
         "name": "index",
         "rawType": "object",
         "type": "string"
        },
        {
         "name": "Owner_Count",
         "rawType": "float64",
         "type": "float"
        }
       ],
       "ref": "caec4179-169c-46ce-8d72-fa0c2048fd83",
       "rows": [
        [
         "count",
         "10000.0"
        ],
        [
         "mean",
         "2.9911"
        ],
        [
         "std",
         "1.4226816904421145"
        ],
        [
         "min",
         "1.0"
        ],
        [
         "25%",
         "2.0"
        ],
        [
         "50%",
         "3.0"
        ],
        [
         "75%",
         "4.0"
        ],
        [
         "max",
         "5.0"
        ]
       ],
       "shape": {
        "columns": 1,
        "rows": 8
       }
      },
      "text/plain": [
       "count    10000.000000\n",
       "mean         2.991100\n",
       "std          1.422682\n",
       "min          1.000000\n",
       "25%          2.000000\n",
       "50%          3.000000\n",
       "75%          4.000000\n",
       "max          5.000000\n",
       "Name: Owner_Count, dtype: float64"
      ]
     },
     "execution_count": 70,
     "metadata": {},
     "output_type": "execute_result"
    }
   ],
   "source": [
    "df['Owner_Count'].describe()"
   ]
  },
  {
   "cell_type": "code",
   "execution_count": 71,
   "id": "b18a5af8",
   "metadata": {},
   "outputs": [
    {
     "data": {
      "application/vnd.microsoft.datawrangler.viewer.v0+json": {
       "columns": [
        {
         "name": "Owner_Count",
         "rawType": "int64",
         "type": "integer"
        },
        {
         "name": "count",
         "rawType": "int64",
         "type": "integer"
        }
       ],
       "ref": "bd2be3ce-b492-4484-b9b8-a83b58528d8a",
       "rows": [
        [
         "5",
         "2036"
        ],
        [
         "1",
         "2036"
        ],
        [
         "2",
         "2020"
        ],
        [
         "3",
         "1977"
        ],
        [
         "4",
         "1931"
        ]
       ],
       "shape": {
        "columns": 1,
        "rows": 5
       }
      },
      "text/plain": [
       "Owner_Count\n",
       "5    2036\n",
       "1    2036\n",
       "2    2020\n",
       "3    1977\n",
       "4    1931\n",
       "Name: count, dtype: int64"
      ]
     },
     "execution_count": 71,
     "metadata": {},
     "output_type": "execute_result"
    }
   ],
   "source": [
    "df['Owner_Count'].value_counts()"
   ]
  },
  {
   "cell_type": "code",
   "execution_count": 79,
   "id": "1203a4c1",
   "metadata": {},
   "outputs": [
    {
     "data": {
      "image/png": "[encoded data removed]",
      "text/plain": [
       "<Figure size 1000x600 with 1 Axes>"
      ]
     },
     "metadata": {},
     "output_type": "display_data"
    }
   ],
   "source": [
    "plot_bar(df_sort_owner, 'Owner_Count')"
   ]
  },
  {
   "cell_type": "markdown",
   "id": "6c849256",
   "metadata": {},
   "source": [
    "> A quantidade de donos que um veículo já teve tem quantidade de registros bimodal, ou seja, a maior parte dos veículos já teve ou 5 donos ou apenas 1\n",
    "\n",
    "> No demais, apesar deste fator, a quantidade de registros é balanceada de acordo com as classes de quantidade de donos."
   ]
  },
  {
   "cell_type": "markdown",
   "id": "50044da8",
   "metadata": {},
   "source": [
    "### `Price`"
   ]
  },
  {
   "cell_type": "code",
   "execution_count": 80,
   "id": "0de0d030",
   "metadata": {},
   "outputs": [
    {
     "data": {
      "application/vnd.microsoft.datawrangler.viewer.v0+json": {
       "columns": [
        {
         "name": "index",
         "rawType": "object",
         "type": "string"
        },
        {
         "name": "Price",
         "rawType": "float64",
         "type": "float"
        }
       ],
       "ref": "394f33dc-aa4f-4e74-b5c7-65d431b37444",
       "rows": [
        [
         "count",
         "10000.0"
        ],
        [
         "mean",
         "8852.9644"
        ],
        [
         "std",
         "3112.596810289277"
        ],
        [
         "min",
         "2000.0"
        ],
        [
         "25%",
         "6646.0"
        ],
        [
         "50%",
         "8858.5"
        ],
        [
         "75%",
         "11086.5"
        ],
        [
         "max",
         "18301.0"
        ]
       ],
       "shape": {
        "columns": 1,
        "rows": 8
       }
      },
      "text/plain": [
       "count    10000.00000\n",
       "mean      8852.96440\n",
       "std       3112.59681\n",
       "min       2000.00000\n",
       "25%       6646.00000\n",
       "50%       8858.50000\n",
       "75%      11086.50000\n",
       "max      18301.00000\n",
       "Name: Price, dtype: float64"
      ]
     },
     "execution_count": 80,
     "metadata": {},
     "output_type": "execute_result"
    }
   ],
   "source": [
    "df['Price'].describe()"
   ]
  },
  {
   "cell_type": "code",
   "execution_count": 82,
   "id": "96b1e55b",
   "metadata": {},
   "outputs": [
    {
     "name": "stdout",
     "output_type": "stream",
     "text": [
      "Sturges: 15 bins\n",
      "Rice: 44 bins\n",
      "Freedman–Diaconis: 40 bins\n"
     ]
    }
   ],
   "source": [
    "# Calcular bins com a regra de Sturges\n",
    "x = df['Price'].dropna()\n",
    "n = len(df['Price'])\n",
    "\n",
    "sturges_bins = int(np.ceil(np.log2(n) + 1))\n",
    "\n",
    "# Calcular bins com Rice\n",
    "rice_bins = int(np.ceil(2 * n ** (1/3)))\n",
    "\n",
    "# Calcular bins com Freedman–Diaconis\n",
    "iqr = x.quantile(0.75) - x.quantile(0.25)\n",
    "bin_width = 2 * iqr / (n ** (1/3))\n",
    "fd_bins = int(np.ceil((x.max() - x.min()) / bin_width))\n",
    "\n",
    "print(f'Sturges: {sturges_bins} bins')\n",
    "print(f'Rice: {rice_bins} bins')\n",
    "print(f'Freedman–Diaconis: {fd_bins} bins')"
   ]
  },
  {
   "cell_type": "code",
   "execution_count": 83,
   "id": "38dfa621",
   "metadata": {},
   "outputs": [
    {
     "data": {
      "image/png": "[encoded data removed]",
      "text/plain": [
       "<Figure size 1000x600 with 1 Axes>"
      ]
     },
     "metadata": {},
     "output_type": "display_data"
    }
   ],
   "source": [
    "plt.figure(figsize=(10, 6))\n",
    "sns.histplot(df['Price'], bins=30, kde=True)\n",
    "plt.axvline(df['Price'].quantile(0.3), color='orange', linestyle='--', label='P30')\n",
    "plt.axvline(df['Price'].quantile(0.8), color='green', linestyle='--', label='P80')\n",
    "plt.legend()\n",
    "plt.title('Histograma com faixas mais comuns de preços')\n",
    "plt.xlabel('Preço')\n",
    "plt.ylabel('Frequência')\n",
    "plt.grid()\n",
    "plt.show()\n"
   ]
  },
  {
   "cell_type": "code",
   "execution_count": null,
   "id": "54946c1c",
   "metadata": {},
   "outputs": [
    {
     "name": "stdout",
     "output_type": "stream",
     "text": [
      "IQR do preço: 4440.5\n",
      "Interval de confiança do preço: 6646.0 - 11086.5\n",
      "Quartis do preço:\n",
      "0.25     6646.0\n",
      "0.50     8858.5\n",
      "0.75    11086.5\n",
      "Name: Price, dtype: float64\n",
      "Percentis do preço:\n",
      "0.1     4672.4\n",
      "0.2     6067.4\n",
      "0.3     7127.7\n",
      "0.4     8038.0\n",
      "0.6     9701.4\n",
      "0.7    10577.0\n",
      "0.8    11602.6\n",
      "0.9    12945.3\n",
      "Name: Price, dtype: float64\n",
      "Curtose do preço: -0.4823043030221643\n",
      "Assimetria do preço: 0.026132295080798108\n"
     ]
    }
   ],
   "source": [
    "print(f'IQR do preço: {df[\"Price\"].quantile(0.75) - df[\"Price\"].quantile(0.25)}')\n",
    "print(f'Quartis do preço:\\n{df[\"Price\"].quantile([0.25, 0.5, 0.75])}')\n",
    "print(f'Percentis do preço:\\n{df[\"Price\"].quantile([0.1, 0.2, 0.3, 0.4, 0.6, 0.7, 0.8, 0.9])}')\n",
    "print(f'Curtose do preço: {stats.kurtosis(df[\"Price\"])}')\n",
    "print(f'Assimetria do preço: {stats.skew(df[\"Price\"])}')"
   ]
  },
  {
   "cell_type": "code",
   "execution_count": 84,
   "id": "a601352d",
   "metadata": {},
   "outputs": [
    {
     "data": {
      "image/png": "[encoded data removed]",
      "text/plain": [
       "<Figure size 1000x600 with 1 Axes>"
      ]
     },
     "metadata": {},
     "output_type": "display_data"
    }
   ],
   "source": [
    "plot_boxplot(df, 'Price')"
   ]
  },
  {
   "cell_type": "code",
   "execution_count": 88,
   "id": "5e934452",
   "metadata": {},
   "outputs": [
    {
     "name": "stdout",
     "output_type": "stream",
     "text": [
      "Limiar inferior: -14.75\n",
      "Limiar superior: 17747.25\n"
     ]
    }
   ],
   "source": [
    "limiar_inferior = df['Price'].quantile(0.25) - 1.5 * (df['Price'].quantile(0.75) - df['Price'].quantile(0.25))\n",
    "limiar_superior = df['Price'].quantile(0.75) + 1.5 * (df['Price'].quantile(0.75) - df['Price'].quantile(0.25))\n",
    "print(f'Limiar inferior: {limiar_inferior}')\n",
    "print(f'Limiar superior: {limiar_superior}')"
   ]
  },
  {
   "cell_type": "markdown",
   "id": "4b5c2f18",
   "metadata": {},
   "source": [
    "> A maior parte dos dados se concentra entre valores de 6500 - 11700, sendo que valores maiores que 17000 já podem ser considerados como outliers de preço.\n",
    "\n",
    "> O centro da distribuição se da ao entorno do valor de 8858\n",
    "\n",
    "> A mediana próxima da média, junto ao baixo grau de assimetria indicam uma possível característica de normalidade.\n",
    "\n",
    "> Todavia, a curtose negativa, mesmo que com baixo valor, indica uma distribuição platicúrtica, em que há menos valores concentrados nas extremidades (comparando com a distribuição normal) e um maior conjunto de valores no intervalo central."
   ]
  }
 ],
 "metadata": {
  "kernelspec": {
   "display_name": "venv_padrao",
   "language": "python",
   "name": "python3"
  },
  "language_info": {
   "codemirror_mode": {
    "name": "ipython",
    "version": 3
   },
   "file_extension": ".py",
   "mimetype": "text/x-python",
   "name": "python",
   "nbconvert_exporter": "python",
   "pygments_lexer": "ipython3",
   "version": "3.11.11"
  }
 },
 "nbformat": 4,
 "nbformat_minor": 5
}
