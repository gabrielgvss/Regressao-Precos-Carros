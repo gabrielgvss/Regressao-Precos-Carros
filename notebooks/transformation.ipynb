{
 "cells": [
  {
   "cell_type": "markdown",
   "id": "daf07d37",
   "metadata": {},
   "source": [
    "# Transformação de Dados pré-modelagem para Regressão"
   ]
  },
  {
   "cell_type": "markdown",
   "id": "72a04d76",
   "metadata": {},
   "source": [
    "## 1) Imports"
   ]
  },
  {
   "cell_type": "code",
   "execution_count": 12,
   "id": "f4ee04c9",
   "metadata": {},
   "outputs": [
    {
     "data": {
      "application/vnd.microsoft.datawrangler.viewer.v0+json": {
       "columns": [
        {
         "name": "index",
         "rawType": "int64",
         "type": "integer"
        },
        {
         "name": "Year",
         "rawType": "int64",
         "type": "integer"
        },
        {
         "name": "Engine_Size",
         "rawType": "float64",
         "type": "float"
        },
        {
         "name": "Mileage",
         "rawType": "int64",
         "type": "integer"
        },
        {
         "name": "Fuel_Type",
         "rawType": "object",
         "type": "string"
        },
        {
         "name": "Transmission",
         "rawType": "object",
         "type": "string"
        },
        {
         "name": "Price",
         "rawType": "int64",
         "type": "integer"
        }
       ],
       "ref": "786c26c3-fcea-4774-8a8e-6fce41dd40d1",
       "rows": [
        [
         "0",
         "2020",
         "4.2",
         "289944",
         "Diesel",
         "Manual",
         "8501"
        ],
        [
         "1",
         "2012",
         "2.0",
         "5356",
         "Hybrid",
         "Automatic",
         "12092"
        ],
        [
         "2",
         "2020",
         "4.2",
         "231440",
         "Diesel",
         "Automatic",
         "11171"
        ],
        [
         "3",
         "2023",
         "2.0",
         "160971",
         "Electric",
         "Manual",
         "11780"
        ],
        [
         "4",
         "2003",
         "2.6",
         "286618",
         "Hybrid",
         "Semi-Automatic",
         "2867"
        ]
       ],
       "shape": {
        "columns": 6,
        "rows": 5
       }
      },
      "text/html": [
       "<div>\n",
       "<style scoped>\n",
       "    .dataframe tbody tr th:only-of-type {\n",
       "        vertical-align: middle;\n",
       "    }\n",
       "\n",
       "    .dataframe tbody tr th {\n",
       "        vertical-align: top;\n",
       "    }\n",
       "\n",
       "    .dataframe thead th {\n",
       "        text-align: right;\n",
       "    }\n",
       "</style>\n",
       "<table border=\"1\" class=\"dataframe\">\n",
       "  <thead>\n",
       "    <tr style=\"text-align: right;\">\n",
       "      <th></th>\n",
       "      <th>Year</th>\n",
       "      <th>Engine_Size</th>\n",
       "      <th>Mileage</th>\n",
       "      <th>Fuel_Type</th>\n",
       "      <th>Transmission</th>\n",
       "      <th>Price</th>\n",
       "    </tr>\n",
       "  </thead>\n",
       "  <tbody>\n",
       "    <tr>\n",
       "      <th>0</th>\n",
       "      <td>2020</td>\n",
       "      <td>4.2</td>\n",
       "      <td>289944</td>\n",
       "      <td>Diesel</td>\n",
       "      <td>Manual</td>\n",
       "      <td>8501</td>\n",
       "    </tr>\n",
       "    <tr>\n",
       "      <th>1</th>\n",
       "      <td>2012</td>\n",
       "      <td>2.0</td>\n",
       "      <td>5356</td>\n",
       "      <td>Hybrid</td>\n",
       "      <td>Automatic</td>\n",
       "      <td>12092</td>\n",
       "    </tr>\n",
       "    <tr>\n",
       "      <th>2</th>\n",
       "      <td>2020</td>\n",
       "      <td>4.2</td>\n",
       "      <td>231440</td>\n",
       "      <td>Diesel</td>\n",
       "      <td>Automatic</td>\n",
       "      <td>11171</td>\n",
       "    </tr>\n",
       "    <tr>\n",
       "      <th>3</th>\n",
       "      <td>2023</td>\n",
       "      <td>2.0</td>\n",
       "      <td>160971</td>\n",
       "      <td>Electric</td>\n",
       "      <td>Manual</td>\n",
       "      <td>11780</td>\n",
       "    </tr>\n",
       "    <tr>\n",
       "      <th>4</th>\n",
       "      <td>2003</td>\n",
       "      <td>2.6</td>\n",
       "      <td>286618</td>\n",
       "      <td>Hybrid</td>\n",
       "      <td>Semi-Automatic</td>\n",
       "      <td>2867</td>\n",
       "    </tr>\n",
       "  </tbody>\n",
       "</table>\n",
       "</div>"
      ],
      "text/plain": [
       "   Year  Engine_Size  Mileage Fuel_Type    Transmission  Price\n",
       "0  2020          4.2   289944    Diesel          Manual   8501\n",
       "1  2012          2.0     5356    Hybrid       Automatic  12092\n",
       "2  2020          4.2   231440    Diesel       Automatic  11171\n",
       "3  2023          2.0   160971  Electric          Manual  11780\n",
       "4  2003          2.6   286618    Hybrid  Semi-Automatic   2867"
      ]
     },
     "execution_count": 12,
     "metadata": {},
     "output_type": "execute_result"
    }
   ],
   "source": [
    "# Import das bibliotecas necessárias\n",
    "import pandas as pd\n",
    "import numpy as np\n",
    "import scipy.stats as stats\n",
    "import seaborn as sns\n",
    "import matplotlib.pyplot as plt\n",
    "import datetime\n",
    "import seaborn as sns\n",
    "import sklearn\n",
    "import os\n",
    "\n",
    "# Import dos dados\n",
    "df = pd.read_csv('../dados/processed/car_price_dataset_for_regression_.csv')\n",
    "df.head()"
   ]
  },
  {
   "cell_type": "markdown",
   "id": "c1e8aebe",
   "metadata": {},
   "source": [
    "## 2) Variáveis Numéricas:"
   ]
  },
  {
   "cell_type": "markdown",
   "id": "aea039fa",
   "metadata": {},
   "source": [
    "### `Year`:"
   ]
  },
  {
   "cell_type": "code",
   "execution_count": 13,
   "id": "92516e46",
   "metadata": {},
   "outputs": [
    {
     "data": {
      "application/vnd.microsoft.datawrangler.viewer.v0+json": {
       "columns": [
        {
         "name": "index",
         "rawType": "int64",
         "type": "integer"
        },
        {
         "name": "Engine_Size",
         "rawType": "float64",
         "type": "float"
        },
        {
         "name": "Mileage",
         "rawType": "int64",
         "type": "integer"
        },
        {
         "name": "Fuel_Type",
         "rawType": "object",
         "type": "string"
        },
        {
         "name": "Transmission",
         "rawType": "object",
         "type": "string"
        },
        {
         "name": "Price",
         "rawType": "int64",
         "type": "integer"
        },
        {
         "name": "Age",
         "rawType": "int64",
         "type": "integer"
        }
       ],
       "ref": "8fe9a4cc-6d01-4c36-a8ab-7e63bf7b1056",
       "rows": [
        [
         "0",
         "4.2",
         "289944",
         "Diesel",
         "Manual",
         "8501",
         "5"
        ],
        [
         "1",
         "2.0",
         "5356",
         "Hybrid",
         "Automatic",
         "12092",
         "13"
        ],
        [
         "2",
         "4.2",
         "231440",
         "Diesel",
         "Automatic",
         "11171",
         "5"
        ],
        [
         "3",
         "2.0",
         "160971",
         "Electric",
         "Manual",
         "11780",
         "2"
        ],
        [
         "4",
         "2.6",
         "286618",
         "Hybrid",
         "Semi-Automatic",
         "2867",
         "22"
        ]
       ],
       "shape": {
        "columns": 6,
        "rows": 5
       }
      },
      "text/html": [
       "<div>\n",
       "<style scoped>\n",
       "    .dataframe tbody tr th:only-of-type {\n",
       "        vertical-align: middle;\n",
       "    }\n",
       "\n",
       "    .dataframe tbody tr th {\n",
       "        vertical-align: top;\n",
       "    }\n",
       "\n",
       "    .dataframe thead th {\n",
       "        text-align: right;\n",
       "    }\n",
       "</style>\n",
       "<table border=\"1\" class=\"dataframe\">\n",
       "  <thead>\n",
       "    <tr style=\"text-align: right;\">\n",
       "      <th></th>\n",
       "      <th>Engine_Size</th>\n",
       "      <th>Mileage</th>\n",
       "      <th>Fuel_Type</th>\n",
       "      <th>Transmission</th>\n",
       "      <th>Price</th>\n",
       "      <th>Age</th>\n",
       "    </tr>\n",
       "  </thead>\n",
       "  <tbody>\n",
       "    <tr>\n",
       "      <th>0</th>\n",
       "      <td>4.2</td>\n",
       "      <td>289944</td>\n",
       "      <td>Diesel</td>\n",
       "      <td>Manual</td>\n",
       "      <td>8501</td>\n",
       "      <td>5</td>\n",
       "    </tr>\n",
       "    <tr>\n",
       "      <th>1</th>\n",
       "      <td>2.0</td>\n",
       "      <td>5356</td>\n",
       "      <td>Hybrid</td>\n",
       "      <td>Automatic</td>\n",
       "      <td>12092</td>\n",
       "      <td>13</td>\n",
       "    </tr>\n",
       "    <tr>\n",
       "      <th>2</th>\n",
       "      <td>4.2</td>\n",
       "      <td>231440</td>\n",
       "      <td>Diesel</td>\n",
       "      <td>Automatic</td>\n",
       "      <td>11171</td>\n",
       "      <td>5</td>\n",
       "    </tr>\n",
       "    <tr>\n",
       "      <th>3</th>\n",
       "      <td>2.0</td>\n",
       "      <td>160971</td>\n",
       "      <td>Electric</td>\n",
       "      <td>Manual</td>\n",
       "      <td>11780</td>\n",
       "      <td>2</td>\n",
       "    </tr>\n",
       "    <tr>\n",
       "      <th>4</th>\n",
       "      <td>2.6</td>\n",
       "      <td>286618</td>\n",
       "      <td>Hybrid</td>\n",
       "      <td>Semi-Automatic</td>\n",
       "      <td>2867</td>\n",
       "      <td>22</td>\n",
       "    </tr>\n",
       "  </tbody>\n",
       "</table>\n",
       "</div>"
      ],
      "text/plain": [
       "   Engine_Size  Mileage Fuel_Type    Transmission  Price  Age\n",
       "0          4.2   289944    Diesel          Manual   8501    5\n",
       "1          2.0     5356    Hybrid       Automatic  12092   13\n",
       "2          4.2   231440    Diesel       Automatic  11171    5\n",
       "3          2.0   160971  Electric          Manual  11780    2\n",
       "4          2.6   286618    Hybrid  Semi-Automatic   2867   22"
      ]
     },
     "execution_count": 13,
     "metadata": {},
     "output_type": "execute_result"
    }
   ],
   "source": [
    "# Feature engineering: transformação em idade do veículo\n",
    "df['Age'] = datetime.datetime.now().year - df['Year']\n",
    "df.drop(columns=['Year'], inplace=True) # Remoção da coluna original 'Year'\n",
    "\n",
    "df.head()"
   ]
  },
  {
   "cell_type": "code",
   "execution_count": 14,
   "id": "604074d8",
   "metadata": {},
   "outputs": [
    {
     "data": {
      "text/plain": [
       "<Axes: >"
      ]
     },
     "execution_count": 14,
     "metadata": {},
     "output_type": "execute_result"
    },
    {
     "data": {
      "image/png": "[encoded data removed]",
      "text/plain": [
       "<Figure size 640x480 with 2 Axes>"
      ]
     },
     "metadata": {},
     "output_type": "display_data"
    }
   ],
   "source": [
    "sns.heatmap(df.corr(numeric_only=True), annot=True, cmap='coolwarm')"
   ]
  },
  {
   "cell_type": "code",
   "execution_count": 15,
   "id": "6380628f",
   "metadata": {},
   "outputs": [
    {
     "data": {
      "text/plain": [
       "<Axes: xlabel='Age', ylabel='Count'>"
      ]
     },
     "execution_count": 15,
     "metadata": {},
     "output_type": "execute_result"
    },
    {
     "data": {
      "image/png": "[encoded data removed]",
      "text/plain": [
       "<Figure size 640x480 with 1 Axes>"
      ]
     },
     "metadata": {},
     "output_type": "display_data"
    }
   ],
   "source": [
    "sns.histplot(df['Age'], bins=30, kde=True)"
   ]
  },
  {
   "cell_type": "markdown",
   "id": "01b7248e",
   "metadata": {},
   "source": [
    "> A variável Year contém uma informação temporal que, embora útil, representa o ano absoluto de fabricação do veículo. No entanto, o que realmente influencia o valor de revenda é o tempo de uso do carro em relação ao ano atual, ou seja, a sua idade.\n",
    "\n",
    "> Por isso, transformar Year em Age (por exemplo, ano_atual - Year) é uma prática recomendada, pois facilita a modelagem, melhora a interpretação dos coeficientes e torna o modelo mais robusto para projeções futuras."
   ]
  },
  {
   "cell_type": "markdown",
   "id": "64edc8cc",
   "metadata": {},
   "source": [
    "### `Engine_Size`"
   ]
  },
  {
   "cell_type": "markdown",
   "id": "0b1743c1",
   "metadata": {},
   "source": [
    "> Não necessita de transformação, uma vez que já está na escala contínua de valores, no formato computacional de float."
   ]
  },
  {
   "cell_type": "markdown",
   "id": "e32296a6",
   "metadata": {},
   "source": [
    "### `Milleage`:"
   ]
  },
  {
   "cell_type": "markdown",
   "id": "a7429496",
   "metadata": {},
   "source": [
    "> Também não necessita de transformação, uma vez que já está assim como Engine_Size, na escala contínua de valores."
   ]
  },
  {
   "cell_type": "markdown",
   "id": "1b3ac600",
   "metadata": {},
   "source": [
    "### `Fuel_Type` e `Transmission`:"
   ]
  },
  {
   "cell_type": "code",
   "execution_count": 16,
   "id": "65a9254e",
   "metadata": {},
   "outputs": [
    {
     "data": {
      "application/vnd.microsoft.datawrangler.viewer.v0+json": {
       "columns": [
        {
         "name": "index",
         "rawType": "int64",
         "type": "integer"
        },
        {
         "name": "Engine_Size",
         "rawType": "float64",
         "type": "float"
        },
        {
         "name": "Mileage",
         "rawType": "int64",
         "type": "integer"
        },
        {
         "name": "Price",
         "rawType": "int64",
         "type": "integer"
        },
        {
         "name": "Age",
         "rawType": "int64",
         "type": "integer"
        },
        {
         "name": "Fuel_Type_Electric",
         "rawType": "bool",
         "type": "boolean"
        },
        {
         "name": "Fuel_Type_Hybrid",
         "rawType": "bool",
         "type": "boolean"
        },
        {
         "name": "Fuel_Type_Petrol",
         "rawType": "bool",
         "type": "boolean"
        },
        {
         "name": "Transmission_Manual",
         "rawType": "bool",
         "type": "boolean"
        },
        {
         "name": "Transmission_Semi-Automatic",
         "rawType": "bool",
         "type": "boolean"
        }
       ],
       "ref": "724b28e8-f0ed-44d6-935a-b183536d7e4a",
       "rows": [
        [
         "0",
         "4.2",
         "289944",
         "8501",
         "5",
         "False",
         "False",
         "False",
         "True",
         "False"
        ],
        [
         "1",
         "2.0",
         "5356",
         "12092",
         "13",
         "False",
         "True",
         "False",
         "False",
         "False"
        ],
        [
         "2",
         "4.2",
         "231440",
         "11171",
         "5",
         "False",
         "False",
         "False",
         "False",
         "False"
        ],
        [
         "3",
         "2.0",
         "160971",
         "11780",
         "2",
         "True",
         "False",
         "False",
         "True",
         "False"
        ],
        [
         "4",
         "2.6",
         "286618",
         "2867",
         "22",
         "False",
         "True",
         "False",
         "False",
         "True"
        ]
       ],
       "shape": {
        "columns": 9,
        "rows": 5
       }
      },
      "text/html": [
       "<div>\n",
       "<style scoped>\n",
       "    .dataframe tbody tr th:only-of-type {\n",
       "        vertical-align: middle;\n",
       "    }\n",
       "\n",
       "    .dataframe tbody tr th {\n",
       "        vertical-align: top;\n",
       "    }\n",
       "\n",
       "    .dataframe thead th {\n",
       "        text-align: right;\n",
       "    }\n",
       "</style>\n",
       "<table border=\"1\" class=\"dataframe\">\n",
       "  <thead>\n",
       "    <tr style=\"text-align: right;\">\n",
       "      <th></th>\n",
       "      <th>Engine_Size</th>\n",
       "      <th>Mileage</th>\n",
       "      <th>Price</th>\n",
       "      <th>Age</th>\n",
       "      <th>Fuel_Type_Electric</th>\n",
       "      <th>Fuel_Type_Hybrid</th>\n",
       "      <th>Fuel_Type_Petrol</th>\n",
       "      <th>Transmission_Manual</th>\n",
       "      <th>Transmission_Semi-Automatic</th>\n",
       "    </tr>\n",
       "  </thead>\n",
       "  <tbody>\n",
       "    <tr>\n",
       "      <th>0</th>\n",
       "      <td>4.2</td>\n",
       "      <td>289944</td>\n",
       "      <td>8501</td>\n",
       "      <td>5</td>\n",
       "      <td>False</td>\n",
       "      <td>False</td>\n",
       "      <td>False</td>\n",
       "      <td>True</td>\n",
       "      <td>False</td>\n",
       "    </tr>\n",
       "    <tr>\n",
       "      <th>1</th>\n",
       "      <td>2.0</td>\n",
       "      <td>5356</td>\n",
       "      <td>12092</td>\n",
       "      <td>13</td>\n",
       "      <td>False</td>\n",
       "      <td>True</td>\n",
       "      <td>False</td>\n",
       "      <td>False</td>\n",
       "      <td>False</td>\n",
       "    </tr>\n",
       "    <tr>\n",
       "      <th>2</th>\n",
       "      <td>4.2</td>\n",
       "      <td>231440</td>\n",
       "      <td>11171</td>\n",
       "      <td>5</td>\n",
       "      <td>False</td>\n",
       "      <td>False</td>\n",
       "      <td>False</td>\n",
       "      <td>False</td>\n",
       "      <td>False</td>\n",
       "    </tr>\n",
       "    <tr>\n",
       "      <th>3</th>\n",
       "      <td>2.0</td>\n",
       "      <td>160971</td>\n",
       "      <td>11780</td>\n",
       "      <td>2</td>\n",
       "      <td>True</td>\n",
       "      <td>False</td>\n",
       "      <td>False</td>\n",
       "      <td>True</td>\n",
       "      <td>False</td>\n",
       "    </tr>\n",
       "    <tr>\n",
       "      <th>4</th>\n",
       "      <td>2.6</td>\n",
       "      <td>286618</td>\n",
       "      <td>2867</td>\n",
       "      <td>22</td>\n",
       "      <td>False</td>\n",
       "      <td>True</td>\n",
       "      <td>False</td>\n",
       "      <td>False</td>\n",
       "      <td>True</td>\n",
       "    </tr>\n",
       "  </tbody>\n",
       "</table>\n",
       "</div>"
      ],
      "text/plain": [
       "   Engine_Size  Mileage  Price  Age  Fuel_Type_Electric  Fuel_Type_Hybrid  \\\n",
       "0          4.2   289944   8501    5               False             False   \n",
       "1          2.0     5356  12092   13               False              True   \n",
       "2          4.2   231440  11171    5               False             False   \n",
       "3          2.0   160971  11780    2                True             False   \n",
       "4          2.6   286618   2867   22               False              True   \n",
       "\n",
       "   Fuel_Type_Petrol  Transmission_Manual  Transmission_Semi-Automatic  \n",
       "0             False                 True                        False  \n",
       "1             False                False                        False  \n",
       "2             False                False                        False  \n",
       "3             False                 True                        False  \n",
       "4             False                False                         True  "
      ]
     },
     "execution_count": 16,
     "metadata": {},
     "output_type": "execute_result"
    }
   ],
   "source": [
    "# Transformação one hot encoding para variáveis categóricas\n",
    "df = pd.get_dummies(df, columns=['Fuel_Type', 'Transmission'], drop_first=True)\n",
    "# Verificação das colunas após transformação\n",
    "df.head(5)"
   ]
  },
  {
   "cell_type": "markdown",
   "id": "e4dbf1c1",
   "metadata": {},
   "source": [
    "`Price`"
   ]
  },
  {
   "cell_type": "markdown",
   "id": "b395f4fb",
   "metadata": {},
   "source": [
    "> A variável Price não precisa ser transformada neste momento. Sua distribuição é suficientemente simétrica e adequada para o uso em um modelo de regressão linear, especialmente considerando o grande volume de dados e a robustez do método."
   ]
  },
  {
   "cell_type": "markdown",
   "id": "0facd595",
   "metadata": {},
   "source": [
    "## 3) Salvando dados"
   ]
  },
  {
   "cell_type": "code",
   "execution_count": 17,
   "id": "ab911909",
   "metadata": {},
   "outputs": [
    {
     "name": "stdout",
     "output_type": "stream",
     "text": [
      "Criando novo arquivo: car_price_dataset_transformed.csv\n",
      "Arquivo salvo em: ../dados/processed\\car_price_dataset_transformed.csv\n"
     ]
    }
   ],
   "source": [
    "dados_transformados = df.copy()\n",
    "\n",
    "diretorio = '../dados/processed'\n",
    "nome_arquivo = 'car_price_dataset_transformed.csv'\n",
    "caminho_completo = os.path.join(diretorio, nome_arquivo)\n",
    "\n",
    "# Criar diretório se não existir\n",
    "os.makedirs(diretorio, exist_ok=True)\n",
    "\n",
    "# Verificar se já existe\n",
    "if os.path.isfile(caminho_completo):\n",
    "    print(f\"Arquivo {nome_arquivo} já existia, será sobrescrito.\")\n",
    "else:\n",
    "    print(f\"Criando novo arquivo: {nome_arquivo}\")\n",
    "\n",
    "# Salvar\n",
    "dados_transformados.to_csv(caminho_completo, index=False)\n",
    "print(f\"Arquivo salvo em: {caminho_completo}\")"
   ]
  },
  {
   "cell_type": "markdown",
   "id": "c0d78442",
   "metadata": {},
   "source": []
  }
 ],
 "metadata": {
  "kernelspec": {
   "display_name": "venv_padrao",
   "language": "python",
   "name": "python3"
  },
  "language_info": {
   "codemirror_mode": {
    "name": "ipython",
    "version": 3
   },
   "file_extension": ".py",
   "mimetype": "text/x-python",
   "name": "python",
   "nbconvert_exporter": "python",
   "pygments_lexer": "ipython3",
   "version": "3.11.11"
  }
 },
 "nbformat": 4,
 "nbformat_minor": 5
}
